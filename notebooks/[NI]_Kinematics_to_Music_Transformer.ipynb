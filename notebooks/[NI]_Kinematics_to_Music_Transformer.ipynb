{
  "cells": [
    {
      "cell_type": "markdown",
      "metadata": {
        "id": "view-in-github",
        "colab_type": "text"
      },
      "source": [
        "<a href=\"https://colab.research.google.com/github/dakilaledesma/VIGOR2/blob/main/notebooks/%5BNI%5D_Kinematics_to_Music_Transformer.ipynb\" target=\"_parent\"><img src=\"https://colab.research.google.com/assets/colab-badge.svg\" alt=\"Open In Colab\"/></a>"
      ]
    },
    {
      "cell_type": "code",
      "source": [
        "import warnings\n",
        "warnings.filterwarnings('ignore')"
      ],
      "metadata": {
        "id": "XysEK55L30ix"
      },
      "execution_count": null,
      "outputs": []
    },
    {
      "cell_type": "code",
      "execution_count": null,
      "metadata": {
        "colab": {
          "base_uri": "https://localhost:8080/"
        },
        "id": "Uv8KgyGL-wtX",
        "outputId": "18b365d0-1c67-41c3-faa4-e3caba15afb6"
      },
      "outputs": [
        {
          "output_type": "stream",
          "name": "stdout",
          "text": [
            "  % Total    % Received % Xferd  Average Speed   Time    Time     Time  Current\n",
            "                                 Dload  Upload   Total   Spent    Left  Speed\n",
            "100  305M  100  305M    0     0  38.9M      0  0:00:07  0:00:07 --:--:-- 52.0M\n",
            "  % Total    % Received % Xferd  Average Speed   Time    Time     Time  Current\n",
            "                                 Dload  Upload   Total   Spent    Left  Speed\n",
            "100 90.6M  100 90.6M    0     0  25.6M      0  0:00:03  0:00:03 --:--:-- 25.6M\n",
            "  % Total    % Received % Xferd  Average Speed   Time    Time     Time  Current\n",
            "                                 Dload  Upload   Total   Spent    Left  Speed\n",
            "100  834M  100  834M    0     0  46.0M      0  0:00:18  0:00:18 --:--:-- 52.5M\n"
          ]
        }
      ],
      "source": [
        "! curl -L https://herbarium.ucht.cloud/s/AoZFbaKWofEfHiF/download --output motions.zip\n",
        "! curl -L https://herbarium.ucht.cloud/s/Cn55KNbEBqtrDCg/download --output mp3.zip\n",
        "! curl -L https://herbarium.ucht.cloud/s/MayD6rAGWoKmGw8/download --output keypoints3d.zip\n",
        "! unzip -q motions.zip\n",
        "! unzip -q keypoints3d.zip\n",
        "! unzip -q mp3.zip"
      ]
    },
    {
      "cell_type": "code",
      "source": [
        "audio_dict = {}\n",
        "motion_dict = {}"
      ],
      "metadata": {
        "id": "4IEfhm99BUSj"
      },
      "execution_count": null,
      "outputs": []
    },
    {
      "cell_type": "code",
      "execution_count": null,
      "metadata": {
        "id": "pYUyel4isa5S"
      },
      "outputs": [],
      "source": [
        "# Thanks to https://stackoverflow.com/questions/69387104/how-to-convert-wav-audio-file-from-mel-spectrogram\n",
        "import librosa\n",
        "import os\n",
        "from glob import glob\n",
        "\n",
        "for aud in glob(\"mp3/*.mp3\"):\n",
        "  my_audio_as_np_array, my_sample_rate = librosa.load(aud)\n",
        "\n",
        "  spec = librosa.feature.melspectrogram(y=my_audio_as_np_array,\n",
        "                                          sr=my_sample_rate, \n",
        "                                              n_fft=2048, \n",
        "                                              hop_length=512, \n",
        "                                              win_length=None, \n",
        "                                              window='hann', \n",
        "                                              center=True, \n",
        "                                              pad_mode='reflect', \n",
        "                                              power=2.0,\n",
        "                                      n_mels=128)\n",
        "  spec = spec.T[:1272].T # Minimum is (128, 1273)\n",
        "  bn = os.path.basename(aud).replace(\".mp3\", '')\n",
        "  audio_dict[bn] = spec"
      ]
    },
    {
      "cell_type": "code",
      "source": [
        "import pickle\n",
        "import numpy as np\n",
        "import matplotlib.pyplot as plt\n",
        "\n",
        "for fn in glob(\"keypoints3d/*.pkl\"):\n",
        "  with open(fn, \"rb\") as motion:\n",
        "    m = pickle.load(motion)\n",
        "    bn = os.path.basename(fn).replace(\".pkl\", '')\n",
        "    motion_dict[bn] = m[\"keypoints3d\"][:426] # Minimum is (426, 17, 3), axis=0 is all different"
      ],
      "metadata": {
        "id": "fZn4k-IN-xps"
      },
      "execution_count": null,
      "outputs": []
    },
    {
      "cell_type": "code",
      "source": [
        "print(motion_dict.keys())"
      ],
      "metadata": {
        "colab": {
          "base_uri": "https://localhost:8080/"
        },
        "id": "V2POifJQPjhf",
        "outputId": "982303cc-bc01-4691-fa85-96705037e7b8"
      },
      "execution_count": null,
      "outputs": [
        {
          "output_type": "stream",
          "name": "stdout",
          "text": [
            "dict_keys(['gJB_sBM_cAll_d09_mJB5_ch06', 'gBR_sBM_cAll_d06_mBR5_ch05', 'gPO_sBM_cAll_d11_mPO1_ch09', 'gLH_sFM_cAll_d16_mLH3_ch04', 'gJS_sFM_cAll_d01_mJS2_ch03', 'gLO_sBM_cAll_d13_mLO0_ch01', 'gMH_sFM_cAll_d24_mMH0_ch15', 'gBR_sBM_cAll_d06_mBR5_ch04', 'gPO_sBM_cAll_d11_mPO1_ch02', 'gLH_sBM_cAll_d16_mLH0_ch09', 'gJB_sBM_cAll_d07_mJB1_ch03', 'gHO_sBM_cAll_d19_mHO2_ch06', 'gLO_sBM_cAll_d15_mLO2_ch05', 'gHO_sBM_cAll_d19_mHO1_ch10', 'gWA_sBM_cAll_d25_mWA3_ch06', 'gJS_sBM_cAll_d01_mJS1_ch01', 'gMH_sBM_cAll_d23_mMH5_ch08', 'gHO_sBM_cAll_d20_mHO4_ch04', 'gBR_sBM_cAll_d06_mBR3_ch05', 'gHO_sBM_cAll_d20_mHO1_ch08', 'gJB_sBM_cAll_d09_mJB4_ch08', 'gLH_sBM_cAll_d16_mLH0_ch02', 'gWA_sBM_cAll_d26_mWA5_ch08', 'gLH_sBM_cAll_d16_mLH0_ch07', 'gJS_sBM_cAll_d03_mJS2_ch05', 'gMH_sBM_cAll_d23_mMH1_ch08', 'gKR_sBM_cAll_d30_mKR4_ch06', 'gJB_sBM_cAll_d07_mJB3_ch01', 'gMH_sBM_cAll_d23_mMH4_ch01', 'gMH_sFM_cAll_d24_mMH4_ch19', 'gJB_sBM_cAll_d07_mJB0_ch05', 'gPO_sBM_cAll_d12_mPO3_ch06', 'gJB_sBM_cAll_d08_mJB1_ch09', 'gMH_sBM_cAll_d24_mMH3_ch04', 'gJS_sBM_cAll_d02_mJS0_ch10', 'gJS_sBM_cAll_d01_mJS1_ch08', 'gJS_sFM_cAll_d01_mJS0_ch01', 'gJB_sBM_cAll_d07_mJB0_ch01', 'gKR_sBM_cAll_d28_mKR0_ch06', 'gHO_sFM_cAll_d20_mHO3_ch14', 'gMH_sBM_cAll_d22_mMH3_ch06', 'gWA_sFM_cAll_d27_mWA2_ch17', 'gLO_sBM_cAll_d14_mLO4_ch06', 'gKR_sBM_cAll_d29_mKR4_ch08', 'gHO_sBM_cAll_d21_mHO4_ch10', 'gPO_sBM_cAll_d12_mPO4_ch03', 'gLO_sFM_cAll_d15_mLO2_ch17', 'gJB_sBM_cAll_d08_mJB0_ch05', 'gJB_sBM_cAll_d07_mJB3_ch04', 'gLH_sBM_cAll_d18_mLH5_ch04', 'gWA_sBM_cAll_d27_mWA3_ch05', 'gHO_sBM_cAll_d21_mHO5_ch09', 'gKR_sFM_cAll_d29_mKR3_ch11', 'gJS_sBM_cAll_d03_mJS2_ch01', 'gWA_sBM_cAll_d25_mWA1_ch09', 'gKR_sBM_cAll_d29_mKR0_ch02', 'gMH_sBM_cAll_d24_mMH2_ch09', 'gMH_sBM_cAll_d23_mMH5_ch01', 'gKR_sBM_cAll_d28_mKR0_ch01', 'gLH_sBM_cAll_d17_mLH0_ch07', 'gJS_sBM_cAll_d02_mJS1_ch08', 'gLH_sBM_cAll_d17_mLH1_ch05', 'gPO_sFM_cAll_d10_mPO5_ch06', 'gMH_sBM_cAll_d23_mMH5_ch05', 'gLH_sBM_cAll_d18_mLH4_ch06', 'gMH_sBM_cAll_d22_mMH3_ch10', 'gPO_sFM_cAll_d11_mPO3_ch11', 'gLH_sBM_cAll_d16_mLH3_ch01', 'gPO_sBM_cAll_d11_mPO4_ch07', 'gHO_sBM_cAll_d19_mHO3_ch08', 'gMH_sFM_cAll_d23_mMH4_ch12', 'gPO_sBM_cAll_d11_mPO5_ch01', 'gBR_sBM_cAll_d05_mBR0_ch04', 'gBR_sBM_cAll_d04_mBR2_ch06', 'gPO_sBM_cAll_d11_mPO4_ch05', 'gJS_sBM_cAll_d03_mJS4_ch08', 'gWA_sBM_cAll_d26_mWA1_ch08', 'gWA_sFM_cAll_d27_mWA2_ch21', 'gHO_sBM_cAll_d20_mHO4_ch02', 'gLO_sBM_cAll_d13_mLO0_ch02', 'gPO_sBM_cAll_d10_mPO0_ch05', 'gBR_sBM_cAll_d05_mBR0_ch10', 'gWA_sFM_cAll_d27_mWA0_ch15', 'gLH_sBM_cAll_d17_mLH1_ch02', 'gLO_sBM_cAll_d14_mLO1_ch06', 'gKR_sBM_cAll_d28_mKR3_ch10', 'gBR_sBM_cAll_d04_mBR2_ch05', 'gLO_sBM_cAll_d14_mLO4_ch10', 'gHO_sBM_cAll_d21_mHO3_ch01', 'gBR_sBM_cAll_d04_mBR1_ch06', 'gJB_sBM_cAll_d07_mJB2_ch09', 'gLO_sBM_cAll_d14_mLO1_ch04', 'gBR_sBM_cAll_d05_mBR4_ch07', 'gWA_sBM_cAll_d26_mWA4_ch10', 'gLH_sBM_cAll_d17_mLH4_ch01', 'gJS_sFM_cAll_d02_mJS4_ch09', 'gJS_sFM_cAll_d02_mJS2_ch03', 'gKR_sBM_cAll_d30_mKR4_ch10', 'gKR_sBM_cAll_d28_mKR3_ch03', 'gLO_sFM_cAll_d14_mLO4_ch12', 'gLH_sBM_cAll_d18_mLH3_ch06', 'gJS_sBM_cAll_d02_mJS5_ch10', 'gWA_sBM_cAll_d26_mWA5_ch01', 'gJS_sBM_cAll_d03_mJS2_ch10', 'gPO_sBM_cAll_d10_mPO3_ch09', 'gMH_sFM_cAll_d22_mMH3_ch04', 'gLH_sBM_cAll_d16_mLH1_ch07', 'gBR_sBM_cAll_d05_mBR0_ch07', 'gBR_sBM_cAll_d06_mBR3_ch10', 'gLO_sBM_cAll_d15_mLO5_ch02', 'gLO_sBM_cAll_d14_mLO5_ch07', 'gWA_sBM_cAll_d25_mWA1_ch10', 'gHO_sFM_cAll_d19_mHO0_ch01', 'gJS_sBM_cAll_d02_mJS5_ch07', 'gLO_sBM_cAll_d15_mLO4_ch06', 'gJS_sBM_cAll_d03_mJS5_ch04', 'gJS_sBM_cAll_d01_mJS0_ch02', 'gJB_sBM_cAll_d09_mJB2_ch10', 'gHO_sBM_cAll_d20_mHO4_ch08', 'gJB_sBM_cAll_d07_mJB0_ch07', 'gWA_sBM_cAll_d25_mWA3_ch09', 'gKR_sBM_cAll_d30_mKR4_ch01', 'gWA_sBM_cAll_d25_mWA2_ch08', 'gMH_sBM_cAll_d22_mMH2_ch08', 'gBR_sBM_cAll_d06_mBR2_ch03', 'gKR_sFM_cAll_d28_mKR5_ch06', 'gKR_sFM_cAll_d29_mKR1_ch09', 'gLH_sBM_cAll_d16_mLH1_ch10', 'gWA_sFM_cAll_d27_mWA1_ch16', 'gLH_sBM_cAll_d16_mLH2_ch02', 'gLO_sBM_cAll_d14_mLO0_ch07', 'gMH_sBM_cAll_d23_mMH1_ch09', 'gJB_sBM_cAll_d07_mJB3_ch10', 'gHO_sBM_cAll_d21_mHO3_ch07', 'gPO_sBM_cAll_d10_mPO0_ch03', 'gKR_sBM_cAll_d29_mKR1_ch03', 'gBR_sBM_cAll_d06_mBR2_ch08', 'gKR_sBM_cAll_d30_mKR4_ch02', 'gLH_sBM_cAll_d18_mLH5_ch03', 'gPO_sFM_cAll_d10_mPO1_ch02', 'gPO_sBM_cAll_d12_mPO5_ch09', 'gHO_sFM_cAll_d20_mHO1_ch09', 'gJS_sBM_cAll_d02_mJS1_ch10', 'gHO_sFM_cAll_d19_mHO5_ch06', 'gWA_sFM_cAll_d26_mWA2_ch10', 'gJB_sBM_cAll_d08_mJB1_ch08', 'gJB_sFM_cAll_d09_mJB2_ch17', 'gBR_sBM_cAll_d06_mBR3_ch02', 'gPO_sBM_cAll_d11_mPO5_ch08', 'gBR_sBM_cAll_d06_mBR2_ch05', 'gLO_sBM_cAll_d13_mLO3_ch03', 'gBR_sBM_cAll_d05_mBR1_ch09', 'gLH_sBM_cAll_d17_mLH1_ch07', 'gLO_sBM_cAll_d14_mLO0_ch09', 'gJS_sBM_cAll_d02_mJS0_ch01', 'gLO_sBM_cAll_d14_mLO5_ch09', 'gPO_sBM_cAll_d12_mPO4_ch01', 'gBR_sBM_cAll_d04_mBR3_ch06', 'gPO_sBM_cAll_d11_mPO0_ch10', 'gLO_sBM_cAll_d14_mLO4_ch07', 'gMH_sBM_cAll_d23_mMH5_ch02', 'gHO_sFM_cAll_d21_mHO0_ch15', 'gLO_sBM_cAll_d15_mLO5_ch09', 'gWA_sBM_cAll_d27_mWA2_ch01', 'gMH_sFM_cAll_d22_mMH4_ch05', 'gJB_sFM_cAll_d08_mJB1_ch09', 'gHO_sBM_cAll_d20_mHO0_ch06', 'gJB_sBM_cAll_d08_mJB0_ch07', 'gLO_sBM_cAll_d15_mLO3_ch06', 'gMH_sBM_cAll_d23_mMH0_ch06', 'gBR_sFM_cAll_d06_mBR5_ch21', 'gHO_sBM_cAll_d20_mHO0_ch08', 'gMH_sBM_cAll_d23_mMH4_ch04', 'gWA_sBM_cAll_d25_mWA0_ch10', 'gBR_sFM_cAll_d05_mBR2_ch09', 'gHO_sBM_cAll_d19_mHO2_ch05', 'gJS_sFM_cAll_d01_mJS1_ch02', 'gLO_sBM_cAll_d13_mLO0_ch08', 'gBR_sBM_cAll_d04_mBR3_ch04', 'gLH_sBM_cAll_d18_mLH4_ch07', 'gLH_sBM_cAll_d16_mLH3_ch09', 'gMH_sBM_cAll_d22_mMH3_ch05', 'gMH_sBM_cAll_d23_mMH5_ch03', 'gWA_sBM_cAll_d25_mWA2_ch05', 'gWA_sBM_cAll_d25_mWA2_ch06', 'gHO_sBM_cAll_d19_mHO1_ch08', 'gWA_sFM_cAll_d26_mWA0_ch08', 'gJB_sBM_cAll_d08_mJB4_ch10', 'gKR_sBM_cAll_d29_mKR5_ch10', 'gJS_sBM_cAll_d03_mJS4_ch07', 'gLH_sBM_cAll_d16_mLH0_ch05', 'gPO_sBM_cAll_d10_mPO0_ch02', 'gWA_sBM_cAll_d26_mWA5_ch07', 'gHO_sBM_cAll_d19_mHO3_ch05', 'gBR_sBM_cAll_d04_mBR0_ch06', 'gKR_sBM_cAll_d30_mKR3_ch09', 'gLO_sBM_cAll_d15_mLO3_ch05', 'gKR_sBM_cAll_d30_mKR5_ch05', 'gKR_sBM_cAll_d30_mKR5_ch01', 'gWA_sBM_cAll_d25_mWA2_ch09', 'gLH_sFM_cAll_d17_mLH3_ch11', 'gKR_sBM_cAll_d29_mKR0_ch07', 'gHO_sBM_cAll_d21_mHO5_ch02', 'gLO_sFM_cAll_d13_mLO5_ch06', 'gHO_sBM_cAll_d19_mHO0_ch09', 'gKR_sBM_cAll_d29_mKR0_ch09', 'gJB_sBM_cAll_d09_mJB4_ch07', 'gJB_sBM_cAll_d07_mJB3_ch08', 'gLO_sBM_cAll_d14_mLO4_ch04', 'gLO_sFM_cAll_d15_mLO3_ch18', 'gLH_sFM_cAll_d16_mLH3_ch07', 'gPO_sBM_cAll_d10_mPO2_ch09', 'gMH_sBM_cAll_d24_mMH4_ch07', 'gMH_sBM_cAll_d22_mMH2_ch07', 'gLH_sBM_cAll_d17_mLH1_ch09', 'gJS_sBM_cAll_d03_mJS4_ch05', 'gLH_sBM_cAll_d16_mLH1_ch08', 'gWA_sBM_cAll_d26_mWA4_ch04', 'gKR_sBM_cAll_d28_mKR0_ch03', 'gJB_sBM_cAll_d07_mJB3_ch06', 'gHO_sBM_cAll_d21_mHO2_ch08', 'gLH_sBM_cAll_d17_mLH0_ch08', 'gBR_sBM_cAll_d06_mBR2_ch02', 'gWA_sBM_cAll_d27_mWA5_ch03', 'gHO_sBM_cAll_d19_mHO2_ch10', 'gLH_sBM_cAll_d17_mLH5_ch03', 'gJS_sBM_cAll_d03_mJS5_ch10', 'gHO_sBM_cAll_d19_mHO0_ch05', 'gLH_sBM_cAll_d17_mLH4_ch04', 'gLO_sBM_cAll_d13_mLO0_ch10', 'gWA_sBM_cAll_d27_mWA3_ch02', 'gLO_sBM_cAll_d13_mLO1_ch04', 'gBR_sBM_cAll_d05_mBR0_ch05', 'gJB_sBM_cAll_d07_mJB0_ch04', 'gPO_sBM_cAll_d12_mPO2_ch05', 'gLH_sBM_cAll_d17_mLH0_ch05', 'gHO_sBM_cAll_d21_mHO2_ch04', 'gLO_sBM_cAll_d15_mLO2_ch07', 'gKR_sBM_cAll_d30_mKR2_ch09', 'gLO_sBM_cAll_d15_mLO4_ch02', 'gJS_sBM_cAll_d02_mJS5_ch09', 'gLH_sBM_cAll_d16_mLH3_ch03', 'gBR_sBM_cAll_d05_mBR4_ch02', 'gKR_sBM_cAll_d29_mKR0_ch06', 'gHO_sBM_cAll_d20_mHO5_ch03', 'gHO_sBM_cAll_d19_mHO3_ch07', 'gLO_sBM_cAll_d15_mLO4_ch05', 'gJS_sBM_cAll_d02_mJS5_ch05', 'gJB_sBM_cAll_d07_mJB2_ch05', 'gWA_sBM_cAll_d27_mWA4_ch03', 'gJS_sBM_cAll_d01_mJS2_ch01', 'gJS_sBM_cAll_d03_mJS2_ch07', 'gMH_sBM_cAll_d22_mMH1_ch07', 'gMH_sBM_cAll_d22_mMH1_ch09', 'gWA_sBM_cAll_d26_mWA5_ch06', 'gJB_sBM_cAll_d07_mJB1_ch09', 'gWA_sBM_cAll_d27_mWA3_ch08', 'gJS_sBM_cAll_d03_mJS4_ch06', 'gMH_sBM_cAll_d22_mMH2_ch09', 'gHO_sBM_cAll_d20_mHO0_ch10', 'gPO_sBM_cAll_d10_mPO1_ch01', 'gKR_sBM_cAll_d30_mKR5_ch06', 'gJB_sBM_cAll_d07_mJB1_ch02', 'gMH_sBM_cAll_d22_mMH3_ch09', 'gMH_sBM_cAll_d24_mMH3_ch10', 'gLO_sBM_cAll_d15_mLO4_ch07', 'gLO_sBM_cAll_d13_mLO0_ch03', 'gPO_sBM_cAll_d12_mPO3_ch08', 'gJS_sBM_cAll_d01_mJS1_ch10', 'gLH_sBM_cAll_d16_mLH2_ch08', 'gLH_sBM_cAll_d18_mLH3_ch02', 'gWA_sBM_cAll_d27_mWA2_ch08', 'gJB_sBM_cAll_d09_mJB2_ch09', 'gKR_sBM_cAll_d28_mKR2_ch06', 'gKR_sFM_cAll_d28_mKR2_ch03', 'gBR_sBM_cAll_d04_mBR0_ch09', 'gBR_sBM_cAll_d06_mBR2_ch01', 'gJS_sBM_cAll_d02_mJS0_ch06', 'gBR_sBM_cAll_d05_mBR5_ch10', 'gBR_sBM_cAll_d06_mBR4_ch03', 'gLO_sBM_cAll_d13_mLO3_ch07', 'gPO_sBM_cAll_d11_mPO1_ch10', 'gKR_sFM_cAll_d29_mKR4_ch12', 'gBR_sFM_cAll_d06_mBR3_ch17', 'gKR_sBM_cAll_d29_mKR1_ch08', 'gPO_sBM_cAll_d12_mPO5_ch07', 'gWA_sBM_cAll_d25_mWA2_ch04', 'gKR_sBM_cAll_d29_mKR0_ch10', 'gJS_sBM_cAll_d03_mJS2_ch02', 'gHO_sFM_cAll_d21_mHO2_ch17', 'gMH_sBM_cAll_d24_mMH3_ch09', 'gJS_sBM_cAll_d02_mJS1_ch06', 'gJS_sBM_cAll_d03_mJS2_ch06', 'gJS_sBM_cAll_d03_mJS2_ch03', 'gMH_sBM_cAll_d22_mMH0_ch08', 'gKR_sBM_cAll_d30_mKR2_ch01', 'gLO_sFM_cAll_d15_mLO4_ch21', 'gPO_sBM_cAll_d11_mPO4_ch06', 'gKR_sBM_cAll_d30_mKR2_ch06', 'gPO_sBM_cAll_d12_mPO5_ch02', 'gBR_sBM_cAll_d04_mBR0_ch03', 'gBR_sBM_cAll_d04_mBR0_ch07', 'gLO_sBM_cAll_d14_mLO1_ch03', 'gBR_sBM_cAll_d04_mBR0_ch01', 'gPO_sFM_cAll_d11_mPO5_ch13', 'gBR_sBM_cAll_d06_mBR4_ch06', 'gPO_sBM_cAll_d11_mPO5_ch02', 'gWA_sBM_cAll_d26_mWA5_ch09', 'gPO_sBM_cAll_d11_mPO5_ch09', 'gHO_sBM_cAll_d21_mHO5_ch01', 'gKR_sBM_cAll_d28_mKR0_ch02', 'gJS_sBM_cAll_d03_mJS4_ch02', 'gPO_sFM_cAll_d12_mPO0_ch15', 'gLH_sBM_cAll_d16_mLH3_ch02', 'gKR_sBM_cAll_d30_mKR3_ch02', 'gWA_sBM_cAll_d26_mWA4_ch03', 'gHO_sBM_cAll_d20_mHO1_ch02', 'gMH_sBM_cAll_d24_mMH5_ch09', 'gMH_sBM_cAll_d22_mMH2_ch03', 'gJS_sFM_cAll_d01_mJS4_ch05', 'gLH_sBM_cAll_d18_mLH2_ch05', 'gHO_sBM_cAll_d20_mHO5_ch10', 'gLH_sBM_cAll_d16_mLH2_ch03', 'gLH_sBM_cAll_d17_mLH5_ch09', 'gPO_sBM_cAll_d11_mPO0_ch05', 'gLH_sBM_cAll_d16_mLH1_ch04', 'gJS_sBM_cAll_d01_mJS0_ch06', 'gJS_sBM_cAll_d02_mJS4_ch05', 'gPO_sBM_cAll_d11_mPO0_ch01', 'gBR_sBM_cAll_d04_mBR2_ch01', 'gPO_sBM_cAll_d10_mPO0_ch06', 'gKR_sBM_cAll_d30_mKR3_ch10', 'gHO_sBM_cAll_d19_mHO1_ch05', 'gLH_sBM_cAll_d16_mLH0_ch10', 'gMH_sFM_cAll_d23_mMH0_ch08', 'gHO_sBM_cAll_d20_mHO1_ch03', 'gWA_sBM_cAll_d26_mWA1_ch07', 'gWA_sBM_cAll_d25_mWA0_ch08', 'gLH_sBM_cAll_d18_mLH3_ch01', 'gWA_sBM_cAll_d27_mWA4_ch07', 'gJS_sBM_cAll_d02_mJS4_ch02', 'gLO_sBM_cAll_d15_mLO5_ch04', 'gJS_sBM_cAll_d03_mJS2_ch04', 'gWA_sBM_cAll_d26_mWA5_ch10', 'gLH_sBM_cAll_d17_mLH0_ch09', 'gLO_sBM_cAll_d15_mLO5_ch07', 'gJB_sBM_cAll_d09_mJB5_ch02', 'gWA_sFM_cAll_d25_mWA4_ch05', 'gLH_sBM_cAll_d18_mLH5_ch02', 'gMH_sBM_cAll_d22_mMH3_ch02', 'gPO_sBM_cAll_d10_mPO3_ch01', 'gPO_sBM_cAll_d12_mPO4_ch07', 'gKR_sBM_cAll_d29_mKR4_ch10', 'gHO_sBM_cAll_d21_mHO4_ch03', 'gJB_sBM_cAll_d09_mJB2_ch03', 'gLH_sBM_cAll_d16_mLH3_ch08', 'gJS_sBM_cAll_d01_mJS0_ch07', 'gLO_sBM_cAll_d15_mLO3_ch09', 'gJS_sBM_cAll_d02_mJS0_ch08', 'gWA_sBM_cAll_d25_mWA1_ch02', 'gLH_sFM_cAll_d18_mLH1_ch16', 'gJB_sBM_cAll_d09_mJB3_ch09', 'gLO_sBM_cAll_d15_mLO2_ch03', 'gMH_sBM_cAll_d23_mMH0_ch03', 'gMH_sBM_cAll_d24_mMH5_ch01', 'gHO_sBM_cAll_d19_mHO1_ch03', 'gPO_sBM_cAll_d11_mPO4_ch02', 'gJB_sBM_cAll_d09_mJB4_ch04', 'gJS_sBM_cAll_d01_mJS3_ch08', 'gPO_sBM_cAll_d11_mPO0_ch09', 'gKR_sFM_cAll_d30_mKR1_ch16', 'gLO_sBM_cAll_d14_mLO4_ch05', 'gLO_sBM_cAll_d14_mLO1_ch08', 'gWA_sBM_cAll_d26_mWA0_ch05', 'gKR_sBM_cAll_d29_mKR0_ch01', 'gLH_sBM_cAll_d16_mLH1_ch02', 'gMH_sFM_cAll_d24_mMH5_ch20', 'gHO_sBM_cAll_d19_mHO3_ch03', 'gBR_sFM_cAll_d04_mBR3_ch04', 'gWA_sFM_cAll_d25_mWA2_ch03', 'gKR_sBM_cAll_d29_mKR5_ch06', 'gJS_sBM_cAll_d03_mJS5_ch07', 'gMH_sBM_cAll_d22_mMH2_ch06', 'gMH_sBM_cAll_d23_mMH0_ch04', 'gPO_sBM_cAll_d10_mPO1_ch07', 'gLO_sBM_cAll_d15_mLO3_ch07', 'gPO_sBM_cAll_d10_mPO2_ch10', 'gWA_sFM_cAll_d25_mWA0_ch01', 'gLH_sBM_cAll_d18_mLH5_ch01', 'gPO_sBM_cAll_d10_mPO2_ch07', 'gJB_sFM_cAll_d08_mJB5_ch13', 'gLO_sBM_cAll_d15_mLO5_ch10', 'gLH_sBM_cAll_d16_mLH1_ch09', 'gMH_sBM_cAll_d23_mMH1_ch10', 'gJB_sFM_cAll_d09_mJB5_ch20', 'gMH_sBM_cAll_d23_mMH1_ch05', 'gBR_sBM_cAll_d05_mBR5_ch03', 'gLH_sBM_cAll_d17_mLH5_ch08', 'gJB_sBM_cAll_d08_mJB0_ch10', 'gKR_sBM_cAll_d28_mKR1_ch08', 'gPO_sBM_cAll_d12_mPO4_ch09', 'gPO_sFM_cAll_d12_mPO4_ch19', 'gWA_sBM_cAll_d25_mWA1_ch05', 'gJB_sBM_cAll_d09_mJB3_ch06', 'gJB_sBM_cAll_d07_mJB1_ch01', 'gLO_sBM_cAll_d14_mLO4_ch09', 'gLO_sBM_cAll_d15_mLO5_ch01', 'gLO_sBM_cAll_d15_mLO2_ch09', 'gHO_sBM_cAll_d19_mHO0_ch01', 'gMH_sFM_cAll_d24_mMH2_ch17', 'gJS_sBM_cAll_d01_mJS3_ch02', 'gMH_sBM_cAll_d24_mMH4_ch05', 'gWA_sBM_cAll_d26_mWA0_ch03', 'gHO_sBM_cAll_d20_mHO4_ch03', 'gWA_sFM_cAll_d26_mWA3_ch11', 'gPO_sBM_cAll_d11_mPO0_ch08', 'gHO_sBM_cAll_d19_mHO0_ch04', 'gMH_sBM_cAll_d24_mMH2_ch04', 'gKR_sBM_cAll_d28_mKR1_ch07', 'gLO_sBM_cAll_d14_mLO0_ch08', 'gLO_sBM_cAll_d14_mLO1_ch09', 'gLO_sFM_cAll_d14_mLO1_ch09', 'gMH_sBM_cAll_d23_mMH1_ch07', 'gWA_sBM_cAll_d27_mWA4_ch08', 'gPO_sBM_cAll_d12_mPO5_ch08', 'gPO_sBM_cAll_d10_mPO3_ch04', 'gMH_sBM_cAll_d24_mMH2_ch02', 'gHO_sFM_cAll_d20_mHO0_ch08', 'gHO_sBM_cAll_d21_mHO2_ch05', 'gJB_sBM_cAll_d09_mJB5_ch10', 'gMH_sBM_cAll_d24_mMH5_ch06', 'gMH_sBM_cAll_d24_mMH3_ch01', 'gBR_sBM_cAll_d05_mBR0_ch09', 'gPO_sFM_cAll_d12_mPO5_ch20', 'gWA_sBM_cAll_d25_mWA0_ch01', 'gLO_sBM_cAll_d14_mLO0_ch05', 'gJB_sBM_cAll_d08_mJB4_ch05', 'gPO_sBM_cAll_d10_mPO0_ch10', 'gKR_sFM_cAll_d28_mKR1_ch02', 'gMH_sBM_cAll_d24_mMH5_ch02', 'gJS_sBM_cAll_d03_mJS3_ch08', 'gJB_sBM_cAll_d08_mJB0_ch08', 'gMH_sBM_cAll_d23_mMH4_ch03', 'gWA_sBM_cAll_d26_mWA1_ch05', 'gLH_sFM_cAll_d16_mLH5_ch06', 'gLH_sBM_cAll_d16_mLH3_ch10', 'gJB_sBM_cAll_d09_mJB5_ch05', 'gJB_sBM_cAll_d07_mJB2_ch01', 'gBR_sBM_cAll_d04_mBR3_ch01', 'gJS_sBM_cAll_d01_mJS3_ch07', 'gJB_sBM_cAll_d08_mJB0_ch02', 'gBR_sBM_cAll_d05_mBR0_ch02', 'gHO_sBM_cAll_d20_mHO5_ch05', 'gJS_sFM_cAll_d02_mJS0_ch08', 'gJS_sBM_cAll_d01_mJS3_ch09', 'gHO_sBM_cAll_d20_mHO5_ch08', 'gLO_sBM_cAll_d13_mLO3_ch04', 'gPO_sBM_cAll_d10_mPO2_ch01', 'gMH_sBM_cAll_d22_mMH0_ch05', 'gKR_sBM_cAll_d28_mKR1_ch09', 'gJB_sBM_cAll_d09_mJB2_ch07', 'gKR_sFM_cAll_d30_mKR4_ch19', 'gLH_sBM_cAll_d17_mLH4_ch06', 'gKR_sBM_cAll_d30_mKR5_ch10', 'gBR_sBM_cAll_d06_mBR3_ch07', 'gPO_sFM_cAll_d12_mPO1_ch16', 'gHO_sBM_cAll_d21_mHO4_ch05', 'gPO_sBM_cAll_d10_mPO0_ch04', 'gJB_sBM_cAll_d07_mJB2_ch02', 'gJS_sBM_cAll_d02_mJS5_ch08', 'gJS_sBM_cAll_d02_mJS1_ch07', 'gLH_sBM_cAll_d17_mLH0_ch02', 'gPO_sBM_cAll_d12_mPO4_ch02', 'gJS_sBM_cAll_d02_mJS5_ch06', 'gJB_sBM_cAll_d07_mJB3_ch02', 'gBR_sBM_cAll_d05_mBR0_ch03', 'gWA_sFM_cAll_d26_mWA1_ch09', 'gJB_sFM_cAll_d07_mJB4_ch05', 'gJB_sBM_cAll_d07_mJB0_ch08', 'gLO_sBM_cAll_d15_mLO4_ch01', 'gBR_sBM_cAll_d06_mBR2_ch09', 'gBR_sFM_cAll_d04_mBR4_ch05', 'gLO_sBM_cAll_d15_mLO3_ch02', 'gJS_sBM_cAll_d01_mJS1_ch06', 'gHO_sFM_cAll_d21_mHO5_ch20', 'gJB_sBM_cAll_d09_mJB4_ch05', 'gBR_sBM_cAll_d05_mBR5_ch01', 'gJS_sBM_cAll_d03_mJS5_ch06', 'gJB_sBM_cAll_d09_mJB4_ch03', 'gBR_sBM_cAll_d05_mBR1_ch10', 'gBR_sBM_cAll_d04_mBR0_ch04', 'gHO_sBM_cAll_d19_mHO3_ch06', 'gHO_sBM_cAll_d21_mHO2_ch09', 'gBR_sBM_cAll_d04_mBR1_ch04', 'gPO_sBM_cAll_d10_mPO3_ch08', 'gJB_sBM_cAll_d07_mJB1_ch06', 'gKR_sFM_cAll_d29_mKR2_ch10', 'gKR_sBM_cAll_d28_mKR3_ch06', 'gBR_sBM_cAll_d05_mBR4_ch10', 'gMH_sBM_cAll_d23_mMH0_ch09', 'gWA_sBM_cAll_d25_mWA2_ch07', 'gHO_sBM_cAll_d19_mHO0_ch06', 'gLH_sBM_cAll_d18_mLH2_ch10', 'gJS_sFM_cAll_d03_mJS5_ch14', 'gBR_sBM_cAll_d06_mBR4_ch01', 'gKR_sBM_cAll_d28_mKR3_ch05', 'gPO_sBM_cAll_d12_mPO3_ch07', 'gBR_sBM_cAll_d04_mBR0_ch10', 'gJS_sFM_cAll_d01_mJS3_ch04', 'gPO_sBM_cAll_d11_mPO5_ch10', 'gHO_sFM_cAll_d20_mHO5_ch13', 'gPO_sBM_cAll_d11_mPO1_ch05', 'gPO_sBM_cAll_d10_mPO1_ch05', 'gMH_sBM_cAll_d23_mMH0_ch01', 'gLO_sBM_cAll_d13_mLO2_ch05', 'gJB_sFM_cAll_d07_mJB0_ch01', 'gLO_sBM_cAll_d14_mLO5_ch02', 'gWA_sBM_cAll_d25_mWA3_ch07', 'gJB_sBM_cAll_d07_mJB3_ch05', 'gPO_sBM_cAll_d10_mPO0_ch07', 'gBR_sBM_cAll_d06_mBR2_ch06', 'gWA_sBM_cAll_d27_mWA2_ch07', 'gKR_sFM_cAll_d28_mKR0_ch01', 'gHO_sBM_cAll_d21_mHO2_ch06', 'gWA_sBM_cAll_d25_mWA2_ch03', 'gLH_sBM_cAll_d18_mLH3_ch09', 'gBR_sBM_cAll_d06_mBR2_ch07', 'gPO_sBM_cAll_d12_mPO4_ch10', 'gBR_sBM_cAll_d06_mBR5_ch07', 'gJB_sBM_cAll_d08_mJB1_ch10', 'gMH_sBM_cAll_d24_mMH4_ch04', 'gKR_sBM_cAll_d30_mKR3_ch04', 'gBR_sFM_cAll_d06_mBR4_ch20', 'gMH_sBM_cAll_d22_mMH2_ch04', 'gLO_sFM_cAll_d14_mLO5_ch13', 'gWA_sBM_cAll_d25_mWA1_ch08', 'gBR_sBM_cAll_d05_mBR4_ch01', 'gPO_sBM_cAll_d12_mPO2_ch06', 'gBR_sFM_cAll_d06_mBR1_ch15', 'gPO_sFM_cAll_d10_mPO0_ch01', 'gJB_sBM_cAll_d08_mJB0_ch06', 'gPO_sBM_cAll_d11_mPO4_ch10', 'gBR_sBM_cAll_d05_mBR5_ch07', 'gJB_sBM_cAll_d08_mJB4_ch08', 'gJB_sBM_cAll_d09_mJB5_ch07', 'gPO_sBM_cAll_d12_mPO2_ch08', 'gMH_sBM_cAll_d22_mMH1_ch08', 'gBR_sBM_cAll_d06_mBR2_ch04', 'gJS_sBM_cAll_d03_mJS5_ch02', 'gWA_sBM_cAll_d25_mWA2_ch02', 'gKR_sBM_cAll_d30_mKR4_ch07', 'gWA_sBM_cAll_d25_mWA0_ch04', 'gJB_sBM_cAll_d09_mJB4_ch09', 'gBR_sBM_cAll_d04_mBR3_ch05', 'gLH_sFM_cAll_d17_mLH4_ch12', 'gHO_sFM_cAll_d19_mHO3_ch04', 'gPO_sFM_cAll_d11_mPO2_ch10', 'gKR_sBM_cAll_d29_mKR4_ch01', 'gJS_sBM_cAll_d01_mJS0_ch04', 'gJB_sBM_cAll_d08_mJB1_ch06', 'gWA_sBM_cAll_d25_mWA0_ch03', 'gBR_sBM_cAll_d04_mBR1_ch03', 'gKR_sBM_cAll_d29_mKR5_ch04', 'gMH_sBM_cAll_d22_mMH2_ch02', 'gKR_sBM_cAll_d29_mKR4_ch07', 'gLO_sBM_cAll_d14_mLO1_ch10', 'gLO_sBM_cAll_d15_mLO3_ch01', 'gPO_sBM_cAll_d12_mPO4_ch08', 'gJB_sBM_cAll_d09_mJB4_ch06', 'gLH_sBM_cAll_d18_mLH4_ch04', 'gJS_sBM_cAll_d03_mJS4_ch09', 'gWA_sBM_cAll_d26_mWA1_ch09', 'gJS_sBM_cAll_d01_mJS2_ch03', 'gKR_sFM_cAll_d28_mKR3_ch04', 'gBR_sBM_cAll_d05_mBR0_ch06', 'gPO_sFM_cAll_d10_mPO3_ch07', 'gKR_sBM_cAll_d29_mKR1_ch01', 'gJB_sBM_cAll_d07_mJB2_ch10', 'gMH_sBM_cAll_d22_mMH1_ch04', 'gHO_sBM_cAll_d19_mHO1_ch07', 'gKR_sBM_cAll_d30_mKR4_ch08', 'gJS_sBM_cAll_d03_mJS3_ch06', 'gJB_sFM_cAll_d08_mJB2_ch10', 'gMH_sBM_cAll_d24_mMH5_ch05', 'gMH_sBM_cAll_d24_mMH2_ch03', 'gKR_sBM_cAll_d28_mKR2_ch07', 'gLH_sBM_cAll_d17_mLH4_ch03', 'gLH_sBM_cAll_d18_mLH3_ch07', 'gLO_sBM_cAll_d15_mLO4_ch09', 'gLH_sBM_cAll_d16_mLH1_ch06', 'gKR_sBM_cAll_d30_mKR3_ch07', 'gJB_sBM_cAll_d08_mJB1_ch02', 'gBR_sBM_cAll_d04_mBR2_ch04', 'gLH_sBM_cAll_d16_mLH1_ch05', 'gPO_sBM_cAll_d10_mPO1_ch02', 'gBR_sBM_cAll_d04_mBR0_ch05', 'gPO_sBM_cAll_d12_mPO2_ch02', 'gHO_sBM_cAll_d19_mHO2_ch09', 'gJB_sBM_cAll_d07_mJB3_ch09', 'gLH_sBM_cAll_d18_mLH2_ch03', 'gKR_sBM_cAll_d30_mKR4_ch04', 'gBR_sFM_cAll_d05_mBR4_ch11', 'gKR_sBM_cAll_d30_mKR4_ch09', 'gWA_sBM_cAll_d26_mWA0_ch08', 'gBR_sFM_cAll_d05_mBR4_ch13', 'gWA_sBM_cAll_d27_mWA4_ch10', 'gWA_sBM_cAll_d26_mWA0_ch04', 'gKR_sBM_cAll_d30_mKR2_ch07', 'gPO_sBM_cAll_d10_mPO1_ch06', 'gKR_sBM_cAll_d29_mKR1_ch09', 'gHO_sBM_cAll_d21_mHO2_ch01', 'gLO_sFM_cAll_d13_mLO0_ch01', 'gMH_sBM_cAll_d24_mMH3_ch07', 'gLH_sBM_cAll_d18_mLH2_ch02', 'gKR_sBM_cAll_d29_mKR4_ch02', 'gJS_sBM_cAll_d03_mJS5_ch05', 'gWA_sBM_cAll_d26_mWA4_ch01', 'gKR_sBM_cAll_d28_mKR2_ch04', 'gMH_sBM_cAll_d23_mMH4_ch06', 'gMH_sBM_cAll_d23_mMH5_ch07', 'gJS_sBM_cAll_d03_mJS3_ch02', 'gWA_sBM_cAll_d26_mWA4_ch07', 'gMH_sBM_cAll_d22_mMH0_ch09', 'gMH_sBM_cAll_d24_mMH4_ch10', 'gHO_sBM_cAll_d19_mHO1_ch02', 'gWA_sBM_cAll_d25_mWA3_ch01', 'gJB_sBM_cAll_d09_mJB3_ch07', 'gLO_sBM_cAll_d13_mLO2_ch04', 'gHO_sBM_cAll_d19_mHO0_ch03', 'gMH_sBM_cAll_d22_mMH0_ch01', 'gWA_sBM_cAll_d25_mWA3_ch10', 'gJS_sFM_cAll_d01_mJS5_ch06', 'gJS_sBM_cAll_d01_mJS3_ch03', 'gJB_sBM_cAll_d09_mJB3_ch10', 'gBR_sBM_cAll_d04_mBR3_ch09', 'gWA_sBM_cAll_d26_mWA5_ch04', 'gKR_sBM_cAll_d28_mKR1_ch02', 'gKR_sBM_cAll_d29_mKR1_ch04', 'gWA_sBM_cAll_d27_mWA4_ch02', 'gJS_sBM_cAll_d02_mJS5_ch04', 'gJS_sBM_cAll_d01_mJS2_ch06', 'gHO_sBM_cAll_d21_mHO4_ch06', 'gMH_sBM_cAll_d22_mMH1_ch02', 'gBR_sBM_cAll_d05_mBR1_ch04', 'gJB_sBM_cAll_d09_mJB3_ch02', 'gJB_sBM_cAll_d07_mJB0_ch10', 'gJS_sBM_cAll_d02_mJS4_ch06', 'gLH_sBM_cAll_d17_mLH4_ch05', 'gKR_sBM_cAll_d29_mKR5_ch02', 'gJS_sBM_cAll_d02_mJS4_ch01', 'gMH_sBM_cAll_d24_mMH2_ch06', 'gLO_sBM_cAll_d13_mLO3_ch09', 'gWA_sBM_cAll_d25_mWA2_ch10', 'gKR_sBM_cAll_d29_mKR0_ch03', 'gPO_sBM_cAll_d10_mPO3_ch02', 'gBR_sBM_cAll_d05_mBR1_ch06', 'gJS_sBM_cAll_d01_mJS0_ch05', 'gLO_sBM_cAll_d14_mLO1_ch01', 'gWA_sFM_cAll_d26_mWA4_ch12', 'gHO_sBM_cAll_d19_mHO2_ch01', 'gKR_sBM_cAll_d30_mKR3_ch08', 'gKR_sFM_cAll_d29_mKR0_ch08', 'gBR_sBM_cAll_d06_mBR3_ch08', 'gKR_sBM_cAll_d28_mKR0_ch09', 'gKR_sBM_cAll_d28_mKR2_ch09', 'gJS_sFM_cAll_d03_mJS2_ch03', 'gLO_sFM_cAll_d14_mLO0_ch08', 'gJB_sBM_cAll_d08_mJB4_ch09', 'gLH_sBM_cAll_d17_mLH1_ch03', 'gPO_sBM_cAll_d10_mPO3_ch10', 'gMH_sBM_cAll_d23_mMH4_ch09', 'gJS_sBM_cAll_d03_mJS3_ch07', 'gKR_sFM_cAll_d30_mKR2_ch17', 'gJS_sBM_cAll_d03_mJS3_ch03', 'gHO_sBM_cAll_d20_mHO1_ch04', 'gJS_sBM_cAll_d01_mJS3_ch06', 'gLO_sFM_cAll_d14_mLO5_ch14', 'gPO_sBM_cAll_d11_mPO0_ch04', 'gLH_sBM_cAll_d17_mLH5_ch02', 'gKR_sBM_cAll_d28_mKR2_ch03', 'gJS_sBM_cAll_d02_mJS1_ch09', 'gLH_sFM_cAll_d18_mLH0_ch21', 'gPO_sBM_cAll_d10_mPO3_ch07', 'gWA_sBM_cAll_d26_mWA0_ch01', 'gJS_sBM_cAll_d03_mJS4_ch10', 'gLH_sBM_cAll_d16_mLH2_ch06', 'gKR_sBM_cAll_d29_mKR0_ch05', 'gLH_sBM_cAll_d17_mLH0_ch03', 'gKR_sBM_cAll_d28_mKR1_ch01', 'gWA_sBM_cAll_d25_mWA3_ch05', 'gHO_sBM_cAll_d19_mHO2_ch02', 'gWA_sBM_cAll_d26_mWA4_ch02', 'gLO_sBM_cAll_d13_mLO0_ch06', 'gPO_sBM_cAll_d12_mPO4_ch06', 'gLO_sBM_cAll_d13_mLO2_ch10', 'gLH_sBM_cAll_d17_mLH4_ch07', 'gJS_sBM_cAll_d02_mJS0_ch04', 'gLH_sFM_cAll_d17_mLH5_ch13', 'gBR_sBM_cAll_d06_mBR5_ch08', 'gLH_sBM_cAll_d18_mLH4_ch05', 'gJB_sFM_cAll_d08_mJB0_ch08', 'gJS_sBM_cAll_d02_mJS0_ch09', 'gMH_sFM_cAll_d22_mMH1_ch02', 'gBR_sBM_cAll_d05_mBR5_ch08', 'gKR_sBM_cAll_d28_mKR1_ch05', 'gLH_sBM_cAll_d16_mLH0_ch04', 'gHO_sBM_cAll_d19_mHO3_ch02', 'gWA_sFM_cAll_d25_mWA1_ch02', 'gWA_sBM_cAll_d27_mWA2_ch05', 'gJB_sFM_cAll_d08_mJB5_ch14', 'gJB_sBM_cAll_d07_mJB2_ch07', 'gBR_sBM_cAll_d04_mBR3_ch08', 'gBR_sBM_cAll_d05_mBR4_ch05', 'gPO_sFM_cAll_d11_mPO4_ch12', 'gJS_sBM_cAll_d03_mJS3_ch10', 'gLH_sFM_cAll_d16_mLH4_ch05', 'gWA_sBM_cAll_d25_mWA1_ch01', 'gPO_sBM_cAll_d11_mPO0_ch03', 'gHO_sFM_cAll_d19_mHO2_ch07', 'gJS_sBM_cAll_d01_mJS3_ch05', 'gLH_sBM_cAll_d18_mLH5_ch07', 'gMH_sBM_cAll_d23_mMH4_ch10', 'gWA_sBM_cAll_d27_mWA4_ch09', 'gJS_sBM_cAll_d03_mJS5_ch03', 'gBR_sBM_cAll_d06_mBR5_ch03', 'gWA_sBM_cAll_d26_mWA0_ch09', 'gLH_sBM_cAll_d16_mLH3_ch05', 'gHO_sBM_cAll_d21_mHO3_ch06', 'gKR_sBM_cAll_d28_mKR1_ch06', 'gBR_sBM_cAll_d04_mBR2_ch10', 'gWA_sBM_cAll_d27_mWA5_ch10', 'gLO_sBM_cAll_d13_mLO1_ch10', 'gPO_sBM_cAll_d10_mPO1_ch09', 'gMH_sFM_cAll_d24_mMH1_ch16', 'gJB_sBM_cAll_d08_mJB1_ch05', 'gJB_sBM_cAll_d07_mJB2_ch08', 'gJB_sBM_cAll_d08_mJB4_ch03', 'gMH_sBM_cAll_d22_mMH1_ch10', 'gBR_sBM_cAll_d05_mBR5_ch05', 'gMH_sBM_cAll_d22_mMH3_ch03', 'gBR_sBM_cAll_d04_mBR1_ch07', 'gJS_sBM_cAll_d02_mJS0_ch07', 'gLO_sBM_cAll_d14_mLO1_ch02', 'gJB_sFM_cAll_d07_mJB2_ch03', 'gWA_sBM_cAll_d25_mWA2_ch01', 'gKR_sFM_cAll_d28_mKR3_ch07', 'gJS_sBM_cAll_d03_mJS4_ch01', 'gPO_sBM_cAll_d10_mPO0_ch01', 'gJB_sBM_cAll_d07_mJB0_ch06', 'gBR_sBM_cAll_d05_mBR1_ch08', 'gHO_sBM_cAll_d20_mHO1_ch01', 'gWA_sBM_cAll_d25_mWA0_ch02', 'gBR_sFM_cAll_d04_mBR4_ch07', 'gLH_sBM_cAll_d17_mLH4_ch10', 'gHO_sBM_cAll_d20_mHO4_ch09', 'gJB_sBM_cAll_d09_mJB3_ch04', 'gWA_sBM_cAll_d27_mWA5_ch04', 'gKR_sBM_cAll_d29_mKR1_ch06', 'gMH_sBM_cAll_d23_mMH1_ch04', 'gHO_sBM_cAll_d20_mHO4_ch01', 'gBR_sBM_cAll_d06_mBR4_ch08', 'gMH_sFM_cAll_d23_mMH3_ch11', 'gWA_sBM_cAll_d27_mWA3_ch10', 'gLH_sBM_cAll_d17_mLH0_ch04', 'gHO_sBM_cAll_d21_mHO4_ch09', 'gMH_sBM_cAll_d22_mMH0_ch04', 'gWA_sBM_cAll_d25_mWA3_ch04', 'gWA_sBM_cAll_d27_mWA2_ch03', 'gJB_sBM_cAll_d08_mJB1_ch07', 'gJB_sBM_cAll_d09_mJB5_ch08', 'gKR_sBM_cAll_d30_mKR5_ch02', 'gHO_sBM_cAll_d21_mHO5_ch04', 'gLH_sFM_cAll_d18_mLH5_ch20', 'gPO_sFM_cAll_d10_mPO2_ch03', 'gJB_sBM_cAll_d07_mJB3_ch07', 'gLO_sBM_cAll_d13_mLO1_ch02', 'gJS_sBM_cAll_d02_mJS1_ch01', 'gJB_sFM_cAll_d08_mJB3_ch11', 'gLH_sFM_cAll_d18_mLH2_ch17', 'gJS_sBM_cAll_d02_mJS0_ch03', 'gMH_sBM_cAll_d22_mMH1_ch01', 'gWA_sBM_cAll_d27_mWA3_ch06', 'gMH_sBM_cAll_d23_mMH1_ch06', 'gLO_sBM_cAll_d14_mLO1_ch07', 'gLH_sBM_cAll_d18_mLH5_ch05', 'gKR_sFM_cAll_d29_mKR5_ch14', 'gJB_sBM_cAll_d08_mJB0_ch04', 'gLO_sBM_cAll_d14_mLO0_ch06', 'gJB_sFM_cAll_d07_mJB1_ch02', 'gPO_sBM_cAll_d11_mPO0_ch07', 'gMH_sBM_cAll_d23_mMH0_ch07', 'gWA_sBM_cAll_d25_mWA0_ch05', 'gLO_sBM_cAll_d13_mLO3_ch01', 'gJB_sBM_cAll_d07_mJB0_ch09', 'gJS_sBM_cAll_d01_mJS1_ch05', 'gJS_sBM_cAll_d01_mJS2_ch08', 'gJB_sBM_cAll_d07_mJB1_ch10', 'gJB_sBM_cAll_d08_mJB4_ch02', 'gLO_sBM_cAll_d15_mLO3_ch10', 'gJS_sBM_cAll_d01_mJS2_ch07', 'gJB_sBM_cAll_d08_mJB5_ch10', 'gKR_sBM_cAll_d30_mKR2_ch04', 'gLO_sBM_cAll_d13_mLO1_ch09', 'gWA_sBM_cAll_d25_mWA1_ch06', 'gJB_sBM_cAll_d08_mJB5_ch09', 'gPO_sBM_cAll_d10_mPO2_ch08', 'gLH_sBM_cAll_d17_mLH4_ch08', 'gLH_sBM_cAll_d17_mLH0_ch10', 'gJS_sBM_cAll_d03_mJS2_ch09', 'gWA_sFM_cAll_d25_mWA5_ch07', 'gLO_sBM_cAll_d13_mLO0_ch09', 'gBR_sBM_cAll_d05_mBR0_ch01', 'gMH_sBM_cAll_d24_mMH2_ch05', 'gWA_sBM_cAll_d27_mWA3_ch09', 'gPO_sBM_cAll_d12_mPO3_ch09', 'gKR_sBM_cAll_d30_mKR3_ch01', 'gLH_sFM_cAll_d16_mLH1_ch02', 'gMH_sBM_cAll_d24_mMH5_ch04', 'gLO_sBM_cAll_d15_mLO2_ch01', 'gPO_sFM_cAll_d12_mPO3_ch18', 'gKR_sFM_cAll_d30_mKR3_ch18', 'gJB_sBM_cAll_d08_mJB0_ch03', 'gLO_sBM_cAll_d13_mLO2_ch08', 'gMH_sBM_cAll_d22_mMH1_ch06', 'gJB_sFM_cAll_d09_mJB4_ch19', 'gPO_sBM_cAll_d12_mPO5_ch06', 'gLH_sBM_cAll_d17_mLH0_ch01', 'gMH_sBM_cAll_d24_mMH4_ch03', 'gJS_sBM_cAll_d02_mJS4_ch09', 'gJS_sBM_cAll_d02_mJS5_ch01', 'gBR_sBM_cAll_d06_mBR2_ch10', 'gMH_sBM_cAll_d23_mMH1_ch02', 'gWA_sBM_cAll_d27_mWA4_ch05', 'gWA_sBM_cAll_d27_mWA3_ch07', 'gLO_sBM_cAll_d14_mLO5_ch05', 'gMH_sBM_cAll_d24_mMH2_ch08', 'gWA_sBM_cAll_d27_mWA3_ch01', 'gLO_sBM_cAll_d15_mLO3_ch08', 'gHO_sBM_cAll_d19_mHO1_ch09', 'gLO_sBM_cAll_d14_mLO5_ch01', 'gJB_sBM_cAll_d09_mJB4_ch01', 'gWA_sBM_cAll_d27_mWA2_ch04', 'gLH_sBM_cAll_d16_mLH0_ch01', 'gLH_sBM_cAll_d17_mLH1_ch10', 'gBR_sBM_cAll_d04_mBR2_ch09', 'gHO_sFM_cAll_d19_mHO1_ch02', 'gLO_sBM_cAll_d15_mLO5_ch03', 'gMH_sBM_cAll_d24_mMH5_ch08', 'gPO_sBM_cAll_d10_mPO1_ch08', 'gLH_sFM_cAll_d18_mLH0_ch15', 'gLH_sBM_cAll_d17_mLH1_ch08', 'gMH_sBM_cAll_d22_mMH2_ch10', 'gLH_sBM_cAll_d17_mLH5_ch05', 'gKR_sBM_cAll_d29_mKR5_ch01', 'gMH_sFM_cAll_d23_mMH2_ch10', 'gLO_sFM_cAll_d14_mLO3_ch11', 'gMH_sBM_cAll_d24_mMH2_ch01', 'gLH_sFM_cAll_d18_mLH4_ch19', 'gLH_sBM_cAll_d16_mLH3_ch04', 'gHO_sBM_cAll_d20_mHO5_ch07', 'gBR_sFM_cAll_d06_mBR5_ch19', 'gBR_sBM_cAll_d04_mBR2_ch07', 'gHO_sBM_cAll_d20_mHO5_ch06', 'gKR_sBM_cAll_d28_mKR3_ch09', 'gHO_sBM_cAll_d20_mHO4_ch06', 'gJS_sBM_cAll_d03_mJS5_ch09', 'gKR_sFM_cAll_d28_mKR4_ch05', 'gLH_sBM_cAll_d18_mLH5_ch08', 'gJS_sBM_cAll_d01_mJS0_ch08', 'gJS_sBM_cAll_d01_mJS0_ch03', 'gLH_sBM_cAll_d18_mLH3_ch05', 'gBR_sBM_cAll_d06_mBR4_ch09', 'gMH_sBM_cAll_d24_mMH3_ch05', 'gBR_sFM_cAll_d06_mBR4_ch18', 'gMH_sBM_cAll_d22_mMH1_ch05', 'gKR_sBM_cAll_d30_mKR2_ch02', 'gJB_sBM_cAll_d09_mJB5_ch04', 'gPO_sBM_cAll_d12_mPO2_ch09', 'gKR_sBM_cAll_d29_mKR4_ch05', 'gLH_sBM_cAll_d18_mLH3_ch10', 'gBR_sBM_cAll_d05_mBR5_ch06', 'gLH_sBM_cAll_d16_mLH0_ch03', 'gMH_sBM_cAll_d23_mMH0_ch05', 'gHO_sBM_cAll_d21_mHO2_ch10', 'gBR_sBM_cAll_d06_mBR4_ch04', 'gKR_sBM_cAll_d29_mKR5_ch09', 'gLH_sBM_cAll_d18_mLH2_ch09', 'gLO_sBM_cAll_d14_mLO5_ch06', 'gHO_sBM_cAll_d19_mHO2_ch04', 'gJS_sFM_cAll_d03_mJS4_ch12', 'gJS_sFM_cAll_d01_mJS1_ch07', 'gLH_sBM_cAll_d17_mLH1_ch01', 'gLO_sBM_cAll_d13_mLO2_ch01', 'gJB_sBM_cAll_d09_mJB2_ch08', 'gJB_sBM_cAll_d07_mJB2_ch06', 'gMH_sBM_cAll_d24_mMH4_ch02', 'gLO_sBM_cAll_d13_mLO3_ch02', 'gHO_sFM_cAll_d21_mHO3_ch21', 'gMH_sFM_cAll_d22_mMH2_ch03', 'gPO_sBM_cAll_d10_mPO2_ch04', 'gKR_sBM_cAll_d28_mKR2_ch08', 'gWA_sBM_cAll_d26_mWA0_ch06', 'gMH_sBM_cAll_d24_mMH4_ch01', 'gBR_sBM_cAll_d04_mBR2_ch08', 'gLH_sFM_cAll_d17_mLH0_ch14', 'gHO_sFM_cAll_d21_mHO4_ch19', 'gJS_sBM_cAll_d02_mJS4_ch10', 'gLH_sBM_cAll_d18_mLH4_ch01', 'gJS_sFM_cAll_d03_mJS1_ch02', 'gKR_sBM_cAll_d30_mKR5_ch03', 'gKR_sBM_cAll_d28_mKR3_ch07', 'gMH_sBM_cAll_d24_mMH5_ch03', 'gJB_sFM_cAll_d07_mJB5_ch06', 'gLH_sBM_cAll_d18_mLH2_ch04', 'gMH_sBM_cAll_d24_mMH3_ch02', 'gJS_sBM_cAll_d01_mJS2_ch05', 'gWA_sBM_cAll_d27_mWA2_ch02', 'gJS_sBM_cAll_d01_mJS3_ch04', 'gJB_sBM_cAll_d07_mJB1_ch08', 'gPO_sBM_cAll_d11_mPO1_ch01', 'gPO_sBM_cAll_d12_mPO3_ch05', 'gLO_sBM_cAll_d13_mLO1_ch07', 'gBR_sFM_cAll_d04_mBR5_ch06', 'gMH_sBM_cAll_d23_mMH1_ch03', 'gBR_sBM_cAll_d05_mBR4_ch04', 'gHO_sBM_cAll_d20_mHO0_ch02', 'gPO_sBM_cAll_d10_mPO3_ch05', 'gWA_sBM_cAll_d26_mWA4_ch05', 'gJS_sBM_cAll_d01_mJS1_ch04', 'gJS_sBM_cAll_d03_mJS5_ch01', 'gLH_sBM_cAll_d18_mLH2_ch06', 'gLO_sBM_cAll_d13_mLO1_ch03', 'gPO_sBM_cAll_d11_mPO4_ch03', 'gLO_sBM_cAll_d14_mLO5_ch10', 'gWA_sBM_cAll_d27_mWA5_ch01', 'gBR_sFM_cAll_d05_mBR5_ch14', 'gLO_sFM_cAll_d13_mLO4_ch05', 'gHO_sBM_cAll_d21_mHO5_ch06', 'gLO_sBM_cAll_d14_mLO4_ch01', 'gMH_sBM_cAll_d23_mMH4_ch08', 'gJB_sBM_cAll_d09_mJB2_ch02', 'gHO_sBM_cAll_d20_mHO1_ch09', 'gMH_sBM_cAll_d23_mMH4_ch05', 'gKR_sBM_cAll_d29_mKR4_ch06', 'gLH_sFM_cAll_d17_mLH1_ch09', 'gJS_sFM_cAll_d03_mJS3_ch04', 'gMH_sBM_cAll_d24_mMH2_ch10', 'gLO_sBM_cAll_d13_mLO2_ch02', 'gJS_sBM_cAll_d02_mJS4_ch07', 'gJB_sBM_cAll_d08_mJB0_ch09', 'gPO_sBM_cAll_d12_mPO3_ch01', 'gBR_sFM_cAll_d05_mBR3_ch10', 'gLO_sBM_cAll_d15_mLO4_ch03', 'gJB_sBM_cAll_d08_mJB4_ch06', 'gHO_sBM_cAll_d19_mHO0_ch07', 'gBR_sBM_cAll_d05_mBR4_ch06', 'gJB_sBM_cAll_d08_mJB5_ch01', 'gHO_sBM_cAll_d21_mHO3_ch10', 'gPO_sBM_cAll_d12_mPO5_ch03', 'gKR_sBM_cAll_d29_mKR1_ch02', 'gPO_sBM_cAll_d11_mPO4_ch04', 'gJB_sBM_cAll_d09_mJB2_ch05', 'gKR_sBM_cAll_d28_mKR2_ch01', 'gJB_sFM_cAll_d09_mJB1_ch16', 'gHO_sBM_cAll_d20_mHO1_ch10', 'gHO_sBM_cAll_d21_mHO2_ch02', 'gHO_sBM_cAll_d19_mHO3_ch10', 'gPO_sBM_cAll_d12_mPO3_ch10', 'gHO_sBM_cAll_d20_mHO5_ch04', 'gKR_sBM_cAll_d28_mKR1_ch03', 'gHO_sBM_cAll_d21_mHO5_ch08', 'gLH_sBM_cAll_d17_mLH5_ch07', 'gHO_sBM_cAll_d20_mHO5_ch02', 'gJB_sBM_cAll_d08_mJB5_ch07', 'gWA_sBM_cAll_d25_mWA0_ch07', 'gJS_sFM_cAll_d02_mJS1_ch11', 'gBR_sBM_cAll_d05_mBR5_ch02', 'gLH_sFM_cAll_d17_mLH0_ch08', 'gJB_sBM_cAll_d08_mJB4_ch04', 'gBR_sBM_cAll_d06_mBR5_ch01', 'gHO_sFM_cAll_d21_mHO1_ch16', 'gLH_sFM_cAll_d18_mLH3_ch18', 'gJB_sBM_cAll_d08_mJB4_ch01', 'gWA_sBM_cAll_d25_mWA0_ch09', 'gJS_sFM_cAll_d02_mJS5_ch10', 'gPO_sBM_cAll_d12_mPO5_ch05', 'gHO_sBM_cAll_d19_mHO2_ch07', 'gLO_sBM_cAll_d14_mLO1_ch05', 'gJS_sBM_cAll_d01_mJS1_ch03', 'gWA_sBM_cAll_d27_mWA5_ch05', 'gBR_sBM_cAll_d05_mBR4_ch08', 'gWA_sBM_cAll_d27_mWA4_ch04', 'gHO_sBM_cAll_d20_mHO4_ch07', 'gBR_sBM_cAll_d04_mBR3_ch02', 'gPO_sFM_cAll_d11_mPO0_ch08', 'gKR_sBM_cAll_d28_mKR1_ch04', 'gJB_sFM_cAll_d07_mJB3_ch04', 'gPO_sBM_cAll_d10_mPO3_ch06', 'gPO_sBM_cAll_d11_mPO5_ch07', 'gLO_sBM_cAll_d14_mLO5_ch03', 'gPO_sBM_cAll_d11_mPO4_ch01', 'gKR_sBM_cAll_d30_mKR2_ch05', 'gLH_sBM_cAll_d16_mLH2_ch10', 'gKR_sBM_cAll_d28_mKR3_ch04', 'gMH_sBM_cAll_d23_mMH5_ch10', 'gJS_sBM_cAll_d02_mJS0_ch05', 'gJB_sBM_cAll_d08_mJB5_ch08', 'gJB_sBM_cAll_d08_mJB5_ch05', 'gWA_sBM_cAll_d27_mWA4_ch01', 'gKR_sBM_cAll_d28_mKR2_ch02', 'gHO_sBM_cAll_d21_mHO3_ch09', 'gBR_sBM_cAll_d04_mBR2_ch02', 'gHO_sBM_cAll_d21_mHO2_ch07', 'gJB_sFM_cAll_d09_mJB3_ch18', 'gBR_sBM_cAll_d04_mBR3_ch03', 'gHO_sFM_cAll_d21_mHO3_ch18', 'gJB_sFM_cAll_d08_mJB4_ch12', 'gKR_sBM_cAll_d28_mKR0_ch04', 'gBR_sBM_cAll_d06_mBR4_ch10', 'gMH_sBM_cAll_d23_mMH0_ch08', 'gKR_sBM_cAll_d29_mKR5_ch05', 'gBR_sFM_cAll_d06_mBR2_ch16', 'gHO_sBM_cAll_d20_mHO4_ch10', 'gHO_sBM_cAll_d19_mHO2_ch03', 'gJB_sBM_cAll_d09_mJB3_ch01', 'gHO_sBM_cAll_d20_mHO0_ch05', 'gJS_sBM_cAll_d01_mJS0_ch01', 'gJB_sBM_cAll_d08_mJB1_ch03', 'gKR_sBM_cAll_d29_mKR4_ch04', 'gWA_sFM_cAll_d26_mWA5_ch13', 'gKR_sBM_cAll_d28_mKR2_ch10', 'gMH_sBM_cAll_d24_mMH4_ch08', 'gHO_sBM_cAll_d21_mHO3_ch03', 'gJS_sBM_cAll_d02_mJS5_ch03', 'gKR_sBM_cAll_d29_mKR1_ch07', 'gJS_sBM_cAll_d02_mJS1_ch04', 'gKR_sBM_cAll_d28_mKR0_ch10', 'gBR_sBM_cAll_d05_mBR1_ch07', 'gBR_sBM_cAll_d06_mBR5_ch10', 'gMH_sBM_cAll_d22_mMH3_ch04', 'gWA_sBM_cAll_d26_mWA0_ch07', 'gJS_sBM_cAll_d03_mJS4_ch04', 'gJB_sBM_cAll_d08_mJB0_ch01', 'gMH_sBM_cAll_d23_mMH4_ch07', 'gBR_sBM_cAll_d04_mBR3_ch10', 'gWA_sFM_cAll_d25_mWA5_ch06', 'gPO_sFM_cAll_d10_mPO4_ch05', 'gBR_sBM_cAll_d04_mBR1_ch05', 'gHO_sBM_cAll_d21_mHO2_ch03', 'gWA_sBM_cAll_d26_mWA0_ch02', 'gLO_sBM_cAll_d13_mLO2_ch07', 'gBR_sBM_cAll_d04_mBR0_ch02', 'gLH_sFM_cAll_d16_mLH2_ch03', 'gWA_sBM_cAll_d26_mWA1_ch10', 'gWA_sBM_cAll_d25_mWA1_ch03', 'gLH_sBM_cAll_d16_mLH2_ch04', 'gHO_sBM_cAll_d19_mHO3_ch01', 'gKR_sBM_cAll_d28_mKR0_ch05', 'gBR_sBM_cAll_d05_mBR1_ch03', 'gMH_sBM_cAll_d23_mMH0_ch02', 'gLO_sBM_cAll_d13_mLO0_ch04', 'gLO_sBM_cAll_d14_mLO4_ch02', 'gKR_sBM_cAll_d29_mKR5_ch07', 'gLH_sBM_cAll_d18_mLH2_ch07', 'gLO_sBM_cAll_d15_mLO2_ch10', 'gLO_sBM_cAll_d15_mLO2_ch06', 'gLH_sBM_cAll_d17_mLH5_ch10', 'gMH_sFM_cAll_d24_mMH3_ch18', 'gLH_sBM_cAll_d16_mLH0_ch06', 'gPO_sBM_cAll_d10_mPO2_ch02', 'gLH_sFM_cAll_d17_mLH2_ch10', 'gLO_sFM_cAll_d15_mLO1_ch16', 'gLO_sBM_cAll_d15_mLO2_ch04', 'gBR_sBM_cAll_d06_mBR3_ch04', 'gKR_sBM_cAll_d30_mKR5_ch04', 'gHO_sFM_cAll_d20_mHO2_ch10', 'gBR_sBM_cAll_d06_mBR5_ch06', 'gJB_sBM_cAll_d08_mJB1_ch04', 'gLH_sBM_cAll_d18_mLH3_ch03', 'gKR_sBM_cAll_d29_mKR5_ch03', 'gLH_sBM_cAll_d16_mLH2_ch07', 'gMH_sBM_cAll_d22_mMH2_ch01', 'gJS_sBM_cAll_d02_mJS4_ch03', 'gBR_sBM_cAll_d06_mBR4_ch07', 'gLH_sFM_cAll_d16_mLH0_ch01', 'gMH_sFM_cAll_d23_mMH5_ch13', 'gWA_sBM_cAll_d25_mWA3_ch08', 'gJB_sBM_cAll_d08_mJB5_ch06', 'gJB_sBM_cAll_d07_mJB2_ch04', 'gLO_sBM_cAll_d13_mLO2_ch03', 'gLO_sBM_cAll_d15_mLO3_ch03', 'gJS_sBM_cAll_d01_mJS0_ch09', 'gWA_sFM_cAll_d26_mWA3_ch14', 'gLO_sBM_cAll_d13_mLO3_ch05', 'gMH_sFM_cAll_d24_mMH2_ch21', 'gLH_sBM_cAll_d18_mLH4_ch03', 'gMH_sBM_cAll_d22_mMH3_ch07', 'gLO_sBM_cAll_d15_mLO4_ch08', 'gMH_sBM_cAll_d22_mMH0_ch07', 'gWA_sFM_cAll_d27_mWA3_ch18', 'gLO_sBM_cAll_d15_mLO2_ch08', 'gBR_sFM_cAll_d04_mBR0_ch01', 'gLO_sFM_cAll_d13_mLO3_ch04', 'gLH_sBM_cAll_d17_mLH5_ch01', 'gHO_sBM_cAll_d21_mHO3_ch04', 'gJS_sBM_cAll_d03_mJS3_ch05', 'gWA_sBM_cAll_d26_mWA4_ch08', 'gHO_sBM_cAll_d20_mHO1_ch05', 'gBR_sBM_cAll_d06_mBR3_ch01', 'gMH_sFM_cAll_d22_mMH5_ch06', 'gBR_sBM_cAll_d04_mBR1_ch01', 'gJB_sBM_cAll_d09_mJB3_ch03', 'gLO_sBM_cAll_d13_mLO1_ch06', 'gMH_sBM_cAll_d24_mMH4_ch06', 'gKR_sBM_cAll_d29_mKR0_ch08', 'gKR_sFM_cAll_d29_mKR5_ch13', 'gPO_sBM_cAll_d11_mPO1_ch07', 'gHO_sFM_cAll_d19_mHO2_ch03', 'gLO_sBM_cAll_d14_mLO0_ch04', 'gLO_sBM_cAll_d15_mLO4_ch10', 'gJB_sBM_cAll_d09_mJB2_ch01', 'gLO_sFM_cAll_d13_mLO1_ch02', 'gHO_sBM_cAll_d21_mHO5_ch03', 'gJB_sBM_cAll_d08_mJB5_ch03', 'gKR_sBM_cAll_d28_mKR0_ch08', 'gJB_sBM_cAll_d08_mJB1_ch01', 'gPO_sBM_cAll_d10_mPO2_ch06', 'gHO_sBM_cAll_d20_mHO0_ch09', 'gWA_sBM_cAll_d25_mWA1_ch07', 'gHO_sBM_cAll_d21_mHO3_ch05', 'gJS_sBM_cAll_d03_mJS3_ch09', 'gBR_sBM_cAll_d06_mBR4_ch05', 'gKR_sFM_cAll_d30_mKR3_ch21', 'gBR_sBM_cAll_d06_mBR4_ch02', 'gLO_sFM_cAll_d13_mLO4_ch07', 'gKR_sBM_cAll_d30_mKR4_ch05', 'gPO_sFM_cAll_d12_mPO2_ch17', 'gJB_sBM_cAll_d09_mJB3_ch08', 'gHO_sFM_cAll_d20_mHO3_ch11', 'gPO_sBM_cAll_d10_mPO2_ch05', 'gPO_sBM_cAll_d11_mPO4_ch08', 'gLO_sBM_cAll_d15_mLO5_ch08', 'gLO_sBM_cAll_d14_mLO4_ch03', 'gPO_sFM_cAll_d12_mPO5_ch21', 'gMH_sBM_cAll_d22_mMH1_ch03', 'gPO_sBM_cAll_d10_mPO1_ch04', 'gKR_sBM_cAll_d28_mKR2_ch05', 'gHO_sBM_cAll_d20_mHO0_ch03', 'gMH_sBM_cAll_d22_mMH3_ch01', 'gJS_sBM_cAll_d02_mJS4_ch08', 'gBR_sBM_cAll_d04_mBR1_ch08', 'gPO_sBM_cAll_d11_mPO4_ch09', 'gHO_sBM_cAll_d19_mHO0_ch02', 'gMH_sFM_cAll_d22_mMH1_ch07', 'gHO_sBM_cAll_d21_mHO4_ch01', 'gLH_sBM_cAll_d18_mLH4_ch08', 'gPO_sBM_cAll_d12_mPO4_ch04', 'gLO_sFM_cAll_d15_mLO5_ch20', 'gJS_sBM_cAll_d01_mJS2_ch02', 'gMH_sBM_cAll_d23_mMH5_ch04', 'gKR_sBM_cAll_d30_mKR2_ch03', 'gMH_sBM_cAll_d24_mMH5_ch10', 'gPO_sBM_cAll_d12_mPO2_ch04', 'gBR_sBM_cAll_d05_mBR5_ch04', 'gHO_sBM_cAll_d21_mHO5_ch07', 'gBR_sFM_cAll_d05_mBR1_ch08', 'gKR_sBM_cAll_d30_mKR5_ch09', 'gKR_sBM_cAll_d28_mKR3_ch01', 'gPO_sFM_cAll_d11_mPO1_ch09', 'gHO_sFM_cAll_d19_mHO4_ch05', 'gPO_sBM_cAll_d12_mPO2_ch01', 'gWA_sFM_cAll_d27_mWA4_ch19', 'gLO_sBM_cAll_d15_mLO3_ch04', 'gHO_sBM_cAll_d19_mHO1_ch04', 'gPO_sBM_cAll_d12_mPO5_ch01', 'gJS_sBM_cAll_d01_mJS1_ch09', 'gJS_sBM_cAll_d02_mJS1_ch03', 'gMH_sBM_cAll_d22_mMH0_ch02', 'gWA_sBM_cAll_d27_mWA5_ch07', 'gPO_sFM_cAll_d11_mPO2_ch14', 'gWA_sBM_cAll_d27_mWA5_ch09', 'gJB_sBM_cAll_d09_mJB5_ch09', 'gJB_sBM_cAll_d07_mJB0_ch02', 'gLO_sBM_cAll_d14_mLO4_ch08', 'gJS_sBM_cAll_d02_mJS5_ch02', 'gPO_sBM_cAll_d12_mPO3_ch03', 'gBR_sBM_cAll_d06_mBR5_ch09', 'gPO_sBM_cAll_d11_mPO5_ch03', 'gJS_sBM_cAll_d03_mJS2_ch08', 'gBR_sBM_cAll_d05_mBR1_ch01', 'gWA_sFM_cAll_d27_mWA5_ch20', 'gPO_sBM_cAll_d12_mPO2_ch10', 'gMH_sBM_cAll_d22_mMH0_ch06', 'gBR_sBM_cAll_d06_mBR3_ch09', 'gMH_sBM_cAll_d24_mMH3_ch06', 'gJB_sBM_cAll_d09_mJB3_ch05', 'gLH_sBM_cAll_d17_mLH4_ch02', 'gLH_sBM_cAll_d17_mLH5_ch04', 'gWA_sBM_cAll_d26_mWA5_ch02', 'gKR_sFM_cAll_d30_mKR0_ch15', 'gHO_sBM_cAll_d20_mHO1_ch07', 'gKR_sBM_cAll_d28_mKR3_ch08', 'gPO_sBM_cAll_d10_mPO0_ch08', 'gLH_sBM_cAll_d16_mLH1_ch03', 'gBR_sBM_cAll_d05_mBR5_ch09', 'gBR_sBM_cAll_d06_mBR3_ch06', 'gWA_sBM_cAll_d27_mWA2_ch06', 'gLO_sBM_cAll_d13_mLO3_ch06', 'gLO_sBM_cAll_d13_mLO3_ch10', 'gLH_sBM_cAll_d17_mLH5_ch06', 'gJB_sBM_cAll_d09_mJB2_ch04', 'gKR_sBM_cAll_d30_mKR5_ch08', 'gMH_sFM_cAll_d23_mMH0_ch14', 'gBR_sBM_cAll_d06_mBR3_ch03', 'gPO_sBM_cAll_d12_mPO4_ch05', 'gKR_sBM_cAll_d29_mKR1_ch05', 'gLO_sBM_cAll_d14_mLO5_ch04', 'gHO_sBM_cAll_d21_mHO4_ch08', 'gJS_sBM_cAll_d03_mJS5_ch08', 'gMH_sBM_cAll_d24_mMH3_ch08', 'gJB_sBM_cAll_d08_mJB4_ch07', 'gLH_sBM_cAll_d18_mLH5_ch06', 'gPO_sBM_cAll_d12_mPO5_ch10', 'gHO_sBM_cAll_d21_mHO4_ch04', 'gJB_sFM_cAll_d07_mJB3_ch07', 'gWA_sBM_cAll_d25_mWA3_ch03', 'gJB_sFM_cAll_d09_mJB0_ch15', 'gPO_sBM_cAll_d10_mPO2_ch03', 'gJB_sBM_cAll_d09_mJB5_ch01', 'gLH_sBM_cAll_d18_mLH4_ch10', 'gLH_sBM_cAll_d18_mLH5_ch10', 'gHO_sBM_cAll_d20_mHO1_ch06', 'gWA_sBM_cAll_d25_mWA3_ch02', 'gLO_sBM_cAll_d13_mLO0_ch05', 'gPO_sBM_cAll_d12_mPO3_ch02', 'gKR_sBM_cAll_d28_mKR1_ch10', 'gJS_sBM_cAll_d02_mJS1_ch05', 'gLH_sBM_cAll_d17_mLH1_ch04', 'gMH_sBM_cAll_d23_mMH0_ch10', 'gLO_sFM_cAll_d15_mLO4_ch19', 'gMH_sBM_cAll_d22_mMH2_ch05', 'gLH_sBM_cAll_d18_mLH3_ch08', 'gJB_sBM_cAll_d07_mJB1_ch07', 'gKR_sBM_cAll_d28_mKR0_ch07', 'gKR_sBM_cAll_d30_mKR3_ch03', 'gLH_sBM_cAll_d16_mLH0_ch08', 'gJB_sBM_cAll_d09_mJB4_ch10', 'gBR_sFM_cAll_d04_mBR2_ch03', 'gLO_sBM_cAll_d14_mLO0_ch03', 'gJS_sBM_cAll_d03_mJS4_ch03', 'gHO_sBM_cAll_d20_mHO5_ch09', 'gJB_sBM_cAll_d08_mJB5_ch02', 'gHO_sBM_cAll_d20_mHO0_ch01', 'gLH_sBM_cAll_d18_mLH4_ch02', 'gLO_sBM_cAll_d13_mLO2_ch09', 'gKR_sBM_cAll_d30_mKR3_ch06', 'gLH_sBM_cAll_d16_mLH3_ch06', 'gLO_sFM_cAll_d15_mLO0_ch15', 'gBR_sBM_cAll_d04_mBR2_ch03', 'gLO_sBM_cAll_d14_mLO0_ch02', 'gKR_sBM_cAll_d30_mKR3_ch05', 'gKR_sBM_cAll_d29_mKR1_ch10', 'gMH_sBM_cAll_d22_mMH0_ch10', 'gJS_sBM_cAll_d01_mJS1_ch07', 'gKR_sBM_cAll_d30_mKR4_ch03', 'gJS_sBM_cAll_d01_mJS2_ch10', 'gWA_sBM_cAll_d27_mWA4_ch06', 'gJS_sFM_cAll_d02_mJS3_ch04', 'gLO_sBM_cAll_d13_mLO3_ch08', 'gJB_sBM_cAll_d07_mJB2_ch03', 'gJS_sFM_cAll_d03_mJS0_ch01', 'gMH_sBM_cAll_d24_mMH3_ch03', 'gPO_sBM_cAll_d11_mPO5_ch05', 'gMH_sBM_cAll_d22_mMH0_ch03', 'gJS_sBM_cAll_d01_mJS1_ch02', 'gMH_sBM_cAll_d24_mMH5_ch07', 'gJB_sBM_cAll_d09_mJB2_ch06', 'gLO_sBM_cAll_d14_mLO0_ch01', 'gJS_sBM_cAll_d02_mJS1_ch02', 'gPO_sBM_cAll_d12_mPO3_ch04', 'gPO_sBM_cAll_d11_mPO1_ch03', 'gJB_sBM_cAll_d07_mJB0_ch03', 'gHO_sBM_cAll_d21_mHO5_ch05', 'gHO_sBM_cAll_d21_mHO4_ch02', 'gBR_sFM_cAll_d05_mBR5_ch12', 'gJS_sBM_cAll_d02_mJS4_ch04', 'gBR_sBM_cAll_d04_mBR1_ch02', 'gHO_sBM_cAll_d20_mHO4_ch05', 'gBR_sFM_cAll_d04_mBR1_ch02', 'gJS_sBM_cAll_d02_mJS0_ch02', 'gWA_sBM_cAll_d27_mWA2_ch10', 'gBR_sBM_cAll_d05_mBR1_ch05', 'gHO_sBM_cAll_d21_mHO3_ch02', 'gKR_sBM_cAll_d30_mKR2_ch10', 'gWA_sBM_cAll_d26_mWA1_ch01', 'gPO_sBM_cAll_d11_mPO0_ch06', 'gWA_sBM_cAll_d25_mWA1_ch04', 'gPO_sBM_cAll_d10_mPO0_ch09', 'gWA_sBM_cAll_d26_mWA1_ch03', 'gWA_sBM_cAll_d27_mWA5_ch08', 'gBR_sBM_cAll_d05_mBR4_ch09', 'gWA_sBM_cAll_d26_mWA1_ch04', 'gLH_sBM_cAll_d17_mLH1_ch06', 'gLO_sFM_cAll_d14_mLO2_ch10', 'gWA_sBM_cAll_d27_mWA3_ch03', 'gPO_sBM_cAll_d10_mPO1_ch10', 'gHO_sBM_cAll_d19_mHO1_ch01', 'gLO_sBM_cAll_d15_mLO4_ch04', 'gLH_sBM_cAll_d17_mLH0_ch06', 'gLH_sBM_cAll_d16_mLH2_ch01', 'gLH_sBM_cAll_d18_mLH5_ch09', 'gWA_sFM_cAll_d25_mWA3_ch04', 'gLH_sBM_cAll_d16_mLH1_ch01', 'gLO_sBM_cAll_d13_mLO1_ch08', 'gWA_sBM_cAll_d26_mWA5_ch03', 'gJS_sFM_cAll_d02_mJS1_ch02', 'gKR_sBM_cAll_d29_mKR0_ch04', 'gHO_sBM_cAll_d19_mHO0_ch08', 'gLH_sBM_cAll_d16_mLH2_ch09', 'gWA_sBM_cAll_d26_mWA5_ch05', 'gHO_sBM_cAll_d19_mHO1_ch06', 'gMH_sFM_cAll_d23_mMH1_ch09', 'gJS_sBM_cAll_d01_mJS2_ch09', 'gWA_sBM_cAll_d27_mWA3_ch04', 'gJS_sBM_cAll_d03_mJS3_ch01', 'gLH_sBM_cAll_d18_mLH3_ch04', 'gPO_sBM_cAll_d10_mPO3_ch03', 'gJB_sBM_cAll_d09_mJB4_ch02', 'gMH_sBM_cAll_d23_mMH5_ch09', 'gBR_sBM_cAll_d05_mBR1_ch02', 'gJS_sBM_cAll_d01_mJS3_ch01', 'gMH_sBM_cAll_d22_mMH3_ch08', 'gJS_sBM_cAll_d01_mJS2_ch04', 'gKR_sBM_cAll_d29_mKR5_ch08', 'gJB_sBM_cAll_d08_mJB5_ch04', 'gWA_sBM_cAll_d25_mWA0_ch06', 'gMH_sFM_cAll_d22_mMH0_ch01', 'gHO_sBM_cAll_d21_mHO3_ch08', 'gLH_sBM_cAll_d18_mLH4_ch09', 'gPO_sBM_cAll_d11_mPO1_ch04', 'gLO_sBM_cAll_d15_mLO2_ch02', 'gKR_sBM_cAll_d28_mKR3_ch02', 'gWA_sBM_cAll_d26_mWA1_ch06', 'gHO_sFM_cAll_d20_mHO4_ch12', 'gPO_sBM_cAll_d10_mPO1_ch03', 'gHO_sBM_cAll_d20_mHO0_ch07', 'gJS_sBM_cAll_d01_mJS3_ch10', 'gLH_sBM_cAll_d18_mLH2_ch01', 'gBR_sBM_cAll_d05_mBR4_ch03', 'gLH_sBM_cAll_d16_mLH2_ch05', 'gLH_sBM_cAll_d18_mLH2_ch08', 'gWA_sBM_cAll_d27_mWA5_ch06', 'gHO_sBM_cAll_d20_mHO0_ch04', 'gHO_sBM_cAll_d19_mHO2_ch08', 'gWA_sBM_cAll_d27_mWA2_ch09', 'gPO_sBM_cAll_d11_mPO1_ch06', 'gBR_sBM_cAll_d04_mBR0_ch08', 'gHO_sBM_cAll_d19_mHO3_ch09', 'gLO_sFM_cAll_d13_mLO2_ch03', 'gLO_sBM_cAll_d15_mLO5_ch05', 'gHO_sBM_cAll_d19_mHO0_ch10', 'gHO_sBM_cAll_d21_mHO4_ch07', 'gPO_sBM_cAll_d11_mPO5_ch06', 'gLO_sBM_cAll_d13_mLO1_ch01', 'gBR_sBM_cAll_d04_mBR1_ch10', 'gPO_sBM_cAll_d11_mPO5_ch04', 'gHO_sBM_cAll_d21_mHO5_ch10', 'gPO_sBM_cAll_d11_mPO1_ch08', 'gLO_sBM_cAll_d13_mLO1_ch05', 'gBR_sBM_cAll_d04_mBR1_ch09', 'gLH_sBM_cAll_d16_mLH3_ch07', 'gJB_sFM_cAll_d09_mJB1_ch21', 'gLO_sBM_cAll_d14_mLO5_ch08', 'gLO_sBM_cAll_d13_mLO2_ch06', 'gWA_sBM_cAll_d26_mWA4_ch06', 'gMH_sBM_cAll_d23_mMH5_ch06', 'gLO_sBM_cAll_d14_mLO0_ch10', 'gLO_sBM_cAll_d15_mLO5_ch06', 'gBR_sBM_cAll_d06_mBR5_ch02', 'gPO_sBM_cAll_d12_mPO5_ch04', 'gBR_sBM_cAll_d04_mBR3_ch07', 'gPO_sBM_cAll_d11_mPO0_ch02', 'gMH_sBM_cAll_d24_mMH4_ch09', 'gBR_sBM_cAll_d05_mBR0_ch08', 'gKR_sFM_cAll_d30_mKR5_ch20', 'gWA_sBM_cAll_d26_mWA0_ch10', 'gLH_sBM_cAll_d17_mLH4_ch09', 'gKR_sBM_cAll_d29_mKR4_ch09', 'gKR_sBM_cAll_d30_mKR2_ch08', 'gKR_sBM_cAll_d30_mKR5_ch07', 'gJB_sBM_cAll_d07_mJB1_ch05', 'gPO_sBM_cAll_d12_mPO2_ch07', 'gHO_sBM_cAll_d20_mHO5_ch01', 'gMH_sBM_cAll_d24_mMH2_ch07', 'gJS_sBM_cAll_d01_mJS0_ch10', 'gMH_sBM_cAll_d23_mMH1_ch01', 'gLO_sBM_cAll_d13_mLO0_ch07', 'gWA_sBM_cAll_d26_mWA4_ch09', 'gMH_sBM_cAll_d23_mMH4_ch02', 'gJB_sBM_cAll_d07_mJB1_ch04', 'gHO_sBM_cAll_d19_mHO3_ch04', 'gWA_sBM_cAll_d27_mWA5_ch02', 'gKR_sBM_cAll_d29_mKR4_ch03', 'gPO_sBM_cAll_d12_mPO2_ch03', 'gJS_sBM_cAll_d03_mJS3_ch04', 'gJB_sBM_cAll_d07_mJB3_ch03', 'gJB_sBM_cAll_d09_mJB5_ch03', 'gJS_sFM_cAll_d03_mJS5_ch13'])\n"
          ]
        }
      ]
    },
    {
      "cell_type": "code",
      "source": [
        "print(audio_dict.keys())"
      ],
      "metadata": {
        "colab": {
          "base_uri": "https://localhost:8080/"
        },
        "id": "pQDS4MlrPnqq",
        "outputId": "2a878abf-9717-46d8-c4c9-6e6342b51370"
      },
      "execution_count": null,
      "outputs": [
        {
          "output_type": "stream",
          "name": "stdout",
          "text": [
            "dict_keys(['mWA4', 'mLO4', 'mJS5', 'mMH0', 'mBR1', 'mBR0', 'mHO1', 'mJB5', 'mWA0', 'mKR4', 'mPO3', 'mMH2', 'mHO0', 'mLO3', 'mJS0', 'mJB3', 'mHO2', 'mLH2', 'mKR1', 'mJS1', 'mJB4', 'mLO5', 'mMH3', 'mLH3', 'mBR4', 'mHO4', 'mMH5', 'mJS3', 'mJS2', 'mLO2', 'mWA3', 'mLO0', 'mPO2', 'mKR3', 'mKR2', 'mPO1', 'mHO3', 'mKR5', 'mPO0', 'mKR0', 'mPO4', 'mBR5', 'mJS4', 'mJB1', 'mBR2', 'mMH1', 'mLH4', 'mLH5', 'mJB2', 'mWA2', 'mWA1', 'mLH1', 'mMH4', 'mLO1', 'mLH0', 'mPO5', 'mJB0', 'mBR3', 'mHO5', 'mWA5'])\n"
          ]
        }
      ]
    },
    {
      "cell_type": "code",
      "source": [
        "X = []\n",
        "y = []\n",
        "for ak in audio_dict.keys():\n",
        "  mks = [k for k in motion_dict.keys() if ak in k]\n",
        "  for mk in mks:\n",
        "    X.append(motion_dict[mk])\n",
        "    y.append(audio_dict[ak])"
      ],
      "metadata": {
        "id": "4_Bp-uCPRcHv"
      },
      "execution_count": null,
      "outputs": []
    },
    {
      "cell_type": "code",
      "source": [
        "X = np.array(X)\n",
        "y = np.array(y)\n",
        "print(X.shape, y.shape)"
      ],
      "metadata": {
        "colab": {
          "base_uri": "https://localhost:8080/"
        },
        "id": "caquz5NASaui",
        "outputId": "c656716f-aeeb-445f-e939-b48644249d69"
      },
      "execution_count": null,
      "outputs": [
        {
          "output_type": "stream",
          "name": "stdout",
          "text": [
            "(1408, 426, 17, 3) (1408, 128, 1272)\n"
          ]
        }
      ]
    },
    {
      "cell_type": "code",
      "source": [
        "import tensorflow.keras as keras\n",
        "from tensorflow.keras import layers\n",
        "\n",
        "input_motion = keras.Input(shape=(426, 17, 3))\n",
        "\n",
        "x = layers.Conv2D(128, (3, 3), activation='relu', padding='same')(input_motion)\n",
        "x = layers.Conv2D(128, (3, 3), activation='relu', padding='same')(x)\n",
        "x = layers.MaxPooling2D((2, 2), padding='same')(x)\n",
        "x = layers.Conv2D(64, (3, 3), activation='relu', padding='same')(x)\n",
        "x = layers.Conv2D(64, (3, 3), activation='relu', padding='same')(x)\n",
        "x = layers.MaxPooling2D((2, 2), padding='same')(x)\n",
        "x = layers.Conv2D(64, (3, 3), activation='relu', padding='same')(x)\n",
        "x = layers.Conv2D(64, (3, 3), activation='relu', padding='same')(x)\n",
        "x = layers.MaxPooling2D((2, 2), padding='same')(x)\n",
        "x = layers.Conv2D(64, (3, 3), activation='relu', padding='same')(x)\n",
        "x = layers.Conv2D(64, (3, 3), activation='relu', padding='same')(x)\n",
        "x = layers.MaxPooling2D((2, 2), padding='same')(x)\n",
        "x = layers.Conv2D(64, (3, 3), activation='relu', padding='same')(x)\n",
        "x = layers.Conv2D(64, (3, 3), activation='relu', padding='same')(x)\n",
        "x = layers.MaxPooling2D((2, 2), padding='same')(x)\n",
        "x = layers.Conv2D(64, (3, 3), activation='relu', padding='same')(x)\n",
        "x = layers.Conv2D(64, (3, 3), activation='relu', padding='same')(x)\n",
        "x = layers.MaxPooling2D((2, 2), padding='same')(x)\n",
        "x = layers.Conv2D(64, (3, 3), activation='relu', padding='same')(x)\n",
        "x = layers.Conv2D(64, (3, 3), activation='relu', padding='same')(x)\n",
        "x = layers.MaxPooling2D((2, 2), padding='same')(x)\n",
        "x = layers.Conv2D(64, (3, 3), activation='relu', padding='same')(x)\n",
        "x = layers.Conv2D(64, (3, 3), activation='relu', padding='same')(x)\n",
        "x = layers.MaxPooling2D((2, 2), padding='same')(x)\n",
        "x = layers.Conv2D(64, (3, 3), activation='relu', padding='same')(x)\n",
        "x = layers.Conv2D(64, (3, 3), activation='relu', padding='same')(x)\n",
        "encoded = layers.MaxPooling2D((2, 2), padding='same')(x)\n",
        "\n",
        "z = layers.Flatten()(encoded)\n",
        "x = layers.Reshape((64, 1), input_shape=(64,))(z)\n",
        "x = layers.Conv1D(256, (3), activation='relu', padding='same')(x)\n",
        "x = layers.Conv1D(256, (3), activation='relu', padding='same')(x)\n",
        "x = layers.UpSampling1D((2))(x)\n",
        "decoded = layers.Conv1D(1272, (1), activation='linear', padding='same')(x)\n",
        "\n",
        "autoencoder = keras.Model(input_motion, decoded)\n",
        "autoencoder.compile(optimizer='adam', loss='mse')"
      ],
      "metadata": {
        "id": "2xGOEVPdxQAl"
      },
      "execution_count": null,
      "outputs": []
    },
    {
      "cell_type": "code",
      "source": [
        "autoencoder.summary()"
      ],
      "metadata": {
        "colab": {
          "base_uri": "https://localhost:8080/"
        },
        "id": "oh-c4lrrK1_E",
        "outputId": "833fa3e1-39a6-43b1-9034-6fee2d65e2ad"
      },
      "execution_count": null,
      "outputs": [
        {
          "output_type": "stream",
          "name": "stdout",
          "text": [
            "Model: \"model\"\n",
            "_________________________________________________________________\n",
            " Layer (type)                Output Shape              Param #   \n",
            "=================================================================\n",
            " input_1 (InputLayer)        [(None, 426, 17, 3)]      0         \n",
            "                                                                 \n",
            " conv2d (Conv2D)             (None, 426, 17, 128)      3584      \n",
            "                                                                 \n",
            " conv2d_1 (Conv2D)           (None, 426, 17, 128)      147584    \n",
            "                                                                 \n",
            " max_pooling2d (MaxPooling2D  (None, 213, 9, 128)      0         \n",
            " )                                                               \n",
            "                                                                 \n",
            " conv2d_2 (Conv2D)           (None, 213, 9, 64)        73792     \n",
            "                                                                 \n",
            " conv2d_3 (Conv2D)           (None, 213, 9, 64)        36928     \n",
            "                                                                 \n",
            " max_pooling2d_1 (MaxPooling  (None, 107, 5, 64)       0         \n",
            " 2D)                                                             \n",
            "                                                                 \n",
            " conv2d_4 (Conv2D)           (None, 107, 5, 64)        36928     \n",
            "                                                                 \n",
            " conv2d_5 (Conv2D)           (None, 107, 5, 64)        36928     \n",
            "                                                                 \n",
            " max_pooling2d_2 (MaxPooling  (None, 54, 3, 64)        0         \n",
            " 2D)                                                             \n",
            "                                                                 \n",
            " conv2d_6 (Conv2D)           (None, 54, 3, 64)         36928     \n",
            "                                                                 \n",
            " conv2d_7 (Conv2D)           (None, 54, 3, 64)         36928     \n",
            "                                                                 \n",
            " max_pooling2d_3 (MaxPooling  (None, 27, 2, 64)        0         \n",
            " 2D)                                                             \n",
            "                                                                 \n",
            " conv2d_8 (Conv2D)           (None, 27, 2, 64)         36928     \n",
            "                                                                 \n",
            " conv2d_9 (Conv2D)           (None, 27, 2, 64)         36928     \n",
            "                                                                 \n",
            " max_pooling2d_4 (MaxPooling  (None, 14, 1, 64)        0         \n",
            " 2D)                                                             \n",
            "                                                                 \n",
            " conv2d_10 (Conv2D)          (None, 14, 1, 64)         36928     \n",
            "                                                                 \n",
            " conv2d_11 (Conv2D)          (None, 14, 1, 64)         36928     \n",
            "                                                                 \n",
            " max_pooling2d_5 (MaxPooling  (None, 7, 1, 64)         0         \n",
            " 2D)                                                             \n",
            "                                                                 \n",
            " conv2d_12 (Conv2D)          (None, 7, 1, 64)          36928     \n",
            "                                                                 \n",
            " conv2d_13 (Conv2D)          (None, 7, 1, 64)          36928     \n",
            "                                                                 \n",
            " max_pooling2d_6 (MaxPooling  (None, 4, 1, 64)         0         \n",
            " 2D)                                                             \n",
            "                                                                 \n",
            " conv2d_14 (Conv2D)          (None, 4, 1, 64)          36928     \n",
            "                                                                 \n",
            " conv2d_15 (Conv2D)          (None, 4, 1, 64)          36928     \n",
            "                                                                 \n",
            " max_pooling2d_7 (MaxPooling  (None, 2, 1, 64)         0         \n",
            " 2D)                                                             \n",
            "                                                                 \n",
            " conv2d_16 (Conv2D)          (None, 2, 1, 64)          36928     \n",
            "                                                                 \n",
            " conv2d_17 (Conv2D)          (None, 2, 1, 64)          36928     \n",
            "                                                                 \n",
            " max_pooling2d_8 (MaxPooling  (None, 1, 1, 64)         0         \n",
            " 2D)                                                             \n",
            "                                                                 \n",
            " flatten (Flatten)           (None, 64)                0         \n",
            "                                                                 \n",
            " reshape (Reshape)           (None, 64, 1)             0         \n",
            "                                                                 \n",
            " conv1d (Conv1D)             (None, 64, 256)           1024      \n",
            "                                                                 \n",
            " conv1d_1 (Conv1D)           (None, 64, 256)           196864    \n",
            "                                                                 \n",
            " up_sampling1d (UpSampling1D  (None, 128, 256)         0         \n",
            " )                                                               \n",
            "                                                                 \n",
            " conv1d_2 (Conv1D)           (None, 128, 1272)         326904    \n",
            "                                                                 \n",
            "=================================================================\n",
            "Total params: 1,303,672\n",
            "Trainable params: 1,303,672\n",
            "Non-trainable params: 0\n",
            "_________________________________________________________________\n"
          ]
        }
      ]
    },
    {
      "cell_type": "code",
      "source": [
        "import tensorflow as tf\n",
        "tf.config.run_functions_eagerly(True)"
      ],
      "metadata": {
        "id": "673JYTJSPlmu"
      },
      "execution_count": null,
      "outputs": []
    },
    {
      "cell_type": "code",
      "source": [
        "\n",
        "autoencoder.fit(X, y, 64, epochs=100)"
      ],
      "metadata": {
        "colab": {
          "base_uri": "https://localhost:8080/"
        },
        "id": "45Y4F8_dN60h",
        "outputId": "37ab8e56-de68-4194-9e47-c843e09064c1"
      },
      "execution_count": null,
      "outputs": [
        {
          "output_type": "stream",
          "name": "stdout",
          "text": [
            "Epoch 1/100\n",
            "22/22 [==============================] - 14s 168ms/step - loss: 50910.4531\n",
            "Epoch 2/100\n",
            "22/22 [==============================] - 4s 171ms/step - loss: 48855.5117\n",
            "Epoch 3/100\n",
            "22/22 [==============================] - 4s 171ms/step - loss: 40830.8594\n",
            "Epoch 4/100\n",
            "22/22 [==============================] - 4s 170ms/step - loss: 39483.5898\n",
            "Epoch 5/100\n",
            "22/22 [==============================] - 4s 170ms/step - loss: 39776.3164\n",
            "Epoch 6/100\n",
            "22/22 [==============================] - 4s 169ms/step - loss: 39147.6250\n",
            "Epoch 7/100\n",
            "22/22 [==============================] - 4s 171ms/step - loss: 39139.2773\n",
            "Epoch 8/100\n",
            "22/22 [==============================] - 4s 170ms/step - loss: 39201.6914\n",
            "Epoch 9/100\n",
            "22/22 [==============================] - 4s 171ms/step - loss: 39167.3672\n",
            "Epoch 10/100\n",
            "22/22 [==============================] - 4s 170ms/step - loss: 39388.9219\n",
            "Epoch 11/100\n",
            "22/22 [==============================] - 4s 170ms/step - loss: 39233.6719\n",
            "Epoch 12/100\n",
            "22/22 [==============================] - 4s 172ms/step - loss: 39815.2812\n",
            "Epoch 13/100\n",
            "22/22 [==============================] - 4s 171ms/step - loss: 39218.9922\n",
            "Epoch 14/100\n",
            "22/22 [==============================] - 4s 172ms/step - loss: 39173.0625\n",
            "Epoch 15/100\n",
            "22/22 [==============================] - 4s 171ms/step - loss: 39244.3242\n",
            "Epoch 16/100\n",
            "22/22 [==============================] - 4s 174ms/step - loss: 39536.0742\n",
            "Epoch 17/100\n",
            "22/22 [==============================] - 4s 172ms/step - loss: 39303.8867\n",
            "Epoch 18/100\n",
            "22/22 [==============================] - 4s 172ms/step - loss: 39252.1211\n",
            "Epoch 19/100\n",
            "22/22 [==============================] - 4s 173ms/step - loss: 39059.8711\n",
            "Epoch 20/100\n",
            "22/22 [==============================] - 4s 173ms/step - loss: 39249.2383\n",
            "Epoch 21/100\n",
            "22/22 [==============================] - 4s 173ms/step - loss: 39554.4961\n",
            "Epoch 22/100\n",
            "22/22 [==============================] - 4s 173ms/step - loss: 39260.1250\n",
            "Epoch 23/100\n",
            "22/22 [==============================] - 4s 173ms/step - loss: 39210.8125\n",
            "Epoch 24/100\n",
            "22/22 [==============================] - 4s 173ms/step - loss: 39218.6289\n",
            "Epoch 25/100\n",
            "22/22 [==============================] - 4s 172ms/step - loss: 39162.3281\n",
            "Epoch 26/100\n",
            "22/22 [==============================] - 4s 179ms/step - loss: 39081.9336\n",
            "Epoch 27/100\n",
            "22/22 [==============================] - 4s 174ms/step - loss: 39213.6719\n",
            "Epoch 28/100\n",
            "22/22 [==============================] - 4s 172ms/step - loss: 39390.4922\n",
            "Epoch 29/100\n",
            "22/22 [==============================] - 4s 170ms/step - loss: 39219.6562\n",
            "Epoch 30/100\n",
            "22/22 [==============================] - 4s 171ms/step - loss: 39155.9336\n",
            "Epoch 31/100\n",
            "22/22 [==============================] - 4s 171ms/step - loss: 39080.9922\n",
            "Epoch 32/100\n",
            "22/22 [==============================] - 4s 170ms/step - loss: 39114.7031\n",
            "Epoch 33/100\n",
            "22/22 [==============================] - 4s 171ms/step - loss: 39401.3828\n",
            "Epoch 34/100\n",
            "22/22 [==============================] - 4s 172ms/step - loss: 39361.2930\n",
            "Epoch 35/100\n",
            "22/22 [==============================] - 4s 171ms/step - loss: 39097.7109\n",
            "Epoch 36/100\n",
            "22/22 [==============================] - 4s 173ms/step - loss: 39139.7617\n",
            "Epoch 37/100\n",
            "22/22 [==============================] - 4s 173ms/step - loss: 39294.1797\n",
            "Epoch 38/100\n",
            "22/22 [==============================] - 4s 172ms/step - loss: 39277.6133\n",
            "Epoch 39/100\n",
            "22/22 [==============================] - 4s 171ms/step - loss: 39397.0898\n",
            "Epoch 40/100\n",
            "22/22 [==============================] - 4s 172ms/step - loss: 39148.3242\n",
            "Epoch 41/100\n",
            "22/22 [==============================] - 4s 174ms/step - loss: 39148.3086\n",
            "Epoch 42/100\n",
            "22/22 [==============================] - 4s 172ms/step - loss: 39132.5742\n",
            "Epoch 43/100\n",
            "22/22 [==============================] - 4s 173ms/step - loss: 39076.0039\n",
            "Epoch 44/100\n",
            "22/22 [==============================] - 4s 171ms/step - loss: 39153.1914\n",
            "Epoch 45/100\n",
            "22/22 [==============================] - 4s 173ms/step - loss: 39126.9805\n",
            "Epoch 46/100\n",
            "22/22 [==============================] - 4s 171ms/step - loss: 39077.7109\n",
            "Epoch 47/100\n",
            "22/22 [==============================] - 4s 173ms/step - loss: 39206.5547\n",
            "Epoch 48/100\n",
            "22/22 [==============================] - 4s 172ms/step - loss: 39229.3477\n",
            "Epoch 49/100\n",
            "22/22 [==============================] - 4s 172ms/step - loss: 39126.2031\n",
            "Epoch 50/100\n",
            "22/22 [==============================] - 4s 171ms/step - loss: 39067.8086\n",
            "Epoch 51/100\n",
            "22/22 [==============================] - 4s 172ms/step - loss: 39423.3008\n",
            "Epoch 52/100\n",
            "22/22 [==============================] - 4s 174ms/step - loss: 39071.5586\n",
            "Epoch 53/100\n",
            "22/22 [==============================] - 4s 172ms/step - loss: 39143.6641\n",
            "Epoch 54/100\n",
            "22/22 [==============================] - 4s 172ms/step - loss: 39217.1055\n",
            "Epoch 55/100\n",
            "22/22 [==============================] - 4s 172ms/step - loss: 39145.2188\n",
            "Epoch 56/100\n",
            "22/22 [==============================] - 4s 172ms/step - loss: 39353.7148\n",
            "Epoch 57/100\n",
            "22/22 [==============================] - 4s 172ms/step - loss: 39167.1914\n",
            "Epoch 58/100\n",
            "22/22 [==============================] - 4s 171ms/step - loss: 39127.3945\n",
            "Epoch 59/100\n",
            "22/22 [==============================] - 4s 172ms/step - loss: 39104.0273\n",
            "Epoch 60/100\n",
            "22/22 [==============================] - 4s 171ms/step - loss: 39349.7773\n",
            "Epoch 61/100\n",
            "22/22 [==============================] - 4s 171ms/step - loss: 39051.2812\n",
            "Epoch 62/100\n",
            "22/22 [==============================] - 4s 174ms/step - loss: 39042.3203\n",
            "Epoch 63/100\n",
            "22/22 [==============================] - 4s 174ms/step - loss: 39145.1992\n",
            "Epoch 64/100\n",
            "22/22 [==============================] - 4s 172ms/step - loss: 39054.5859\n",
            "Epoch 65/100\n",
            "22/22 [==============================] - 4s 175ms/step - loss: 39149.4727\n",
            "Epoch 66/100\n",
            "22/22 [==============================] - 4s 174ms/step - loss: 39119.5469\n",
            "Epoch 67/100\n",
            "22/22 [==============================] - 4s 172ms/step - loss: 39202.7656\n",
            "Epoch 68/100\n",
            "22/22 [==============================] - 4s 172ms/step - loss: 39602.7656\n",
            "Epoch 69/100\n",
            "22/22 [==============================] - 4s 174ms/step - loss: 39294.6875\n",
            "Epoch 70/100\n",
            "22/22 [==============================] - 4s 177ms/step - loss: 39080.6055\n",
            "Epoch 71/100\n",
            "22/22 [==============================] - 4s 171ms/step - loss: 39117.4648\n",
            "Epoch 72/100\n",
            "22/22 [==============================] - 4s 171ms/step - loss: 39140.6836\n",
            "Epoch 73/100\n",
            "22/22 [==============================] - 4s 172ms/step - loss: 39215.3398\n",
            "Epoch 74/100\n",
            "22/22 [==============================] - 4s 171ms/step - loss: 39217.2539\n",
            "Epoch 75/100\n",
            "22/22 [==============================] - 4s 172ms/step - loss: 39076.5117\n",
            "Epoch 76/100\n",
            "22/22 [==============================] - 4s 171ms/step - loss: 39042.3281\n",
            "Epoch 77/100\n",
            "22/22 [==============================] - 4s 172ms/step - loss: 39068.9961\n",
            "Epoch 78/100\n",
            "22/22 [==============================] - 4s 172ms/step - loss: 39025.2930\n",
            "Epoch 79/100\n",
            "22/22 [==============================] - 4s 172ms/step - loss: 39085.4414\n",
            "Epoch 80/100\n",
            "22/22 [==============================] - 4s 171ms/step - loss: 39186.0781\n",
            "Epoch 81/100\n",
            "22/22 [==============================] - 4s 172ms/step - loss: 39149.9219\n",
            "Epoch 82/100\n",
            "22/22 [==============================] - 4s 171ms/step - loss: 39103.8398\n",
            "Epoch 83/100\n",
            "22/22 [==============================] - 4s 172ms/step - loss: 39109.5938\n",
            "Epoch 84/100\n",
            "22/22 [==============================] - 4s 171ms/step - loss: 39132.5781\n",
            "Epoch 85/100\n",
            "22/22 [==============================] - 4s 172ms/step - loss: 39029.2852\n",
            "Epoch 86/100\n",
            "22/22 [==============================] - 4s 171ms/step - loss: 39133.9609\n",
            "Epoch 87/100\n",
            "22/22 [==============================] - 4s 171ms/step - loss: 39183.4062\n",
            "Epoch 88/100\n",
            "22/22 [==============================] - 4s 172ms/step - loss: 39102.0586\n",
            "Epoch 89/100\n",
            "22/22 [==============================] - 4s 174ms/step - loss: 39101.6133\n",
            "Epoch 90/100\n",
            "22/22 [==============================] - 4s 172ms/step - loss: 39076.5156\n",
            "Epoch 91/100\n",
            "22/22 [==============================] - 4s 172ms/step - loss: 39219.7031\n",
            "Epoch 92/100\n",
            "22/22 [==============================] - 4s 172ms/step - loss: 39106.1406\n",
            "Epoch 93/100\n",
            "22/22 [==============================] - 4s 173ms/step - loss: 39172.8711\n",
            "Epoch 94/100\n",
            "22/22 [==============================] - 4s 172ms/step - loss: 39122.4570\n",
            "Epoch 95/100\n",
            "22/22 [==============================] - 4s 173ms/step - loss: 39184.6523\n",
            "Epoch 96/100\n",
            "22/22 [==============================] - 4s 173ms/step - loss: 39303.2930\n",
            "Epoch 97/100\n",
            "22/22 [==============================] - 4s 173ms/step - loss: 39043.7031\n",
            "Epoch 98/100\n",
            "22/22 [==============================] - 4s 173ms/step - loss: 39096.8477\n",
            "Epoch 99/100\n",
            "22/22 [==============================] - 4s 172ms/step - loss: 39101.1992\n",
            "Epoch 100/100\n",
            "22/22 [==============================] - 4s 173ms/step - loss: 39095.6602\n"
          ]
        },
        {
          "output_type": "execute_result",
          "data": {
            "text/plain": [
              "<keras.callbacks.History at 0x7ffa34963970>"
            ]
          },
          "metadata": {},
          "execution_count": 13
        }
      ]
    },
    {
      "cell_type": "code",
      "source": [
        "pred_X = np.array([X[0]])\n",
        "# print(pred_X.shape)\n",
        "out_spec = autoencoder(pred_X)\n"
      ],
      "metadata": {
        "id": "Lzo07n2ZzpCj"
      },
      "execution_count": null,
      "outputs": []
    },
    {
      "cell_type": "code",
      "source": [
        "print(out_spec.shape)\n",
        "out_spec = np.array(out_spec, dtype=\"float32\")\n"
      ],
      "metadata": {
        "colab": {
          "base_uri": "https://localhost:8080/"
        },
        "id": "njCEfPDE0f_I",
        "outputId": "dc0d1b29-6f7b-4406-a724-20924d8223ce"
      },
      "execution_count": null,
      "outputs": [
        {
          "output_type": "stream",
          "name": "stdout",
          "text": [
            "(1, 128, 1272)\n"
          ]
        }
      ]
    },
    {
      "cell_type": "code",
      "source": [
        "out_spec = out_spec.reshape(128, 1272)"
      ],
      "metadata": {
        "id": "j5JiOuMD0-lb"
      },
      "execution_count": null,
      "outputs": []
    },
    {
      "cell_type": "code",
      "source": [
        "res = librosa.feature.inverse.mel_to_audio(out_spec, \n",
        "                                           sr=my_sample_rate, \n",
        "                                           n_fft=2048, \n",
        "                                           hop_length=512, \n",
        "                                           win_length=None, \n",
        "                                           window='hann', \n",
        "                                           center=True, \n",
        "                                           pad_mode='reflect', \n",
        "                                           power=2.0, \n",
        "                                           n_iter=32)\n",
        "\n",
        "import soundfile as sf\n",
        "sf.write(\"test1.wav\", res, my_sample_rate)"
      ],
      "metadata": {
        "id": "tT5bPm0aqwgy"
      },
      "execution_count": null,
      "outputs": []
    },
    {
      "cell_type": "code",
      "source": [],
      "metadata": {
        "id": "lR2q0vNP000i"
      },
      "execution_count": null,
      "outputs": []
    }
  ],
  "metadata": {
    "colab": {
      "provenance": [],
      "authorship_tag": "ABX9TyPBceetE8+9edRa3SIVzfUr",
      "include_colab_link": true
    },
    "kernelspec": {
      "display_name": "Python 3",
      "name": "python3"
    },
    "language_info": {
      "name": "python"
    },
    "accelerator": "GPU",
    "gpuClass": "standard"
  },
  "nbformat": 4,
  "nbformat_minor": 0
}