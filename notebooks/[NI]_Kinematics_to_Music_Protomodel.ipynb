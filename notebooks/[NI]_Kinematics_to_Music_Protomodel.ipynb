{
  "cells": [
    {
      "cell_type": "markdown",
      "metadata": {
        "id": "view-in-github",
        "colab_type": "text"
      },
      "source": [
        "<a href=\"https://colab.research.google.com/github/dakilaledesma/VIGOR2/blob/main/notebooks/%5BNI%5D_Kinematics_to_Music_Protomodel.ipynb\" target=\"_parent\"><img src=\"https://colab.research.google.com/assets/colab-badge.svg\" alt=\"Open In Colab\"/></a>"
      ]
    },
    {
      "cell_type": "code",
      "source": [
        "import warnings\n",
        "warnings.filterwarnings('ignore')"
      ],
      "metadata": {
        "id": "XysEK55L30ix"
      },
      "execution_count": 3,
      "outputs": []
    },
    {
      "cell_type": "code",
      "execution_count": 1,
      "metadata": {
        "colab": {
          "base_uri": "https://localhost:8080/"
        },
        "id": "Uv8KgyGL-wtX",
        "outputId": "223ad682-2b37-48fd-a356-507669724343"
      },
      "outputs": [
        {
          "output_type": "stream",
          "name": "stdout",
          "text": [
            "  % Total    % Received % Xferd  Average Speed   Time    Time     Time  Current\n",
            "                                 Dload  Upload   Total   Spent    Left  Speed\n",
            "100  305M  100  305M    0     0  30.0M      0  0:00:10  0:00:10 --:--:-- 46.3M\n",
            "  % Total    % Received % Xferd  Average Speed   Time    Time     Time  Current\n",
            "                                 Dload  Upload   Total   Spent    Left  Speed\n",
            "100 90.6M  100 90.6M    0     0  25.1M      0  0:00:03  0:00:03 --:--:-- 25.1M\n",
            "  % Total    % Received % Xferd  Average Speed   Time    Time     Time  Current\n",
            "                                 Dload  Upload   Total   Spent    Left  Speed\n",
            "100  834M  100  834M    0     0  45.6M      0  0:00:18  0:00:18 --:--:-- 48.3M\n"
          ]
        }
      ],
      "source": [
        "! curl -L https://herbarium.ucht.cloud/s/AoZFbaKWofEfHiF/download --output motions.zip\n",
        "! curl -L https://herbarium.ucht.cloud/s/Cn55KNbEBqtrDCg/download --output mp3.zip\n",
        "! curl -L https://herbarium.ucht.cloud/s/MayD6rAGWoKmGw8/download --output keypoints3d.zip\n",
        "! unzip -q motions.zip\n",
        "! unzip -q keypoints3d.zip\n",
        "! unzip -q mp3.zip"
      ]
    },
    {
      "cell_type": "code",
      "source": [
        "audio_dict = {}\n",
        "motion_dict = {}"
      ],
      "metadata": {
        "id": "4IEfhm99BUSj"
      },
      "execution_count": 14,
      "outputs": []
    },
    {
      "cell_type": "code",
      "execution_count": 15,
      "metadata": {
        "id": "pYUyel4isa5S"
      },
      "outputs": [],
      "source": [
        "# Thanks to https://stackoverflow.com/questions/69387104/how-to-convert-wav-audio-file-from-mel-spectrogram\n",
        "import librosa\n",
        "import os\n",
        "from glob import glob\n",
        "\n",
        "for aud in glob(\"mp3/*.mp3\"):\n",
        "  my_audio_as_np_array, my_sample_rate = librosa.load(aud)\n",
        "\n",
        "  spec = librosa.feature.melspectrogram(y=my_audio_as_np_array,\n",
        "                                          sr=my_sample_rate, \n",
        "                                              n_fft=2048, \n",
        "                                              hop_length=512, \n",
        "                                              win_length=None, \n",
        "                                              window='hann', \n",
        "                                              center=True, \n",
        "                                              pad_mode='reflect', \n",
        "                                              power=2.0,\n",
        "                                      n_mels=128)\n",
        "  spec = spec.T[:1272].T # Minimum is (128, 1273)\n",
        "  bn = os.path.basename(aud).replace(\".mp3\", '')\n",
        "  audio_dict[bn] = spec"
      ]
    },
    {
      "cell_type": "code",
      "source": [
        "import pickle\n",
        "import numpy as np\n",
        "import matplotlib.pyplot as plt\n",
        "\n",
        "for fn in glob(\"keypoints3d/*.pkl\"):\n",
        "  with open(fn, \"rb\") as motion:\n",
        "    m = pickle.load(motion)\n",
        "    bn = os.path.basename(fn).replace(\".pkl\", '')\n",
        "    motion_dict[bn] = m[\"keypoints3d\"][:425] # Minimum is (426, 17, 3), axis=0 is all different"
      ],
      "metadata": {
        "id": "fZn4k-IN-xps"
      },
      "execution_count": 16,
      "outputs": []
    },
    {
      "cell_type": "code",
      "source": [
        "print(motion_dict.keys())"
      ],
      "metadata": {
        "colab": {
          "base_uri": "https://localhost:8080/"
        },
        "id": "V2POifJQPjhf",
        "outputId": "cd63f20a-b66a-401f-fb07-a81110814f9e"
      },
      "execution_count": 17,
      "outputs": [
        {
          "output_type": "stream",
          "name": "stdout",
          "text": [
            "dict_keys(['gLH_sBM_cAll_d18_mLH5_ch06', 'gBR_sBM_cAll_d04_mBR0_ch03', 'gKR_sFM_cAll_d29_mKR5_ch13', 'gMH_sBM_cAll_d24_mMH5_ch02', 'gWA_sBM_cAll_d26_mWA5_ch04', 'gJB_sFM_cAll_d08_mJB0_ch08', 'gLO_sBM_cAll_d13_mLO1_ch03', 'gKR_sBM_cAll_d28_mKR3_ch09', 'gHO_sBM_cAll_d19_mHO3_ch02', 'gJS_sBM_cAll_d03_mJS5_ch08', 'gKR_sBM_cAll_d29_mKR0_ch07', 'gKR_sBM_cAll_d30_mKR4_ch10', 'gMH_sBM_cAll_d24_mMH5_ch07', 'gKR_sBM_cAll_d30_mKR3_ch10', 'gLH_sBM_cAll_d18_mLH4_ch05', 'gBR_sBM_cAll_d05_mBR1_ch02', 'gBR_sBM_cAll_d06_mBR4_ch09', 'gLH_sBM_cAll_d18_mLH4_ch01', 'gWA_sBM_cAll_d26_mWA0_ch06', 'gHO_sBM_cAll_d20_mHO5_ch10', 'gKR_sFM_cAll_d28_mKR3_ch07', 'gLH_sBM_cAll_d17_mLH5_ch06', 'gKR_sBM_cAll_d30_mKR3_ch06', 'gMH_sBM_cAll_d22_mMH0_ch08', 'gLH_sFM_cAll_d16_mLH2_ch03', 'gWA_sFM_cAll_d26_mWA2_ch10', 'gLH_sBM_cAll_d18_mLH5_ch10', 'gMH_sBM_cAll_d22_mMH1_ch03', 'gKR_sBM_cAll_d29_mKR0_ch04', 'gLO_sBM_cAll_d14_mLO4_ch03', 'gKR_sBM_cAll_d29_mKR5_ch03', 'gLH_sFM_cAll_d16_mLH0_ch01', 'gLO_sBM_cAll_d15_mLO2_ch04', 'gJB_sBM_cAll_d09_mJB3_ch04', 'gJS_sBM_cAll_d02_mJS0_ch10', 'gHO_sBM_cAll_d19_mHO3_ch10', 'gBR_sBM_cAll_d05_mBR5_ch06', 'gJB_sBM_cAll_d07_mJB3_ch07', 'gMH_sBM_cAll_d22_mMH1_ch06', 'gLO_sBM_cAll_d13_mLO3_ch08', 'gMH_sBM_cAll_d24_mMH4_ch09', 'gBR_sBM_cAll_d04_mBR2_ch10', 'gPO_sFM_cAll_d10_mPO4_ch05', 'gWA_sBM_cAll_d25_mWA3_ch03', 'gJS_sBM_cAll_d03_mJS5_ch07', 'gBR_sBM_cAll_d04_mBR2_ch09', 'gKR_sBM_cAll_d28_mKR2_ch06', 'gBR_sBM_cAll_d04_mBR3_ch06', 'gLO_sBM_cAll_d14_mLO5_ch06', 'gJB_sBM_cAll_d08_mJB1_ch01', 'gJB_sBM_cAll_d08_mJB1_ch06', 'gHO_sFM_cAll_d20_mHO2_ch10', 'gKR_sBM_cAll_d29_mKR0_ch03', 'gJB_sBM_cAll_d08_mJB5_ch07', 'gPO_sBM_cAll_d11_mPO0_ch05', 'gMH_sBM_cAll_d24_mMH3_ch03', 'gBR_sBM_cAll_d06_mBR3_ch05', 'gLH_sBM_cAll_d18_mLH4_ch02', 'gLO_sBM_cAll_d13_mLO3_ch03', 'gJB_sBM_cAll_d09_mJB2_ch07', 'gKR_sBM_cAll_d29_mKR1_ch06', 'gWA_sFM_cAll_d27_mWA4_ch19', 'gPO_sBM_cAll_d11_mPO1_ch06', 'gJS_sFM_cAll_d02_mJS0_ch08', 'gPO_sBM_cAll_d11_mPO1_ch03', 'gKR_sBM_cAll_d30_mKR4_ch02', 'gLH_sBM_cAll_d16_mLH2_ch04', 'gLH_sBM_cAll_d17_mLH0_ch05', 'gLO_sBM_cAll_d13_mLO2_ch03', 'gHO_sBM_cAll_d19_mHO3_ch09', 'gBR_sBM_cAll_d05_mBR1_ch01', 'gLO_sBM_cAll_d15_mLO2_ch06', 'gWA_sBM_cAll_d25_mWA0_ch01', 'gWA_sBM_cAll_d25_mWA1_ch09', 'gJB_sBM_cAll_d07_mJB0_ch05', 'gMH_sBM_cAll_d24_mMH5_ch04', 'gPO_sBM_cAll_d10_mPO1_ch03', 'gHO_sFM_cAll_d20_mHO4_ch12', 'gJB_sFM_cAll_d07_mJB2_ch03', 'gLH_sBM_cAll_d16_mLH3_ch03', 'gJB_sBM_cAll_d07_mJB3_ch08', 'gWA_sBM_cAll_d25_mWA0_ch02', 'gLH_sBM_cAll_d17_mLH1_ch04', 'gJB_sFM_cAll_d09_mJB0_ch15', 'gJB_sBM_cAll_d08_mJB4_ch08', 'gLH_sBM_cAll_d16_mLH1_ch08', 'gLH_sBM_cAll_d17_mLH4_ch08', 'gBR_sBM_cAll_d05_mBR4_ch05', 'gJS_sBM_cAll_d03_mJS4_ch08', 'gWA_sBM_cAll_d26_mWA1_ch07', 'gJB_sBM_cAll_d08_mJB0_ch07', 'gJS_sBM_cAll_d03_mJS2_ch08', 'gJB_sBM_cAll_d08_mJB0_ch08', 'gJS_sBM_cAll_d01_mJS0_ch07', 'gHO_sBM_cAll_d20_mHO1_ch03', 'gKR_sBM_cAll_d29_mKR0_ch06', 'gBR_sBM_cAll_d05_mBR0_ch08', 'gJB_sBM_cAll_d07_mJB1_ch02', 'gKR_sBM_cAll_d29_mKR5_ch05', 'gBR_sBM_cAll_d05_mBR4_ch08', 'gKR_sBM_cAll_d30_mKR5_ch06', 'gHO_sBM_cAll_d21_mHO5_ch07', 'gBR_sFM_cAll_d06_mBR4_ch20', 'gKR_sBM_cAll_d29_mKR1_ch05', 'gJS_sBM_cAll_d03_mJS2_ch03', 'gJB_sBM_cAll_d08_mJB5_ch10', 'gJB_sFM_cAll_d09_mJB1_ch21', 'gJB_sBM_cAll_d07_mJB1_ch09', 'gLH_sBM_cAll_d17_mLH4_ch01', 'gPO_sBM_cAll_d12_mPO5_ch01', 'gJS_sBM_cAll_d03_mJS2_ch01', 'gMH_sBM_cAll_d22_mMH3_ch04', 'gLH_sBM_cAll_d17_mLH5_ch08', 'gKR_sBM_cAll_d28_mKR2_ch03', 'gJS_sBM_cAll_d03_mJS4_ch07', 'gLH_sBM_cAll_d16_mLH2_ch02', 'gMH_sBM_cAll_d22_mMH3_ch03', 'gMH_sBM_cAll_d22_mMH3_ch08', 'gBR_sFM_cAll_d06_mBR5_ch19', 'gJB_sBM_cAll_d07_mJB2_ch05', 'gJS_sBM_cAll_d01_mJS1_ch06', 'gKR_sBM_cAll_d30_mKR5_ch01', 'gJS_sBM_cAll_d02_mJS1_ch06', 'gKR_sFM_cAll_d28_mKR4_ch05', 'gKR_sFM_cAll_d29_mKR2_ch10', 'gWA_sBM_cAll_d26_mWA4_ch08', 'gJS_sBM_cAll_d02_mJS5_ch03', 'gLO_sBM_cAll_d15_mLO5_ch08', 'gJB_sBM_cAll_d08_mJB4_ch07', 'gJB_sBM_cAll_d07_mJB3_ch06', 'gJB_sBM_cAll_d07_mJB3_ch10', 'gWA_sFM_cAll_d27_mWA2_ch21', 'gHO_sBM_cAll_d21_mHO5_ch01', 'gLO_sBM_cAll_d15_mLO4_ch06', 'gHO_sBM_cAll_d19_mHO1_ch10', 'gLO_sBM_cAll_d13_mLO1_ch01', 'gLH_sBM_cAll_d17_mLH1_ch08', 'gLH_sBM_cAll_d16_mLH3_ch07', 'gBR_sBM_cAll_d06_mBR5_ch08', 'gLH_sBM_cAll_d16_mLH0_ch07', 'gHO_sBM_cAll_d21_mHO4_ch05', 'gMH_sBM_cAll_d24_mMH4_ch05', 'gMH_sFM_cAll_d23_mMH0_ch14', 'gJS_sBM_cAll_d01_mJS1_ch03', 'gWA_sFM_cAll_d25_mWA2_ch03', 'gHO_sBM_cAll_d21_mHO2_ch03', 'gJB_sBM_cAll_d08_mJB5_ch08', 'gMH_sBM_cAll_d23_mMH5_ch01', 'gWA_sBM_cAll_d27_mWA3_ch02', 'gKR_sFM_cAll_d30_mKR5_ch20', 'gMH_sBM_cAll_d23_mMH0_ch03', 'gBR_sBM_cAll_d06_mBR5_ch03', 'gKR_sBM_cAll_d29_mKR0_ch09', 'gLO_sBM_cAll_d13_mLO1_ch06', 'gJS_sBM_cAll_d03_mJS3_ch08', 'gHO_sBM_cAll_d21_mHO5_ch09', 'gJB_sBM_cAll_d09_mJB3_ch01', 'gHO_sBM_cAll_d21_mHO5_ch02', 'gLO_sBM_cAll_d13_mLO0_ch06', 'gJS_sBM_cAll_d03_mJS2_ch06', 'gHO_sBM_cAll_d19_mHO0_ch10', 'gMH_sBM_cAll_d22_mMH3_ch06', 'gLH_sBM_cAll_d17_mLH4_ch04', 'gWA_sBM_cAll_d25_mWA2_ch01', 'gWA_sFM_cAll_d25_mWA5_ch07', 'gJS_sFM_cAll_d02_mJS1_ch02', 'gLH_sBM_cAll_d18_mLH4_ch03', 'gJS_sBM_cAll_d01_mJS3_ch03', 'gHO_sBM_cAll_d21_mHO5_ch05', 'gHO_sBM_cAll_d20_mHO4_ch01', 'gJS_sBM_cAll_d03_mJS3_ch01', 'gLO_sBM_cAll_d14_mLO5_ch10', 'gHO_sBM_cAll_d20_mHO0_ch07', 'gPO_sBM_cAll_d12_mPO2_ch02', 'gKR_sBM_cAll_d29_mKR4_ch03', 'gKR_sBM_cAll_d29_mKR0_ch01', 'gMH_sBM_cAll_d22_mMH0_ch09', 'gBR_sFM_cAll_d06_mBR3_ch17', 'gMH_sBM_cAll_d22_mMH2_ch07', 'gLO_sBM_cAll_d14_mLO0_ch02', 'gJS_sBM_cAll_d01_mJS3_ch06', 'gJB_sBM_cAll_d08_mJB4_ch01', 'gMH_sBM_cAll_d22_mMH0_ch04', 'gBR_sBM_cAll_d06_mBR4_ch04', 'gJS_sBM_cAll_d03_mJS5_ch05', 'gLO_sBM_cAll_d15_mLO5_ch06', 'gLH_sBM_cAll_d18_mLH2_ch08', 'gJB_sBM_cAll_d09_mJB5_ch04', 'gWA_sBM_cAll_d25_mWA3_ch08', 'gHO_sBM_cAll_d19_mHO2_ch02', 'gHO_sBM_cAll_d20_mHO5_ch05', 'gMH_sBM_cAll_d22_mMH3_ch10', 'gWA_sBM_cAll_d25_mWA0_ch04', 'gPO_sBM_cAll_d10_mPO2_ch07', 'gHO_sBM_cAll_d21_mHO2_ch06', 'gMH_sBM_cAll_d22_mMH2_ch08', 'gBR_sBM_cAll_d06_mBR3_ch02', 'gMH_sBM_cAll_d23_mMH0_ch01', 'gJB_sBM_cAll_d07_mJB0_ch07', 'gBR_sBM_cAll_d05_mBR4_ch07', 'gMH_sFM_cAll_d24_mMH4_ch19', 'gMH_sBM_cAll_d23_mMH1_ch07', 'gMH_sFM_cAll_d24_mMH1_ch16', 'gBR_sBM_cAll_d04_mBR0_ch02', 'gBR_sBM_cAll_d04_mBR1_ch02', 'gLO_sBM_cAll_d14_mLO1_ch07', 'gLO_sFM_cAll_d15_mLO4_ch19', 'gBR_sBM_cAll_d06_mBR4_ch03', 'gBR_sBM_cAll_d05_mBR4_ch09', 'gLO_sBM_cAll_d13_mLO0_ch02', 'gLO_sBM_cAll_d13_mLO0_ch03', 'gJS_sFM_cAll_d03_mJS0_ch01', 'gLO_sBM_cAll_d13_mLO2_ch10', 'gMH_sBM_cAll_d23_mMH4_ch02', 'gKR_sBM_cAll_d29_mKR4_ch02', 'gJS_sBM_cAll_d02_mJS4_ch06', 'gJS_sBM_cAll_d02_mJS4_ch04', 'gJS_sBM_cAll_d02_mJS5_ch10', 'gWA_sBM_cAll_d25_mWA1_ch05', 'gLO_sBM_cAll_d13_mLO0_ch05', 'gJB_sBM_cAll_d08_mJB1_ch04', 'gWA_sBM_cAll_d27_mWA4_ch01', 'gPO_sBM_cAll_d10_mPO0_ch09', 'gKR_sBM_cAll_d28_mKR2_ch07', 'gBR_sBM_cAll_d06_mBR3_ch06', 'gBR_sBM_cAll_d05_mBR0_ch04', 'gKR_sBM_cAll_d30_mKR5_ch10', 'gBR_sBM_cAll_d04_mBR2_ch06', 'gBR_sFM_cAll_d05_mBR2_ch09', 'gPO_sBM_cAll_d11_mPO4_ch01', 'gLO_sBM_cAll_d14_mLO1_ch06', 'gJS_sBM_cAll_d01_mJS0_ch06', 'gJS_sBM_cAll_d01_mJS3_ch10', 'gKR_sBM_cAll_d28_mKR1_ch06', 'gBR_sFM_cAll_d04_mBR4_ch07', 'gPO_sBM_cAll_d11_mPO1_ch04', 'gPO_sBM_cAll_d12_mPO4_ch08', 'gHO_sBM_cAll_d19_mHO0_ch05', 'gKR_sBM_cAll_d29_mKR1_ch01', 'gWA_sFM_cAll_d27_mWA2_ch17', 'gLO_sFM_cAll_d15_mLO5_ch20', 'gMH_sFM_cAll_d23_mMH0_ch08', 'gBR_sBM_cAll_d04_mBR1_ch09', 'gJS_sBM_cAll_d03_mJS5_ch06', 'gLH_sBM_cAll_d16_mLH3_ch10', 'gHO_sBM_cAll_d19_mHO1_ch03', 'gMH_sBM_cAll_d22_mMH1_ch08', 'gHO_sBM_cAll_d20_mHO5_ch08', 'gJS_sBM_cAll_d03_mJS3_ch02', 'gPO_sBM_cAll_d12_mPO4_ch09', 'gMH_sBM_cAll_d22_mMH2_ch01', 'gLO_sBM_cAll_d14_mLO4_ch04', 'gBR_sBM_cAll_d04_mBR3_ch04', 'gBR_sBM_cAll_d06_mBR2_ch03', 'gJS_sBM_cAll_d01_mJS0_ch09', 'gJB_sBM_cAll_d08_mJB0_ch04', 'gPO_sFM_cAll_d10_mPO3_ch07', 'gJB_sBM_cAll_d07_mJB2_ch04', 'gWA_sBM_cAll_d26_mWA4_ch05', 'gJB_sBM_cAll_d07_mJB1_ch06', 'gLH_sBM_cAll_d18_mLH3_ch05', 'gJB_sBM_cAll_d09_mJB4_ch04', 'gLH_sBM_cAll_d16_mLH1_ch09', 'gBR_sBM_cAll_d05_mBR0_ch01', 'gHO_sBM_cAll_d19_mHO1_ch07', 'gBR_sFM_cAll_d05_mBR5_ch12', 'gHO_sBM_cAll_d20_mHO0_ch06', 'gKR_sBM_cAll_d28_mKR1_ch10', 'gMH_sBM_cAll_d22_mMH0_ch05', 'gLO_sFM_cAll_d13_mLO5_ch06', 'gJS_sBM_cAll_d03_mJS4_ch02', 'gWA_sBM_cAll_d25_mWA2_ch07', 'gKR_sBM_cAll_d28_mKR0_ch01', 'gHO_sBM_cAll_d21_mHO5_ch08', 'gLH_sBM_cAll_d17_mLH5_ch03', 'gMH_sBM_cAll_d23_mMH1_ch02', 'gWA_sBM_cAll_d26_mWA5_ch09', 'gWA_sBM_cAll_d25_mWA2_ch03', 'gHO_sBM_cAll_d19_mHO2_ch05', 'gJB_sBM_cAll_d07_mJB2_ch01', 'gHO_sBM_cAll_d19_mHO3_ch06', 'gJS_sBM_cAll_d01_mJS1_ch07', 'gHO_sFM_cAll_d19_mHO0_ch01', 'gPO_sBM_cAll_d11_mPO5_ch06', 'gMH_sBM_cAll_d23_mMH0_ch07', 'gJS_sBM_cAll_d03_mJS5_ch02', 'gJB_sBM_cAll_d09_mJB5_ch06', 'gJS_sFM_cAll_d03_mJS5_ch13', 'gHO_sFM_cAll_d21_mHO4_ch19', 'gKR_sBM_cAll_d30_mKR5_ch03', 'gJS_sBM_cAll_d03_mJS2_ch09', 'gPO_sFM_cAll_d11_mPO5_ch13', 'gJS_sBM_cAll_d01_mJS2_ch02', 'gLO_sBM_cAll_d15_mLO3_ch07', 'gBR_sBM_cAll_d05_mBR5_ch02', 'gJB_sBM_cAll_d08_mJB1_ch05', 'gJB_sBM_cAll_d07_mJB0_ch03', 'gWA_sBM_cAll_d27_mWA3_ch09', 'gPO_sBM_cAll_d12_mPO5_ch10', 'gJB_sBM_cAll_d07_mJB2_ch03', 'gHO_sBM_cAll_d21_mHO3_ch03', 'gMH_sBM_cAll_d23_mMH5_ch05', 'gBR_sBM_cAll_d05_mBR5_ch03', 'gPO_sBM_cAll_d11_mPO5_ch02', 'gJS_sBM_cAll_d03_mJS2_ch04', 'gLH_sBM_cAll_d16_mLH1_ch07', 'gKR_sBM_cAll_d30_mKR2_ch10', 'gWA_sBM_cAll_d27_mWA3_ch04', 'gMH_sBM_cAll_d24_mMH4_ch04', 'gLO_sBM_cAll_d14_mLO1_ch02', 'gBR_sBM_cAll_d06_mBR2_ch10', 'gLO_sFM_cAll_d15_mLO3_ch18', 'gJB_sFM_cAll_d08_mJB3_ch11', 'gHO_sBM_cAll_d21_mHO3_ch05', 'gHO_sBM_cAll_d20_mHO4_ch02', 'gMH_sBM_cAll_d22_mMH2_ch06', 'gPO_sBM_cAll_d11_mPO4_ch10', 'gLH_sFM_cAll_d16_mLH4_ch05', 'gJS_sBM_cAll_d02_mJS1_ch03', 'gMH_sBM_cAll_d24_mMH3_ch05', 'gHO_sBM_cAll_d19_mHO3_ch07', 'gLH_sBM_cAll_d18_mLH4_ch08', 'gBR_sFM_cAll_d05_mBR1_ch08', 'gPO_sBM_cAll_d11_mPO4_ch03', 'gWA_sBM_cAll_d27_mWA5_ch02', 'gBR_sBM_cAll_d04_mBR1_ch04', 'gKR_sBM_cAll_d28_mKR3_ch04', 'gLH_sBM_cAll_d18_mLH2_ch10', 'gKR_sBM_cAll_d28_mKR0_ch06', 'gLO_sFM_cAll_d14_mLO3_ch11', 'gHO_sBM_cAll_d20_mHO5_ch02', 'gPO_sBM_cAll_d11_mPO5_ch09', 'gJS_sBM_cAll_d03_mJS5_ch03', 'gBR_sBM_cAll_d04_mBR1_ch08', 'gHO_sBM_cAll_d20_mHO4_ch04', 'gJB_sBM_cAll_d09_mJB5_ch09', 'gBR_sBM_cAll_d04_mBR2_ch03', 'gBR_sBM_cAll_d04_mBR0_ch08', 'gLO_sBM_cAll_d14_mLO1_ch10', 'gLH_sBM_cAll_d18_mLH2_ch09', 'gJB_sBM_cAll_d09_mJB3_ch06', 'gWA_sBM_cAll_d26_mWA1_ch01', 'gLH_sBM_cAll_d18_mLH2_ch05', 'gJB_sBM_cAll_d07_mJB3_ch09', 'gPO_sBM_cAll_d10_mPO3_ch01', 'gWA_sBM_cAll_d26_mWA4_ch10', 'gLO_sBM_cAll_d13_mLO2_ch07', 'gKR_sBM_cAll_d29_mKR1_ch09', 'gLO_sFM_cAll_d13_mLO0_ch01', 'gLO_sFM_cAll_d13_mLO4_ch05', 'gLO_sFM_cAll_d13_mLO1_ch02', 'gJB_sFM_cAll_d07_mJB1_ch02', 'gHO_sBM_cAll_d20_mHO4_ch10', 'gPO_sBM_cAll_d12_mPO2_ch01', 'gLH_sBM_cAll_d18_mLH3_ch08', 'gMH_sBM_cAll_d23_mMH5_ch10', 'gMH_sBM_cAll_d23_mMH4_ch01', 'gPO_sBM_cAll_d12_mPO2_ch09', 'gKR_sBM_cAll_d30_mKR2_ch08', 'gMH_sBM_cAll_d24_mMH5_ch10', 'gMH_sFM_cAll_d24_mMH2_ch17', 'gMH_sBM_cAll_d24_mMH3_ch10', 'gLH_sBM_cAll_d17_mLH0_ch08', 'gHO_sBM_cAll_d19_mHO2_ch10', 'gLO_sBM_cAll_d15_mLO2_ch01', 'gJB_sBM_cAll_d09_mJB5_ch03', 'gKR_sBM_cAll_d28_mKR2_ch09', 'gLO_sBM_cAll_d15_mLO3_ch01', 'gLO_sBM_cAll_d15_mLO4_ch05', 'gBR_sBM_cAll_d04_mBR3_ch09', 'gLH_sBM_cAll_d18_mLH2_ch03', 'gKR_sBM_cAll_d30_mKR2_ch07', 'gHO_sBM_cAll_d20_mHO0_ch02', 'gWA_sBM_cAll_d26_mWA0_ch05', 'gKR_sBM_cAll_d30_mKR3_ch05', 'gMH_sBM_cAll_d23_mMH4_ch05', 'gPO_sBM_cAll_d12_mPO4_ch07', 'gJB_sBM_cAll_d08_mJB4_ch04', 'gLH_sBM_cAll_d18_mLH2_ch02', 'gPO_sFM_cAll_d12_mPO5_ch21', 'gLO_sFM_cAll_d14_mLO1_ch09', 'gJS_sBM_cAll_d01_mJS3_ch02', 'gMH_sBM_cAll_d24_mMH5_ch03', 'gBR_sFM_cAll_d04_mBR4_ch05', 'gHO_sBM_cAll_d21_mHO4_ch09', 'gBR_sBM_cAll_d05_mBR4_ch10', 'gWA_sFM_cAll_d26_mWA1_ch09', 'gJS_sBM_cAll_d03_mJS5_ch09', 'gHO_sBM_cAll_d19_mHO1_ch06', 'gLH_sFM_cAll_d18_mLH2_ch17', 'gKR_sBM_cAll_d30_mKR2_ch04', 'gJS_sBM_cAll_d02_mJS1_ch07', 'gLO_sBM_cAll_d13_mLO3_ch06', 'gJB_sFM_cAll_d09_mJB3_ch18', 'gHO_sBM_cAll_d21_mHO2_ch02', 'gMH_sFM_cAll_d24_mMH0_ch15', 'gPO_sBM_cAll_d10_mPO1_ch10', 'gLH_sBM_cAll_d16_mLH1_ch02', 'gKR_sFM_cAll_d30_mKR1_ch16', 'gPO_sBM_cAll_d11_mPO5_ch07', 'gHO_sBM_cAll_d21_mHO3_ch01', 'gPO_sBM_cAll_d10_mPO3_ch09', 'gPO_sFM_cAll_d11_mPO0_ch08', 'gPO_sBM_cAll_d12_mPO4_ch02', 'gPO_sBM_cAll_d10_mPO3_ch05', 'gJB_sBM_cAll_d08_mJB0_ch06', 'gLH_sBM_cAll_d18_mLH5_ch04', 'gJB_sBM_cAll_d09_mJB4_ch01', 'gKR_sBM_cAll_d30_mKR4_ch03', 'gJS_sBM_cAll_d03_mJS4_ch10', 'gKR_sBM_cAll_d28_mKR3_ch06', 'gHO_sBM_cAll_d21_mHO2_ch01', 'gJS_sBM_cAll_d02_mJS0_ch03', 'gBR_sBM_cAll_d05_mBR0_ch05', 'gPO_sBM_cAll_d12_mPO3_ch08', 'gBR_sBM_cAll_d06_mBR3_ch08', 'gPO_sBM_cAll_d10_mPO1_ch06', 'gJB_sBM_cAll_d09_mJB2_ch01', 'gWA_sBM_cAll_d27_mWA2_ch03', 'gWA_sBM_cAll_d27_mWA3_ch10', 'gWA_sBM_cAll_d26_mWA1_ch05', 'gLO_sBM_cAll_d13_mLO1_ch08', 'gJS_sBM_cAll_d01_mJS3_ch08', 'gBR_sBM_cAll_d06_mBR4_ch10', 'gHO_sBM_cAll_d20_mHO4_ch09', 'gHO_sBM_cAll_d21_mHO3_ch08', 'gJS_sFM_cAll_d03_mJS4_ch12', 'gBR_sBM_cAll_d05_mBR5_ch04', 'gLH_sBM_cAll_d17_mLH0_ch01', 'gPO_sBM_cAll_d12_mPO4_ch05', 'gPO_sBM_cAll_d10_mPO2_ch10', 'gLO_sBM_cAll_d13_mLO1_ch10', 'gLH_sBM_cAll_d17_mLH4_ch03', 'gHO_sBM_cAll_d21_mHO4_ch02', 'gHO_sBM_cAll_d19_mHO2_ch01', 'gLH_sBM_cAll_d18_mLH3_ch10', 'gPO_sBM_cAll_d12_mPO5_ch07', 'gWA_sBM_cAll_d27_mWA4_ch04', 'gHO_sBM_cAll_d21_mHO5_ch06', 'gJS_sFM_cAll_d03_mJS3_ch04', 'gHO_sBM_cAll_d19_mHO2_ch04', 'gBR_sBM_cAll_d05_mBR1_ch03', 'gHO_sBM_cAll_d21_mHO3_ch07', 'gHO_sBM_cAll_d21_mHO3_ch09', 'gJB_sFM_cAll_d08_mJB2_ch10', 'gJS_sBM_cAll_d02_mJS4_ch05', 'gJS_sBM_cAll_d03_mJS5_ch01', 'gJS_sFM_cAll_d03_mJS1_ch02', 'gMH_sBM_cAll_d24_mMH2_ch09', 'gLO_sBM_cAll_d14_mLO4_ch02', 'gKR_sBM_cAll_d29_mKR4_ch01', 'gBR_sBM_cAll_d05_mBR5_ch01', 'gJS_sBM_cAll_d03_mJS4_ch04', 'gLO_sBM_cAll_d14_mLO0_ch09', 'gKR_sFM_cAll_d29_mKR5_ch14', 'gJS_sBM_cAll_d01_mJS0_ch05', 'gLO_sBM_cAll_d13_mLO0_ch04', 'gHO_sBM_cAll_d19_mHO2_ch09', 'gLO_sBM_cAll_d14_mLO0_ch06', 'gWA_sBM_cAll_d26_mWA0_ch03', 'gLO_sFM_cAll_d14_mLO0_ch08', 'gJS_sBM_cAll_d02_mJS0_ch02', 'gWA_sFM_cAll_d26_mWA5_ch13', 'gPO_sBM_cAll_d11_mPO1_ch05', 'gLO_sBM_cAll_d14_mLO1_ch03', 'gLH_sBM_cAll_d17_mLH0_ch03', 'gPO_sBM_cAll_d12_mPO2_ch10', 'gKR_sBM_cAll_d28_mKR0_ch03', 'gKR_sBM_cAll_d29_mKR1_ch03', 'gPO_sFM_cAll_d12_mPO0_ch15', 'gKR_sFM_cAll_d30_mKR3_ch18', 'gMH_sBM_cAll_d23_mMH0_ch08', 'gKR_sBM_cAll_d29_mKR1_ch04', 'gPO_sBM_cAll_d12_mPO5_ch09', 'gPO_sBM_cAll_d12_mPO3_ch04', 'gWA_sBM_cAll_d25_mWA2_ch04', 'gLO_sBM_cAll_d15_mLO3_ch08', 'gHO_sBM_cAll_d20_mHO0_ch03', 'gHO_sBM_cAll_d21_mHO2_ch09', 'gLO_sBM_cAll_d13_mLO2_ch04', 'gBR_sBM_cAll_d06_mBR2_ch09', 'gKR_sBM_cAll_d28_mKR2_ch04', 'gWA_sBM_cAll_d27_mWA5_ch05', 'gJB_sBM_cAll_d08_mJB5_ch09', 'gPO_sBM_cAll_d11_mPO0_ch10', 'gLH_sBM_cAll_d17_mLH5_ch05', 'gLO_sBM_cAll_d14_mLO0_ch10', 'gWA_sBM_cAll_d26_mWA1_ch10', 'gPO_sBM_cAll_d11_mPO1_ch02', 'gLH_sBM_cAll_d18_mLH4_ch09', 'gMH_sFM_cAll_d22_mMH1_ch02', 'gLO_sBM_cAll_d15_mLO3_ch03', 'gWA_sBM_cAll_d27_mWA4_ch10', 'gMH_sBM_cAll_d22_mMH0_ch07', 'gPO_sBM_cAll_d12_mPO3_ch09', 'gHO_sBM_cAll_d19_mHO3_ch04', 'gWA_sFM_cAll_d25_mWA3_ch04', 'gKR_sBM_cAll_d29_mKR4_ch08', 'gLH_sFM_cAll_d17_mLH1_ch09', 'gLH_sBM_cAll_d17_mLH1_ch07', 'gMH_sBM_cAll_d24_mMH4_ch02', 'gKR_sBM_cAll_d29_mKR4_ch09', 'gLO_sBM_cAll_d13_mLO3_ch04', 'gLH_sBM_cAll_d17_mLH1_ch01', 'gKR_sBM_cAll_d29_mKR5_ch02', 'gBR_sBM_cAll_d04_mBR0_ch07', 'gJB_sBM_cAll_d08_mJB4_ch02', 'gMH_sBM_cAll_d24_mMH2_ch04', 'gMH_sBM_cAll_d23_mMH4_ch09', 'gHO_sFM_cAll_d20_mHO1_ch09', 'gHO_sBM_cAll_d19_mHO3_ch01', 'gLH_sBM_cAll_d18_mLH4_ch06', 'gJS_sBM_cAll_d02_mJS5_ch06', 'gWA_sBM_cAll_d25_mWA2_ch06', 'gWA_sBM_cAll_d25_mWA1_ch04', 'gHO_sBM_cAll_d21_mHO4_ch10', 'gPO_sBM_cAll_d10_mPO1_ch02', 'gJB_sBM_cAll_d08_mJB5_ch05', 'gPO_sBM_cAll_d12_mPO2_ch04', 'gLO_sBM_cAll_d15_mLO5_ch04', 'gWA_sBM_cAll_d25_mWA0_ch06', 'gPO_sBM_cAll_d12_mPO5_ch08', 'gBR_sBM_cAll_d04_mBR0_ch01', 'gBR_sBM_cAll_d05_mBR0_ch09', 'gJB_sFM_cAll_d07_mJB4_ch05', 'gLH_sFM_cAll_d17_mLH4_ch12', 'gWA_sBM_cAll_d27_mWA2_ch04', 'gJB_sBM_cAll_d07_mJB0_ch10', 'gPO_sBM_cAll_d11_mPO0_ch09', 'gPO_sBM_cAll_d12_mPO2_ch07', 'gLO_sFM_cAll_d14_mLO2_ch10', 'gHO_sFM_cAll_d21_mHO0_ch15', 'gJS_sBM_cAll_d01_mJS2_ch06', 'gJB_sBM_cAll_d08_mJB0_ch03', 'gPO_sBM_cAll_d11_mPO0_ch04', 'gLO_sBM_cAll_d13_mLO0_ch08', 'gJS_sBM_cAll_d02_mJS5_ch07', 'gJS_sBM_cAll_d03_mJS4_ch09', 'gBR_sBM_cAll_d04_mBR0_ch09', 'gWA_sBM_cAll_d27_mWA4_ch03', 'gKR_sBM_cAll_d28_mKR1_ch05', 'gLO_sBM_cAll_d13_mLO0_ch01', 'gMH_sBM_cAll_d22_mMH1_ch04', 'gPO_sBM_cAll_d11_mPO4_ch08', 'gLO_sBM_cAll_d13_mLO3_ch02', 'gLO_sBM_cAll_d13_mLO0_ch09', 'gMH_sBM_cAll_d22_mMH3_ch07', 'gLH_sBM_cAll_d16_mLH1_ch03', 'gKR_sBM_cAll_d29_mKR1_ch07', 'gJB_sBM_cAll_d09_mJB5_ch02', 'gBR_sBM_cAll_d04_mBR0_ch05', 'gKR_sFM_cAll_d30_mKR0_ch15', 'gHO_sBM_cAll_d19_mHO1_ch05', 'gMH_sFM_cAll_d23_mMH3_ch11', 'gJS_sFM_cAll_d01_mJS1_ch07', 'gMH_sFM_cAll_d24_mMH3_ch18', 'gJB_sBM_cAll_d08_mJB1_ch03', 'gKR_sBM_cAll_d30_mKR5_ch07', 'gPO_sBM_cAll_d10_mPO0_ch04', 'gKR_sBM_cAll_d28_mKR0_ch09', 'gHO_sBM_cAll_d21_mHO3_ch10', 'gHO_sBM_cAll_d19_mHO0_ch08', 'gPO_sBM_cAll_d11_mPO5_ch04', 'gLO_sBM_cAll_d14_mLO0_ch01', 'gLH_sFM_cAll_d16_mLH3_ch04', 'gKR_sBM_cAll_d30_mKR3_ch02', 'gJB_sFM_cAll_d07_mJB3_ch04', 'gPO_sFM_cAll_d11_mPO2_ch10', 'gHO_sBM_cAll_d19_mHO0_ch01', 'gPO_sBM_cAll_d10_mPO1_ch01', 'gJB_sBM_cAll_d07_mJB1_ch08', 'gJS_sBM_cAll_d01_mJS3_ch01', 'gHO_sBM_cAll_d19_mHO2_ch06', 'gJB_sBM_cAll_d08_mJB5_ch06', 'gJB_sBM_cAll_d08_mJB4_ch09', 'gLO_sBM_cAll_d14_mLO1_ch04', 'gLO_sBM_cAll_d15_mLO2_ch07', 'gWA_sFM_cAll_d26_mWA4_ch12', 'gJB_sFM_cAll_d08_mJB5_ch14', 'gJB_sBM_cAll_d07_mJB0_ch02', 'gLO_sFM_cAll_d15_mLO0_ch15', 'gHO_sBM_cAll_d20_mHO0_ch10', 'gJS_sBM_cAll_d01_mJS1_ch01', 'gLH_sBM_cAll_d18_mLH3_ch09', 'gWA_sBM_cAll_d25_mWA0_ch07', 'gPO_sFM_cAll_d12_mPO1_ch16', 'gJB_sBM_cAll_d09_mJB5_ch01', 'gLO_sBM_cAll_d14_mLO5_ch08', 'gJS_sBM_cAll_d03_mJS3_ch09', 'gBR_sBM_cAll_d05_mBR1_ch10', 'gLH_sBM_cAll_d16_mLH3_ch05', 'gKR_sBM_cAll_d28_mKR0_ch04', 'gJB_sBM_cAll_d09_mJB2_ch05', 'gLO_sBM_cAll_d13_mLO3_ch07', 'gLO_sBM_cAll_d15_mLO5_ch02', 'gMH_sBM_cAll_d23_mMH1_ch01', 'gKR_sBM_cAll_d28_mKR3_ch10', 'gLH_sBM_cAll_d17_mLH5_ch02', 'gLO_sBM_cAll_d15_mLO4_ch07', 'gJS_sBM_cAll_d01_mJS0_ch10', 'gKR_sBM_cAll_d28_mKR1_ch08', 'gPO_sFM_cAll_d11_mPO4_ch12', 'gWA_sBM_cAll_d26_mWA4_ch06', 'gJS_sBM_cAll_d02_mJS1_ch04', 'gHO_sFM_cAll_d21_mHO3_ch21', 'gHO_sBM_cAll_d20_mHO0_ch04', 'gBR_sBM_cAll_d06_mBR4_ch01', 'gBR_sBM_cAll_d05_mBR0_ch02', 'gHO_sFM_cAll_d21_mHO1_ch16', 'gLH_sBM_cAll_d16_mLH2_ch07', 'gMH_sBM_cAll_d22_mMH2_ch05', 'gJB_sBM_cAll_d08_mJB0_ch05', 'gMH_sBM_cAll_d23_mMH1_ch06', 'gLO_sBM_cAll_d14_mLO4_ch06', 'gBR_sBM_cAll_d06_mBR5_ch07', 'gHO_sBM_cAll_d20_mHO1_ch04', 'gBR_sBM_cAll_d06_mBR2_ch02', 'gLH_sBM_cAll_d18_mLH4_ch10', 'gBR_sBM_cAll_d05_mBR4_ch04', 'gBR_sFM_cAll_d06_mBR4_ch18', 'gWA_sBM_cAll_d26_mWA1_ch03', 'gHO_sBM_cAll_d19_mHO1_ch01', 'gMH_sBM_cAll_d22_mMH1_ch05', 'gLH_sBM_cAll_d17_mLH5_ch10', 'gHO_sBM_cAll_d20_mHO1_ch02', 'gLH_sFM_cAll_d16_mLH1_ch02', 'gJS_sFM_cAll_d02_mJS4_ch09', 'gJB_sBM_cAll_d07_mJB0_ch04', 'gKR_sFM_cAll_d28_mKR5_ch06', 'gLH_sBM_cAll_d18_mLH2_ch06', 'gBR_sBM_cAll_d04_mBR1_ch05', 'gLO_sBM_cAll_d15_mLO3_ch04', 'gWA_sBM_cAll_d26_mWA5_ch10', 'gWA_sFM_cAll_d26_mWA0_ch08', 'gJB_sFM_cAll_d08_mJB1_ch09', 'gPO_sBM_cAll_d11_mPO5_ch01', 'gLO_sBM_cAll_d14_mLO4_ch01', 'gLH_sFM_cAll_d17_mLH5_ch13', 'gHO_sBM_cAll_d19_mHO2_ch08', 'gBR_sBM_cAll_d04_mBR0_ch06', 'gMH_sBM_cAll_d24_mMH4_ch07', 'gLO_sBM_cAll_d14_mLO5_ch03', 'gJB_sBM_cAll_d09_mJB2_ch03', 'gBR_sBM_cAll_d06_mBR2_ch08', 'gHO_sBM_cAll_d21_mHO4_ch06', 'gKR_sBM_cAll_d28_mKR2_ch05', 'gJS_sBM_cAll_d02_mJS1_ch10', 'gJS_sBM_cAll_d03_mJS3_ch07', 'gLO_sBM_cAll_d14_mLO1_ch05', 'gWA_sBM_cAll_d27_mWA4_ch08', 'gLH_sBM_cAll_d16_mLH2_ch03', 'gWA_sBM_cAll_d27_mWA3_ch03', 'gPO_sBM_cAll_d10_mPO3_ch02', 'gHO_sBM_cAll_d20_mHO4_ch05', 'gBR_sBM_cAll_d04_mBR3_ch05', 'gPO_sBM_cAll_d12_mPO2_ch06', 'gBR_sFM_cAll_d04_mBR5_ch06', 'gHO_sBM_cAll_d20_mHO1_ch08', 'gBR_sBM_cAll_d05_mBR1_ch06', 'gBR_sFM_cAll_d05_mBR4_ch11', 'gHO_sBM_cAll_d19_mHO0_ch09', 'gWA_sBM_cAll_d27_mWA4_ch02', 'gHO_sBM_cAll_d19_mHO1_ch02', 'gPO_sBM_cAll_d11_mPO5_ch10', 'gKR_sFM_cAll_d30_mKR3_ch21', 'gWA_sFM_cAll_d27_mWA0_ch15', 'gWA_sBM_cAll_d25_mWA2_ch02', 'gMH_sBM_cAll_d23_mMH4_ch06', 'gMH_sBM_cAll_d22_mMH1_ch02', 'gMH_sBM_cAll_d24_mMH3_ch09', 'gPO_sBM_cAll_d11_mPO1_ch08', 'gLH_sBM_cAll_d16_mLH0_ch09', 'gLH_sBM_cAll_d16_mLH3_ch08', 'gWA_sBM_cAll_d26_mWA5_ch02', 'gPO_sBM_cAll_d12_mPO2_ch08', 'gLO_sBM_cAll_d15_mLO4_ch03', 'gKR_sBM_cAll_d30_mKR2_ch02', 'gBR_sBM_cAll_d05_mBR0_ch07', 'gHO_sBM_cAll_d21_mHO5_ch10', 'gLO_sBM_cAll_d15_mLO3_ch02', 'gWA_sBM_cAll_d26_mWA5_ch06', 'gKR_sBM_cAll_d30_mKR3_ch04', 'gWA_sBM_cAll_d26_mWA5_ch08', 'gHO_sBM_cAll_d21_mHO3_ch06', 'gJB_sFM_cAll_d09_mJB1_ch16', 'gWA_sBM_cAll_d27_mWA3_ch08', 'gLH_sBM_cAll_d16_mLH1_ch05', 'gHO_sBM_cAll_d19_mHO1_ch09', 'gJS_sBM_cAll_d03_mJS3_ch03', 'gLO_sBM_cAll_d13_mLO1_ch05', 'gJB_sBM_cAll_d08_mJB4_ch05', 'gBR_sFM_cAll_d06_mBR5_ch21', 'gPO_sBM_cAll_d12_mPO3_ch05', 'gHO_sBM_cAll_d20_mHO5_ch04', 'gKR_sBM_cAll_d28_mKR1_ch04', 'gHO_sFM_cAll_d19_mHO2_ch07', 'gLH_sBM_cAll_d16_mLH3_ch01', 'gWA_sBM_cAll_d25_mWA3_ch04', 'gHO_sBM_cAll_d21_mHO4_ch04', 'gJS_sFM_cAll_d01_mJS4_ch05', 'gBR_sFM_cAll_d05_mBR4_ch13', 'gWA_sBM_cAll_d27_mWA3_ch01', 'gMH_sBM_cAll_d24_mMH2_ch06', 'gJB_sBM_cAll_d07_mJB2_ch09', 'gMH_sBM_cAll_d23_mMH5_ch06', 'gLH_sFM_cAll_d18_mLH0_ch21', 'gWA_sBM_cAll_d25_mWA1_ch02', 'gHO_sFM_cAll_d19_mHO2_ch03', 'gJS_sFM_cAll_d01_mJS5_ch06', 'gBR_sBM_cAll_d06_mBR4_ch06', 'gBR_sBM_cAll_d05_mBR1_ch04', 'gBR_sBM_cAll_d04_mBR3_ch03', 'gPO_sBM_cAll_d11_mPO4_ch07', 'gKR_sBM_cAll_d29_mKR5_ch04', 'gPO_sBM_cAll_d10_mPO3_ch06', 'gLO_sFM_cAll_d15_mLO4_ch21', 'gJS_sBM_cAll_d02_mJS5_ch09', 'gBR_sBM_cAll_d06_mBR5_ch05', 'gPO_sBM_cAll_d11_mPO0_ch01', 'gWA_sBM_cAll_d26_mWA4_ch02', 'gWA_sBM_cAll_d27_mWA2_ch10', 'gBR_sBM_cAll_d04_mBR3_ch07', 'gPO_sBM_cAll_d10_mPO1_ch07', 'gHO_sBM_cAll_d20_mHO1_ch09', 'gKR_sBM_cAll_d30_mKR3_ch03', 'gHO_sBM_cAll_d21_mHO4_ch03', 'gMH_sBM_cAll_d24_mMH4_ch06', 'gJB_sBM_cAll_d08_mJB1_ch09', 'gJS_sFM_cAll_d03_mJS2_ch03', 'gLO_sBM_cAll_d14_mLO0_ch07', 'gKR_sFM_cAll_d28_mKR2_ch03', 'gKR_sBM_cAll_d28_mKR1_ch03', 'gHO_sBM_cAll_d19_mHO0_ch07', 'gLO_sBM_cAll_d13_mLO3_ch10', 'gHO_sBM_cAll_d20_mHO1_ch10', 'gWA_sFM_cAll_d27_mWA3_ch18', 'gJS_sFM_cAll_d01_mJS1_ch02', 'gWA_sBM_cAll_d25_mWA0_ch10', 'gKR_sFM_cAll_d30_mKR2_ch17', 'gJB_sBM_cAll_d08_mJB1_ch02', 'gMH_sBM_cAll_d22_mMH2_ch03', 'gLO_sBM_cAll_d14_mLO4_ch08', 'gJS_sBM_cAll_d02_mJS4_ch03', 'gLO_sBM_cAll_d15_mLO2_ch05', 'gLO_sBM_cAll_d14_mLO5_ch07', 'gMH_sBM_cAll_d24_mMH2_ch01', 'gWA_sBM_cAll_d26_mWA1_ch06', 'gLH_sBM_cAll_d18_mLH3_ch03', 'gKR_sBM_cAll_d29_mKR1_ch08', 'gJS_sBM_cAll_d03_mJS4_ch06', 'gMH_sFM_cAll_d22_mMH5_ch06', 'gMH_sFM_cAll_d24_mMH2_ch21', 'gMH_sBM_cAll_d23_mMH5_ch08', 'gMH_sBM_cAll_d24_mMH4_ch08', 'gWA_sFM_cAll_d25_mWA1_ch02', 'gBR_sBM_cAll_d06_mBR2_ch04', 'gKR_sBM_cAll_d30_mKR4_ch04', 'gBR_sBM_cAll_d05_mBR0_ch10', 'gPO_sBM_cAll_d12_mPO5_ch05', 'gLH_sFM_cAll_d18_mLH1_ch16', 'gLH_sBM_cAll_d17_mLH1_ch05', 'gKR_sBM_cAll_d30_mKR5_ch05', 'gHO_sBM_cAll_d20_mHO0_ch05', 'gWA_sBM_cAll_d27_mWA3_ch07', 'gWA_sFM_cAll_d25_mWA5_ch06', 'gBR_sBM_cAll_d06_mBR5_ch09', 'gBR_sBM_cAll_d04_mBR3_ch10', 'gJB_sBM_cAll_d07_mJB0_ch06', 'gJS_sBM_cAll_d02_mJS4_ch09', 'gPO_sBM_cAll_d11_mPO0_ch06', 'gWA_sBM_cAll_d25_mWA3_ch10', 'gKR_sBM_cAll_d28_mKR3_ch08', 'gLH_sBM_cAll_d16_mLH2_ch01', 'gKR_sBM_cAll_d30_mKR4_ch01', 'gJS_sFM_cAll_d02_mJS5_ch10', 'gWA_sBM_cAll_d27_mWA2_ch02', 'gJB_sBM_cAll_d07_mJB1_ch10', 'gPO_sBM_cAll_d11_mPO0_ch02', 'gWA_sBM_cAll_d27_mWA2_ch05', 'gMH_sBM_cAll_d23_mMH0_ch09', 'gLO_sBM_cAll_d14_mLO4_ch09', 'gWA_sBM_cAll_d26_mWA4_ch03', 'gKR_sBM_cAll_d30_mKR5_ch08', 'gJB_sBM_cAll_d07_mJB2_ch10', 'gJS_sBM_cAll_d01_mJS3_ch05', 'gLO_sBM_cAll_d15_mLO2_ch08', 'gJS_sBM_cAll_d02_mJS4_ch07', 'gLO_sFM_cAll_d13_mLO2_ch03', 'gMH_sFM_cAll_d22_mMH1_ch07', 'gJB_sBM_cAll_d09_mJB4_ch07', 'gJS_sBM_cAll_d02_mJS4_ch10', 'gHO_sBM_cAll_d20_mHO0_ch08', 'gLO_sBM_cAll_d14_mLO0_ch04', 'gHO_sBM_cAll_d21_mHO5_ch04', 'gJS_sFM_cAll_d02_mJS1_ch11', 'gMH_sBM_cAll_d23_mMH5_ch03', 'gPO_sBM_cAll_d12_mPO3_ch03', 'gMH_sFM_cAll_d23_mMH5_ch13', 'gJB_sBM_cAll_d07_mJB1_ch03', 'gBR_sBM_cAll_d06_mBR3_ch01', 'gKR_sBM_cAll_d30_mKR2_ch01', 'gMH_sBM_cAll_d23_mMH4_ch04', 'gWA_sFM_cAll_d27_mWA1_ch16', 'gLH_sBM_cAll_d17_mLH1_ch06', 'gLH_sBM_cAll_d16_mLH1_ch04', 'gLH_sBM_cAll_d16_mLH3_ch02', 'gKR_sBM_cAll_d28_mKR0_ch02', 'gMH_sBM_cAll_d22_mMH1_ch01', 'gKR_sBM_cAll_d28_mKR0_ch10', 'gLH_sBM_cAll_d16_mLH2_ch10', 'gLH_sBM_cAll_d17_mLH4_ch05', 'gJS_sBM_cAll_d01_mJS0_ch04', 'gLH_sFM_cAll_d16_mLH3_ch07', 'gHO_sBM_cAll_d20_mHO5_ch01', 'gWA_sBM_cAll_d25_mWA3_ch02', 'gLO_sBM_cAll_d15_mLO3_ch10', 'gPO_sBM_cAll_d10_mPO2_ch04', 'gWA_sBM_cAll_d25_mWA0_ch09', 'gHO_sBM_cAll_d21_mHO2_ch10', 'gLH_sBM_cAll_d18_mLH3_ch04', 'gWA_sBM_cAll_d27_mWA2_ch06', 'gBR_sBM_cAll_d04_mBR0_ch04', 'gPO_sFM_cAll_d12_mPO2_ch17', 'gPO_sBM_cAll_d12_mPO3_ch10', 'gBR_sBM_cAll_d05_mBR1_ch07', 'gJS_sBM_cAll_d01_mJS1_ch09', 'gWA_sBM_cAll_d26_mWA5_ch03', 'gJB_sBM_cAll_d09_mJB5_ch05', 'gJB_sBM_cAll_d09_mJB2_ch06', 'gHO_sBM_cAll_d20_mHO0_ch01', 'gBR_sBM_cAll_d06_mBR3_ch04', 'gPO_sBM_cAll_d10_mPO3_ch07', 'gLH_sFM_cAll_d18_mLH3_ch18', 'gLO_sFM_cAll_d14_mLO5_ch13', 'gWA_sBM_cAll_d27_mWA2_ch01', 'gMH_sBM_cAll_d23_mMH4_ch10', 'gPO_sFM_cAll_d11_mPO2_ch14', 'gJS_sBM_cAll_d01_mJS2_ch09', 'gJB_sBM_cAll_d09_mJB4_ch09', 'gLH_sBM_cAll_d16_mLH1_ch01', 'gPO_sBM_cAll_d12_mPO4_ch03', 'gLO_sBM_cAll_d13_mLO2_ch06', 'gBR_sBM_cAll_d06_mBR2_ch01', 'gPO_sFM_cAll_d10_mPO2_ch03', 'gJS_sBM_cAll_d03_mJS2_ch05', 'gMH_sFM_cAll_d23_mMH1_ch09', 'gLO_sBM_cAll_d15_mLO2_ch10', 'gLH_sBM_cAll_d16_mLH3_ch04', 'gKR_sBM_cAll_d29_mKR5_ch06', 'gBR_sBM_cAll_d05_mBR5_ch09', 'gJS_sBM_cAll_d02_mJS1_ch05', 'gJB_sBM_cAll_d09_mJB5_ch10', 'gLH_sBM_cAll_d18_mLH2_ch01', 'gLH_sFM_cAll_d18_mLH0_ch15', 'gMH_sBM_cAll_d23_mMH4_ch07', 'gKR_sBM_cAll_d29_mKR5_ch10', 'gJB_sBM_cAll_d07_mJB0_ch01', 'gMH_sBM_cAll_d24_mMH2_ch05', 'gWA_sBM_cAll_d26_mWA5_ch01', 'gJS_sBM_cAll_d02_mJS4_ch02', 'gJS_sBM_cAll_d02_mJS5_ch02', 'gPO_sBM_cAll_d12_mPO3_ch06', 'gHO_sBM_cAll_d20_mHO4_ch03', 'gMH_sBM_cAll_d23_mMH5_ch07', 'gMH_sBM_cAll_d23_mMH0_ch02', 'gPO_sBM_cAll_d11_mPO1_ch10', 'gBR_sBM_cAll_d04_mBR1_ch03', 'gJS_sBM_cAll_d01_mJS2_ch07', 'gHO_sBM_cAll_d20_mHO1_ch01', 'gLO_sBM_cAll_d15_mLO5_ch03', 'gLH_sFM_cAll_d17_mLH0_ch14', 'gPO_sBM_cAll_d10_mPO3_ch08', 'gJS_sFM_cAll_d02_mJS2_ch03', 'gMH_sBM_cAll_d22_mMH0_ch02', 'gJB_sFM_cAll_d09_mJB4_ch19', 'gBR_sFM_cAll_d06_mBR2_ch16', 'gPO_sBM_cAll_d11_mPO1_ch09', 'gKR_sBM_cAll_d28_mKR0_ch08', 'gLO_sBM_cAll_d14_mLO0_ch08', 'gMH_sBM_cAll_d22_mMH3_ch01', 'gWA_sBM_cAll_d26_mWA1_ch09', 'gJB_sFM_cAll_d07_mJB3_ch07', 'gJS_sBM_cAll_d03_mJS5_ch10', 'gPO_sBM_cAll_d11_mPO0_ch03', 'gBR_sBM_cAll_d05_mBR0_ch06', 'gKR_sBM_cAll_d29_mKR1_ch02', 'gWA_sBM_cAll_d26_mWA1_ch04', 'gHO_sBM_cAll_d20_mHO4_ch06', 'gJB_sBM_cAll_d09_mJB5_ch08', 'gJB_sBM_cAll_d09_mJB3_ch09', 'gKR_sBM_cAll_d28_mKR3_ch02', 'gWA_sBM_cAll_d27_mWA5_ch06', 'gLH_sBM_cAll_d18_mLH5_ch05', 'gMH_sBM_cAll_d23_mMH1_ch03', 'gHO_sBM_cAll_d21_mHO4_ch08', 'gJS_sBM_cAll_d01_mJS0_ch03', 'gJB_sBM_cAll_d08_mJB5_ch04', 'gJB_sBM_cAll_d09_mJB2_ch10', 'gHO_sBM_cAll_d20_mHO5_ch09', 'gJS_sBM_cAll_d01_mJS1_ch05', 'gLO_sFM_cAll_d15_mLO1_ch16', 'gJS_sFM_cAll_d01_mJS2_ch03', 'gJS_sBM_cAll_d02_mJS5_ch04', 'gHO_sFM_cAll_d21_mHO5_ch20', 'gKR_sBM_cAll_d28_mKR2_ch08', 'gLO_sBM_cAll_d14_mLO5_ch02', 'gLO_sBM_cAll_d14_mLO0_ch05', 'gMH_sBM_cAll_d23_mMH1_ch04', 'gKR_sBM_cAll_d28_mKR2_ch10', 'gLO_sBM_cAll_d13_mLO2_ch02', 'gHO_sBM_cAll_d20_mHO4_ch07', 'gWA_sBM_cAll_d25_mWA3_ch06', 'gPO_sBM_cAll_d10_mPO3_ch04', 'gJB_sBM_cAll_d07_mJB2_ch07', 'gBR_sBM_cAll_d04_mBR3_ch01', 'gBR_sBM_cAll_d04_mBR3_ch08', 'gJS_sFM_cAll_d01_mJS3_ch04', 'gLH_sBM_cAll_d17_mLH1_ch03', 'gKR_sFM_cAll_d30_mKR4_ch19', 'gJB_sBM_cAll_d08_mJB4_ch10', 'gHO_sFM_cAll_d19_mHO5_ch06', 'gBR_sFM_cAll_d04_mBR3_ch04', 'gLH_sFM_cAll_d17_mLH2_ch10', 'gKR_sBM_cAll_d29_mKR4_ch06', 'gMH_sBM_cAll_d24_mMH4_ch01', 'gPO_sBM_cAll_d12_mPO5_ch02', 'gJS_sBM_cAll_d03_mJS5_ch04', 'gHO_sBM_cAll_d19_mHO2_ch07', 'gHO_sBM_cAll_d21_mHO3_ch04', 'gJB_sBM_cAll_d09_mJB2_ch08', 'gJB_sFM_cAll_d09_mJB5_ch20', 'gJS_sBM_cAll_d01_mJS1_ch10', 'gLO_sBM_cAll_d14_mLO5_ch01', 'gMH_sBM_cAll_d22_mMH1_ch09', 'gHO_sFM_cAll_d20_mHO3_ch14', 'gJS_sBM_cAll_d01_mJS0_ch02', 'gKR_sBM_cAll_d28_mKR1_ch09', 'gLO_sBM_cAll_d13_mLO2_ch01', 'gHO_sBM_cAll_d21_mHO3_ch02', 'gJB_sBM_cAll_d08_mJB1_ch07', 'gWA_sBM_cAll_d27_mWA4_ch09', 'gMH_sBM_cAll_d22_mMH2_ch09', 'gBR_sBM_cAll_d06_mBR5_ch02', 'gWA_sBM_cAll_d25_mWA0_ch05', 'gKR_sBM_cAll_d29_mKR0_ch10', 'gMH_sBM_cAll_d24_mMH3_ch07', 'gBR_sBM_cAll_d06_mBR5_ch01', 'gHO_sBM_cAll_d21_mHO2_ch08', 'gLO_sBM_cAll_d13_mLO1_ch09', 'gHO_sFM_cAll_d20_mHO5_ch13', 'gBR_sBM_cAll_d05_mBR0_ch03', 'gPO_sBM_cAll_d11_mPO0_ch07', 'gPO_sBM_cAll_d12_mPO2_ch05', 'gWA_sBM_cAll_d27_mWA2_ch09', 'gWA_sBM_cAll_d27_mWA5_ch10', 'gLH_sBM_cAll_d16_mLH0_ch01', 'gKR_sBM_cAll_d30_mKR5_ch09', 'gLH_sBM_cAll_d18_mLH3_ch07', 'gKR_sBM_cAll_d28_mKR1_ch07', 'gWA_sBM_cAll_d27_mWA2_ch07', 'gLH_sBM_cAll_d17_mLH0_ch06', 'gLO_sBM_cAll_d14_mLO4_ch05', 'gJB_sBM_cAll_d07_mJB3_ch03', 'gHO_sBM_cAll_d20_mHO5_ch06', 'gHO_sFM_cAll_d20_mHO3_ch11', 'gBR_sBM_cAll_d04_mBR1_ch06', 'gPO_sBM_cAll_d10_mPO3_ch10', 'gPO_sBM_cAll_d10_mPO0_ch01', 'gLO_sBM_cAll_d15_mLO2_ch03', 'gPO_sBM_cAll_d11_mPO4_ch04', 'gWA_sBM_cAll_d25_mWA3_ch07', 'gWA_sFM_cAll_d26_mWA3_ch14', 'gWA_sBM_cAll_d27_mWA5_ch09', 'gLH_sBM_cAll_d17_mLH0_ch09', 'gPO_sBM_cAll_d12_mPO5_ch04', 'gWA_sBM_cAll_d25_mWA1_ch06', 'gJB_sBM_cAll_d09_mJB3_ch02', 'gLO_sFM_cAll_d13_mLO4_ch07', 'gBR_sBM_cAll_d04_mBR3_ch02', 'gJS_sBM_cAll_d02_mJS1_ch08', 'gMH_sBM_cAll_d22_mMH3_ch02', 'gJS_sBM_cAll_d02_mJS5_ch05', 'gLO_sBM_cAll_d15_mLO5_ch05', 'gWA_sBM_cAll_d26_mWA0_ch10', 'gJS_sBM_cAll_d02_mJS0_ch07', 'gLO_sBM_cAll_d15_mLO5_ch09', 'gPO_sBM_cAll_d10_mPO0_ch10', 'gBR_sBM_cAll_d05_mBR4_ch01', 'gLH_sBM_cAll_d18_mLH3_ch02', 'gHO_sBM_cAll_d21_mHO2_ch04', 'gLH_sBM_cAll_d16_mLH0_ch04', 'gKR_sBM_cAll_d30_mKR2_ch05', 'gMH_sBM_cAll_d24_mMH2_ch10', 'gLO_sBM_cAll_d15_mLO2_ch02', 'gKR_sBM_cAll_d29_mKR5_ch08', 'gLH_sBM_cAll_d17_mLH4_ch10', 'gLH_sBM_cAll_d18_mLH3_ch06', 'gLH_sFM_cAll_d17_mLH0_ch08', 'gMH_sBM_cAll_d24_mMH2_ch07', 'gMH_sBM_cAll_d23_mMH1_ch05', 'gBR_sBM_cAll_d05_mBR4_ch03', 'gMH_sBM_cAll_d24_mMH3_ch04', 'gHO_sBM_cAll_d20_mHO1_ch07', 'gJS_sBM_cAll_d01_mJS0_ch08', 'gMH_sBM_cAll_d24_mMH2_ch08', 'gWA_sBM_cAll_d25_mWA1_ch03', 'gLO_sBM_cAll_d14_mLO5_ch05', 'gWA_sBM_cAll_d25_mWA1_ch08', 'gJS_sBM_cAll_d03_mJS3_ch10', 'gHO_sBM_cAll_d19_mHO1_ch08', 'gLO_sBM_cAll_d15_mLO4_ch01', 'gKR_sBM_cAll_d30_mKR5_ch02', 'gBR_sBM_cAll_d05_mBR5_ch05', 'gPO_sFM_cAll_d12_mPO3_ch18', 'gMH_sBM_cAll_d24_mMH3_ch01', 'gJB_sBM_cAll_d09_mJB2_ch04', 'gMH_sBM_cAll_d22_mMH0_ch01', 'gPO_sBM_cAll_d10_mPO2_ch06', 'gLH_sBM_cAll_d17_mLH5_ch04', 'gJB_sBM_cAll_d08_mJB1_ch10', 'gBR_sBM_cAll_d06_mBR2_ch07', 'gLH_sBM_cAll_d18_mLH5_ch09', 'gPO_sBM_cAll_d11_mPO4_ch06', 'gKR_sFM_cAll_d29_mKR4_ch12', 'gLH_sBM_cAll_d16_mLH0_ch10', 'gKR_sBM_cAll_d30_mKR2_ch03', 'gHO_sBM_cAll_d19_mHO0_ch04', 'gLO_sBM_cAll_d13_mLO3_ch01', 'gJB_sBM_cAll_d07_mJB1_ch01', 'gJS_sBM_cAll_d01_mJS3_ch09', 'gLO_sBM_cAll_d13_mLO1_ch07', 'gPO_sBM_cAll_d10_mPO1_ch08', 'gJB_sBM_cAll_d09_mJB4_ch10', 'gJS_sBM_cAll_d02_mJS1_ch02', 'gLH_sBM_cAll_d17_mLH1_ch02', 'gWA_sBM_cAll_d26_mWA0_ch08', 'gJS_sBM_cAll_d03_mJS2_ch02', 'gPO_sBM_cAll_d10_mPO1_ch05', 'gJS_sBM_cAll_d03_mJS3_ch05', 'gKR_sBM_cAll_d28_mKR2_ch02', 'gMH_sBM_cAll_d24_mMH3_ch08', 'gLH_sBM_cAll_d17_mLH1_ch09', 'gPO_sBM_cAll_d10_mPO0_ch06', 'gBR_sFM_cAll_d04_mBR2_ch03', 'gJB_sBM_cAll_d07_mJB3_ch04', 'gJS_sFM_cAll_d03_mJS5_ch14', 'gJB_sBM_cAll_d07_mJB1_ch07', 'gWA_sBM_cAll_d26_mWA4_ch09', 'gHO_sBM_cAll_d21_mHO5_ch03', 'gKR_sFM_cAll_d28_mKR3_ch04', 'gLO_sBM_cAll_d14_mLO4_ch07', 'gLO_sFM_cAll_d14_mLO5_ch14', 'gHO_sBM_cAll_d21_mHO4_ch01', 'gLH_sBM_cAll_d17_mLH4_ch07', 'gMH_sBM_cAll_d22_mMH3_ch05', 'gWA_sBM_cAll_d27_mWA4_ch07', 'gPO_sBM_cAll_d11_mPO5_ch05', 'gJS_sBM_cAll_d02_mJS1_ch01', 'gLO_sBM_cAll_d13_mLO2_ch09', 'gMH_sBM_cAll_d23_mMH4_ch08', 'gMH_sBM_cAll_d22_mMH0_ch03', 'gLH_sBM_cAll_d17_mLH0_ch07', 'gJB_sBM_cAll_d07_mJB0_ch09', 'gWA_sBM_cAll_d27_mWA4_ch06', 'gJB_sBM_cAll_d08_mJB4_ch06', 'gJS_sBM_cAll_d02_mJS0_ch01', 'gMH_sBM_cAll_d24_mMH4_ch10', 'gBR_sBM_cAll_d04_mBR2_ch02', 'gBR_sBM_cAll_d06_mBR2_ch06', 'gLH_sFM_cAll_d16_mLH5_ch06', 'gLO_sBM_cAll_d13_mLO1_ch04', 'gJS_sBM_cAll_d02_mJS0_ch04', 'gLH_sBM_cAll_d16_mLH2_ch06', 'gLH_sBM_cAll_d16_mLH1_ch06', 'gLO_sBM_cAll_d15_mLO5_ch01', 'gMH_sBM_cAll_d23_mMH5_ch02', 'gLO_sBM_cAll_d14_mLO5_ch09', 'gJB_sBM_cAll_d09_mJB3_ch05', 'gJS_sBM_cAll_d03_mJS3_ch04', 'gHO_sFM_cAll_d19_mHO3_ch04', 'gBR_sBM_cAll_d04_mBR2_ch08', 'gHO_sBM_cAll_d20_mHO4_ch08', 'gJB_sBM_cAll_d09_mJB3_ch08', 'gJB_sFM_cAll_d08_mJB5_ch13', 'gLH_sBM_cAll_d17_mLH0_ch02', 'gLH_sBM_cAll_d16_mLH0_ch06', 'gPO_sFM_cAll_d11_mPO3_ch11', 'gBR_sBM_cAll_d05_mBR5_ch08', 'gJB_sFM_cAll_d07_mJB0_ch01', 'gKR_sBM_cAll_d29_mKR4_ch10', 'gJS_sBM_cAll_d01_mJS2_ch03', 'gJB_sBM_cAll_d09_mJB3_ch03', 'gKR_sBM_cAll_d29_mKR5_ch01', 'gLH_sBM_cAll_d17_mLH0_ch04', 'gWA_sFM_cAll_d25_mWA4_ch05', 'gJS_sBM_cAll_d02_mJS4_ch08', 'gMH_sBM_cAll_d24_mMH3_ch06', 'gLO_sBM_cAll_d14_mLO5_ch04', 'gMH_sBM_cAll_d24_mMH3_ch02', 'gLO_sBM_cAll_d15_mLO4_ch08', 'gWA_sBM_cAll_d26_mWA0_ch02', 'gWA_sBM_cAll_d25_mWA3_ch05', 'gKR_sFM_cAll_d29_mKR1_ch09', 'gJB_sBM_cAll_d09_mJB4_ch06', 'gMH_sBM_cAll_d24_mMH5_ch06', 'gBR_sFM_cAll_d05_mBR5_ch14', 'gMH_sBM_cAll_d23_mMH5_ch04', 'gBR_sFM_cAll_d06_mBR1_ch15', 'gPO_sBM_cAll_d10_mPO0_ch02', 'gKR_sBM_cAll_d30_mKR5_ch04', 'gJS_sBM_cAll_d01_mJS2_ch08', 'gLO_sBM_cAll_d13_mLO2_ch05', 'gBR_sBM_cAll_d06_mBR3_ch07', 'gLH_sBM_cAll_d17_mLH5_ch07', 'gWA_sBM_cAll_d27_mWA5_ch08', 'gLH_sBM_cAll_d17_mLH4_ch06', 'gJB_sBM_cAll_d07_mJB2_ch02', 'gHO_sBM_cAll_d20_mHO5_ch03', 'gBR_sBM_cAll_d05_mBR1_ch09', 'gMH_sBM_cAll_d23_mMH5_ch09', 'gLO_sFM_cAll_d13_mLO3_ch04', 'gLH_sBM_cAll_d17_mLH4_ch02', 'gPO_sBM_cAll_d12_mPO4_ch10', 'gPO_sFM_cAll_d10_mPO5_ch06', 'gLO_sBM_cAll_d13_mLO0_ch10', 'gHO_sFM_cAll_d19_mHO1_ch02', 'gMH_sFM_cAll_d22_mMH4_ch05', 'gKR_sBM_cAll_d28_mKR3_ch07', 'gLH_sBM_cAll_d16_mLH1_ch10', 'gJS_sBM_cAll_d02_mJS5_ch01', 'gPO_sBM_cAll_d10_mPO3_ch03', 'gWA_sBM_cAll_d27_mWA4_ch05', 'gPO_sBM_cAll_d12_mPO5_ch06', 'gPO_sBM_cAll_d10_mPO2_ch02', 'gPO_sBM_cAll_d11_mPO4_ch05', 'gPO_sFM_cAll_d12_mPO5_ch20', 'gHO_sBM_cAll_d20_mHO5_ch07', 'gJS_sBM_cAll_d01_mJS2_ch01', 'gJS_sBM_cAll_d02_mJS0_ch06', 'gHO_sBM_cAll_d19_mHO2_ch03', 'gPO_sBM_cAll_d12_mPO3_ch07', 'gBR_sBM_cAll_d05_mBR1_ch05', 'gPO_sBM_cAll_d12_mPO3_ch01', 'gKR_sBM_cAll_d29_mKR0_ch02', 'gHO_sBM_cAll_d21_mHO2_ch07', 'gJS_sBM_cAll_d01_mJS1_ch08', 'gMH_sBM_cAll_d23_mMH0_ch05', 'gHO_sBM_cAll_d19_mHO0_ch02', 'gLO_sBM_cAll_d13_mLO3_ch09', 'gBR_sBM_cAll_d06_mBR4_ch08', 'gBR_sBM_cAll_d04_mBR2_ch01', 'gMH_sBM_cAll_d24_mMH2_ch03', 'gKR_sFM_cAll_d28_mKR0_ch01', 'gWA_sBM_cAll_d26_mWA0_ch01', 'gLO_sBM_cAll_d13_mLO0_ch07', 'gKR_sBM_cAll_d28_mKR2_ch01', 'gKR_sFM_cAll_d29_mKR3_ch11', 'gKR_sBM_cAll_d30_mKR2_ch06', 'gLH_sBM_cAll_d16_mLH2_ch09', 'gJS_sBM_cAll_d02_mJS0_ch08', 'gBR_sBM_cAll_d06_mBR4_ch02', 'gWA_sBM_cAll_d26_mWA1_ch08', 'gLO_sBM_cAll_d15_mLO2_ch09', 'gLH_sBM_cAll_d18_mLH5_ch08', 'gLH_sBM_cAll_d17_mLH1_ch10', 'gMH_sBM_cAll_d23_mMH0_ch10', 'gHO_sBM_cAll_d20_mHO1_ch06', 'gLH_sBM_cAll_d17_mLH5_ch09', 'gJS_sBM_cAll_d03_mJS2_ch07', 'gJB_sBM_cAll_d09_mJB2_ch02', 'gWA_sBM_cAll_d27_mWA3_ch06', 'gBR_sBM_cAll_d06_mBR5_ch04', 'gKR_sBM_cAll_d29_mKR5_ch09', 'gWA_sBM_cAll_d26_mWA0_ch04', 'gJB_sBM_cAll_d07_mJB1_ch05', 'gWA_sBM_cAll_d27_mWA5_ch01', 'gWA_sBM_cAll_d25_mWA0_ch08', 'gMH_sFM_cAll_d23_mMH4_ch12', 'gPO_sBM_cAll_d12_mPO2_ch03', 'gMH_sBM_cAll_d22_mMH3_ch09', 'gPO_sBM_cAll_d11_mPO0_ch08', 'gBR_sFM_cAll_d04_mBR0_ch01', 'gKR_sBM_cAll_d29_mKR4_ch04', 'gPO_sBM_cAll_d11_mPO4_ch02', 'gJB_sBM_cAll_d07_mJB3_ch01', 'gJB_sBM_cAll_d08_mJB1_ch08', 'gJS_sBM_cAll_d02_mJS4_ch01', 'gMH_sFM_cAll_d22_mMH2_ch03', 'gPO_sBM_cAll_d12_mPO5_ch03', 'gPO_sBM_cAll_d10_mPO2_ch09', 'gKR_sBM_cAll_d30_mKR2_ch09', 'gJS_sBM_cAll_d02_mJS1_ch09', 'gJB_sBM_cAll_d07_mJB2_ch06', 'gPO_sBM_cAll_d10_mPO2_ch01', 'gLH_sBM_cAll_d17_mLH5_ch01', 'gJB_sBM_cAll_d09_mJB4_ch05', 'gLH_sBM_cAll_d18_mLH5_ch01', 'gBR_sBM_cAll_d04_mBR0_ch10', 'gLO_sBM_cAll_d15_mLO4_ch02', 'gLH_sBM_cAll_d18_mLH4_ch04', 'gLO_sBM_cAll_d13_mLO2_ch08', 'gJB_sBM_cAll_d08_mJB4_ch03', 'gBR_sBM_cAll_d05_mBR4_ch02', 'gWA_sBM_cAll_d27_mWA3_ch05', 'gWA_sBM_cAll_d25_mWA3_ch09', 'gMH_sBM_cAll_d24_mMH5_ch08', 'gJS_sFM_cAll_d01_mJS0_ch01', 'gKR_sBM_cAll_d30_mKR3_ch09', 'gMH_sFM_cAll_d23_mMH2_ch10', 'gWA_sBM_cAll_d25_mWA1_ch07', 'gBR_sBM_cAll_d06_mBR2_ch05', 'gKR_sBM_cAll_d30_mKR4_ch08', 'gHO_sBM_cAll_d19_mHO1_ch04', 'gHO_sFM_cAll_d19_mHO4_ch05', 'gPO_sBM_cAll_d10_mPO1_ch09', 'gJS_sBM_cAll_d01_mJS3_ch07', 'gHO_sFM_cAll_d20_mHO0_ch08', 'gWA_sBM_cAll_d27_mWA2_ch08', 'gJS_sBM_cAll_d03_mJS4_ch03', 'gWA_sBM_cAll_d25_mWA2_ch05', 'gWA_sBM_cAll_d25_mWA0_ch03', 'gPO_sBM_cAll_d10_mPO0_ch08', 'gHO_sBM_cAll_d21_mHO2_ch05', 'gKR_sBM_cAll_d30_mKR4_ch05', 'gKR_sBM_cAll_d28_mKR0_ch05', 'gPO_sBM_cAll_d11_mPO1_ch07', 'gBR_sBM_cAll_d04_mBR1_ch01', 'gMH_sBM_cAll_d22_mMH2_ch02', 'gLH_sBM_cAll_d16_mLH0_ch02', 'gWA_sBM_cAll_d26_mWA4_ch07', 'gHO_sBM_cAll_d20_mHO0_ch09', 'gMH_sBM_cAll_d23_mMH0_ch04', 'gMH_sBM_cAll_d23_mMH1_ch08', 'gHO_sBM_cAll_d19_mHO3_ch05', 'gWA_sBM_cAll_d26_mWA4_ch04', 'gJS_sBM_cAll_d03_mJS4_ch05', 'gKR_sBM_cAll_d30_mKR4_ch06', 'gJB_sBM_cAll_d09_mJB2_ch09', 'gHO_sBM_cAll_d19_mHO3_ch08', 'gJB_sBM_cAll_d07_mJB3_ch05', 'gLO_sBM_cAll_d15_mLO3_ch06', 'gMH_sBM_cAll_d23_mMH1_ch10', 'gJB_sFM_cAll_d08_mJB4_ch12', 'gMH_sBM_cAll_d22_mMH1_ch10', 'gLO_sFM_cAll_d14_mLO4_ch12', 'gJS_sBM_cAll_d02_mJS0_ch05', 'gBR_sBM_cAll_d06_mBR3_ch03', 'gLO_sBM_cAll_d15_mLO5_ch07', 'gPO_sBM_cAll_d10_mPO2_ch05', 'gBR_sBM_cAll_d06_mBR4_ch05', 'gLH_sBM_cAll_d16_mLH2_ch08', 'gJB_sBM_cAll_d07_mJB1_ch04', 'gMH_sBM_cAll_d24_mMH2_ch02', 'gLH_sBM_cAll_d16_mLH3_ch06', 'gKR_sBM_cAll_d30_mKR4_ch07', 'gWA_sBM_cAll_d26_mWA0_ch09', 'gHO_sBM_cAll_d19_mHO3_ch03', 'gHO_sFM_cAll_d21_mHO2_ch17', 'gJB_sBM_cAll_d08_mJB0_ch01', 'gLO_sBM_cAll_d14_mLO4_ch10', 'gPO_sBM_cAll_d10_mPO2_ch08', 'gWA_sBM_cAll_d27_mWA5_ch03', 'gWA_sFM_cAll_d27_mWA5_ch20', 'gKR_sBM_cAll_d29_mKR0_ch05', 'gLH_sFM_cAll_d18_mLH4_ch19', 'gJB_sBM_cAll_d09_mJB3_ch07', 'gJB_sBM_cAll_d08_mJB0_ch02', 'gJB_sBM_cAll_d08_mJB0_ch10', 'gWA_sBM_cAll_d26_mWA5_ch05', 'gBR_sBM_cAll_d06_mBR3_ch09', 'gLH_sBM_cAll_d18_mLH3_ch01', 'gJB_sBM_cAll_d09_mJB4_ch02', 'gPO_sBM_cAll_d10_mPO2_ch03', 'gLO_sBM_cAll_d14_mLO1_ch09', 'gBR_sBM_cAll_d06_mBR4_ch07', 'gBR_sBM_cAll_d05_mBR5_ch10', 'gJS_sBM_cAll_d01_mJS1_ch02', 'gJS_sBM_cAll_d01_mJS3_ch04', 'gLO_sBM_cAll_d13_mLO1_ch02', 'gJB_sBM_cAll_d09_mJB4_ch03', 'gBR_sFM_cAll_d04_mBR1_ch02', 'gLH_sBM_cAll_d18_mLH5_ch03', 'gKR_sBM_cAll_d30_mKR3_ch01', 'gHO_sFM_cAll_d21_mHO3_ch18', 'gPO_sFM_cAll_d12_mPO4_ch19', 'gWA_sBM_cAll_d25_mWA2_ch09', 'gMH_sBM_cAll_d24_mMH5_ch01', 'gPO_sFM_cAll_d10_mPO1_ch02', 'gPO_sBM_cAll_d11_mPO4_ch09', 'gJS_sBM_cAll_d03_mJS2_ch10', 'gHO_sBM_cAll_d19_mHO0_ch06', 'gKR_sBM_cAll_d28_mKR3_ch01', 'gMH_sBM_cAll_d22_mMH0_ch06', 'gLH_sBM_cAll_d16_mLH3_ch09', 'gKR_sBM_cAll_d28_mKR0_ch07', 'gJS_sBM_cAll_d02_mJS5_ch08', 'gMH_sBM_cAll_d22_mMH2_ch04', 'gLO_sBM_cAll_d15_mLO4_ch04', 'gLO_sBM_cAll_d13_mLO3_ch05', 'gJB_sBM_cAll_d09_mJB3_ch10', 'gWA_sFM_cAll_d25_mWA0_ch01', 'gJB_sBM_cAll_d07_mJB0_ch08', 'gKR_sBM_cAll_d29_mKR0_ch08', 'gKR_sBM_cAll_d30_mKR3_ch08', 'gJB_sFM_cAll_d09_mJB2_ch17', 'gWA_sBM_cAll_d25_mWA3_ch01', 'gLO_sFM_cAll_d15_mLO2_ch17', 'gPO_sBM_cAll_d11_mPO5_ch08', 'gLO_sBM_cAll_d15_mLO4_ch10', 'gMH_sBM_cAll_d24_mMH5_ch05', 'gJB_sBM_cAll_d08_mJB5_ch01', 'gJS_sFM_cAll_d02_mJS3_ch04', 'gJB_sBM_cAll_d07_mJB3_ch02', 'gPO_sBM_cAll_d12_mPO4_ch01', 'gBR_sBM_cAll_d05_mBR1_ch08', 'gWA_sBM_cAll_d27_mWA5_ch04', 'gMH_sFM_cAll_d24_mMH5_ch20', 'gHO_sBM_cAll_d20_mHO1_ch05', 'gLH_sBM_cAll_d17_mLH4_ch09', 'gMH_sBM_cAll_d23_mMH4_ch03', 'gJB_sBM_cAll_d08_mJB0_ch09', 'gKR_sBM_cAll_d28_mKR1_ch01', 'gJS_sBM_cAll_d03_mJS3_ch06', 'gWA_sFM_cAll_d26_mWA3_ch11', 'gKR_sFM_cAll_d28_mKR1_ch02', 'gMH_sBM_cAll_d22_mMH0_ch10', 'gPO_sBM_cAll_d11_mPO1_ch01', 'gKR_sBM_cAll_d30_mKR4_ch09', 'gJS_sBM_cAll_d01_mJS2_ch04', 'gLO_sBM_cAll_d15_mLO3_ch05', 'gKR_sBM_cAll_d29_mKR1_ch10', 'gBR_sBM_cAll_d04_mBR2_ch04', 'gBR_sBM_cAll_d04_mBR2_ch07', 'gMH_sFM_cAll_d22_mMH3_ch04', 'gLO_sBM_cAll_d15_mLO4_ch09', 'gWA_sBM_cAll_d26_mWA4_ch01', 'gJS_sBM_cAll_d01_mJS2_ch05', 'gPO_sBM_cAll_d11_mPO5_ch03', 'gBR_sBM_cAll_d04_mBR2_ch05', 'gPO_sBM_cAll_d10_mPO0_ch05', 'gBR_sBM_cAll_d05_mBR4_ch06', 'gLO_sBM_cAll_d15_mLO3_ch09', 'gLO_sBM_cAll_d14_mLO0_ch03', 'gLH_sBM_cAll_d17_mLH0_ch10', 'gKR_sBM_cAll_d29_mKR5_ch07', 'gJS_sBM_cAll_d01_mJS2_ch10', 'gJB_sBM_cAll_d08_mJB5_ch03', 'gBR_sBM_cAll_d06_mBR3_ch10', 'gBR_sFM_cAll_d05_mBR3_ch10', 'gLH_sBM_cAll_d16_mLH0_ch03', 'gWA_sBM_cAll_d26_mWA0_ch07', 'gJS_sBM_cAll_d02_mJS0_ch09', 'gWA_sBM_cAll_d25_mWA2_ch08', 'gBR_sBM_cAll_d06_mBR5_ch06', 'gLH_sFM_cAll_d17_mLH3_ch11', 'gJB_sBM_cAll_d08_mJB5_ch02', 'gLH_sBM_cAll_d16_mLH0_ch05', 'gPO_sBM_cAll_d10_mPO0_ch07', 'gLH_sBM_cAll_d18_mLH4_ch07', 'gPO_sFM_cAll_d11_mPO1_ch09', 'gPO_sFM_cAll_d10_mPO0_ch01', 'gLH_sBM_cAll_d16_mLH2_ch05', 'gHO_sBM_cAll_d21_mHO4_ch07', 'gJB_sFM_cAll_d07_mJB5_ch06', 'gPO_sBM_cAll_d10_mPO0_ch03', 'gMH_sBM_cAll_d24_mMH4_ch03', 'gJS_sBM_cAll_d01_mJS0_ch01', 'gMH_sBM_cAll_d22_mMH1_ch07', 'gBR_sBM_cAll_d04_mBR1_ch07', 'gMH_sFM_cAll_d22_mMH0_ch01', 'gWA_sBM_cAll_d27_mWA5_ch07', 'gPO_sBM_cAll_d12_mPO4_ch04', 'gBR_sBM_cAll_d06_mBR5_ch10', 'gMH_sBM_cAll_d22_mMH2_ch10', 'gLH_sFM_cAll_d18_mLH5_ch20', 'gJB_sBM_cAll_d07_mJB2_ch08', 'gLO_sBM_cAll_d15_mLO5_ch10', 'gKR_sFM_cAll_d29_mKR0_ch08', 'gMH_sBM_cAll_d23_mMH0_ch06', 'gLO_sBM_cAll_d14_mLO1_ch08', 'gLO_sBM_cAll_d14_mLO1_ch01', 'gWA_sBM_cAll_d25_mWA1_ch01', 'gWA_sBM_cAll_d25_mWA2_ch10', 'gJS_sBM_cAll_d03_mJS4_ch01', 'gJS_sBM_cAll_d01_mJS1_ch04', 'gLH_sBM_cAll_d18_mLH2_ch07', 'gWA_sBM_cAll_d25_mWA1_ch10', 'gPO_sBM_cAll_d12_mPO3_ch02', 'gKR_sBM_cAll_d28_mKR3_ch05', 'gMH_sBM_cAll_d24_mMH5_ch09', 'gKR_sBM_cAll_d29_mKR4_ch05', 'gKR_sBM_cAll_d28_mKR1_ch02', 'gWA_sBM_cAll_d26_mWA5_ch07', 'gLH_sBM_cAll_d18_mLH5_ch02', 'gMH_sBM_cAll_d23_mMH1_ch09', 'gJB_sBM_cAll_d09_mJB5_ch07', 'gKR_sBM_cAll_d30_mKR3_ch07', 'gBR_sBM_cAll_d05_mBR5_ch07', 'gLH_sBM_cAll_d18_mLH5_ch07', 'gLH_sBM_cAll_d16_mLH0_ch08', 'gPO_sBM_cAll_d12_mPO4_ch06', 'gKR_sBM_cAll_d28_mKR3_ch03', 'gPO_sBM_cAll_d10_mPO1_ch04', 'gHO_sBM_cAll_d19_mHO0_ch03', 'gKR_sBM_cAll_d29_mKR4_ch07', 'gBR_sBM_cAll_d04_mBR1_ch10', 'gJB_sBM_cAll_d09_mJB4_ch08', 'gLH_sBM_cAll_d18_mLH2_ch04'])\n"
          ]
        }
      ]
    },
    {
      "cell_type": "code",
      "source": [
        "print(audio_dict.keys())"
      ],
      "metadata": {
        "colab": {
          "base_uri": "https://localhost:8080/"
        },
        "id": "pQDS4MlrPnqq",
        "outputId": "614ca53b-800c-44e2-e764-6050de7e0251"
      },
      "execution_count": 18,
      "outputs": [
        {
          "output_type": "stream",
          "name": "stdout",
          "text": [
            "dict_keys(['mJB1', 'mPO4', 'mWA2', 'mWA1', 'mBR4', 'mJB4', 'mLO1', 'mWA0', 'mLH0', 'mBR0', 'mHO3', 'mLH1', 'mMH0', 'mKR0', 'mHO2', 'mLO3', 'mMH5', 'mKR3', 'mBR1', 'mKR1', 'mKR2', 'mJS4', 'mLO4', 'mLH5', 'mJB3', 'mJB0', 'mLO2', 'mKR5', 'mJS1', 'mWA4', 'mPO1', 'mLH2', 'mBR3', 'mMH1', 'mPO2', 'mMH3', 'mLH4', 'mLH3', 'mMH4', 'mBR5', 'mPO0', 'mLO0', 'mHO0', 'mJB5', 'mHO4', 'mBR2', 'mKR4', 'mHO5', 'mJB2', 'mPO3', 'mJS5', 'mJS0', 'mLO5', 'mWA5', 'mJS2', 'mPO5', 'mHO1', 'mWA3', 'mMH2', 'mJS3'])\n"
          ]
        }
      ]
    },
    {
      "cell_type": "code",
      "source": [
        "X = []\n",
        "y = []\n",
        "for ak in audio_dict.keys():\n",
        "  mks = [k for k in motion_dict.keys() if ak in k]\n",
        "  for mk in mks:\n",
        "    X.append(motion_dict[mk])\n",
        "    y.append(audio_dict[ak])"
      ],
      "metadata": {
        "id": "4_Bp-uCPRcHv"
      },
      "execution_count": 20,
      "outputs": []
    },
    {
      "cell_type": "code",
      "source": [
        "X = np.array(X)\n",
        "y = np.array(y)\n",
        "print(X.shape, y.shape)"
      ],
      "metadata": {
        "colab": {
          "base_uri": "https://localhost:8080/"
        },
        "id": "caquz5NASaui",
        "outputId": "c4f1e93a-e7ef-42f3-8937-f00eb2c0c702"
      },
      "execution_count": 22,
      "outputs": [
        {
          "output_type": "stream",
          "name": "stdout",
          "text": [
            "(1408, 425, 17, 3) (1408, 128, 1272)\n"
          ]
        }
      ]
    },
    {
      "cell_type": "code",
      "source": [
        "import tensorflow.keras as keras\n",
        "from tensorflow.keras import layers\n",
        "\n",
        "input_img = keras.Input(shape=(426, 17, 3))\n",
        "\n",
        "x = layers.Conv2D(16, (3, 3), activation='relu', padding='same')(input_img)\n",
        "x = layers.MaxPooling2D((2, 2), padding='same')(x)\n",
        "x = layers.Conv2D(8, (3, 3), activation='relu', padding='same')(x)\n",
        "x = layers.MaxPooling2D((2, 2), padding='same')(x)\n",
        "x = layers.Conv2D(8, (3, 3), activation='relu', padding='same')(x)\n",
        "encoded = layers.MaxPooling2D((2, 2), padding='same')(x)\n",
        "\n",
        "# at this point the representation is (4, 4, 8) i.e. 128-dimensional\n",
        "\n",
        "x = layers.Conv2D(8, (3, 3), activation='relu', padding='same')(encoded)\n",
        "x = layers.UpSampling2D((2, 2))(x)\n",
        "x = layers.Conv2D(8, (3, 3), activation='relu', padding='same')(x)\n",
        "x = layers.UpSampling2D((2, 2))(x)\n",
        "x = layers.Conv2D(16, (3, 3), activation='relu')(x)\n",
        "x = layers.UpSampling2D((2, 2))(x)\n",
        "decoded = layers.Conv2D(1, (3, 3), activation='sigmoid', padding='same')(x)\n",
        "\n",
        "autoencoder = keras.Model(input_img, decoded)\n",
        "autoencoder.compile(optimizer='adam', loss='binary_crossentropy')"
      ],
      "metadata": {
        "id": "2xGOEVPdxQAl"
      },
      "execution_count": null,
      "outputs": []
    },
    {
      "cell_type": "code",
      "source": [
        "res = librosa.feature.inverse.mel_to_audio(spec, \n",
        "                                           sr=my_sample_rate, \n",
        "                                           n_fft=2048, \n",
        "                                           hop_length=512, \n",
        "                                           win_length=None, \n",
        "                                           window='hann', \n",
        "                                           center=True, \n",
        "                                           pad_mode='reflect', \n",
        "                                           power=2.0, \n",
        "                                           n_iter=32)\n",
        "\n",
        "import soundfile as sf\n",
        "sf.write(\"test1.wav\", res, sashi_sr)"
      ],
      "metadata": {
        "id": "tT5bPm0aqwgy"
      },
      "execution_count": null,
      "outputs": []
    }
  ],
  "metadata": {
    "colab": {
      "provenance": [],
      "authorship_tag": "ABX9TyMFIQJWJMxqAhz7W5vdBz+k",
      "include_colab_link": true
    },
    "kernelspec": {
      "display_name": "Python 3",
      "name": "python3"
    },
    "language_info": {
      "name": "python"
    }
  },
  "nbformat": 4,
  "nbformat_minor": 0
}